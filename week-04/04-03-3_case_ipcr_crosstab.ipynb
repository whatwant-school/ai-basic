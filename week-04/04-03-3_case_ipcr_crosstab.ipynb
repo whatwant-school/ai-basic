{
  "cells": [
    {
      "cell_type": "code",
      "execution_count": 1,
      "metadata": {
        "ExecuteTime": {
          "end_time": "2018-02-13T10:54:29.056569Z",
          "start_time": "2018-02-13T10:54:28.660502Z"
        },
        "collapsed": true,
        "id": "SQxX8yrM4QqY"
      },
      "outputs": [],
      "source": [
        "import pandas as pd"
      ]
    },
    {
      "cell_type": "code",
      "source": [
        "!wget https://s3.amazonaws.com/data.patentsview.org/download/ipcr.tsv.zip"
      ],
      "metadata": {
        "colab": {
          "base_uri": "https://localhost:8080/"
        },
        "id": "eKASVaqq5cah",
        "outputId": "5141eb2f-0aad-497b-e533-05cb0a36d4d2"
      },
      "execution_count": 2,
      "outputs": [
        {
          "output_type": "stream",
          "name": "stdout",
          "text": [
            "--2023-02-15 16:36:52--  https://s3.amazonaws.com/data.patentsview.org/download/ipcr.tsv.zip\n",
            "Resolving s3.amazonaws.com (s3.amazonaws.com)... 52.217.203.232, 52.216.53.32, 52.216.179.125, ...\n",
            "Connecting to s3.amazonaws.com (s3.amazonaws.com)|52.217.203.232|:443... connected.\n",
            "HTTP request sent, awaiting response... 200 OK\n",
            "Length: 675907728 (645M) [binary/octet-stream]\n",
            "Saving to: ‘ipcr.tsv.zip’\n",
            "\n",
            "ipcr.tsv.zip        100%[===================>] 644.60M  59.8MB/s    in 11s     \n",
            "\n",
            "2023-02-15 16:37:04 (56.8 MB/s) - ‘ipcr.tsv.zip’ saved [675907728/675907728]\n",
            "\n"
          ]
        }
      ]
    },
    {
      "cell_type": "code",
      "source": [
        "!unzip ./ipcr.tsv.zip"
      ],
      "metadata": {
        "colab": {
          "base_uri": "https://localhost:8080/"
        },
        "id": "-8x63Ofg5qJy",
        "outputId": "f2a31e25-b5ad-4f75-c652-d91f55de8090"
      },
      "execution_count": 3,
      "outputs": [
        {
          "output_type": "stream",
          "name": "stdout",
          "text": [
            "Archive:  ./ipcr.tsv.zip\n",
            "  inflating: ipcr.tsv                \n"
          ]
        }
      ]
    },
    {
      "cell_type": "code",
      "execution_count": 4,
      "metadata": {
        "ExecuteTime": {
          "end_time": "2018-02-13T10:54:55.894944Z",
          "start_time": "2018-02-13T10:54:29.570559Z"
        },
        "colab": {
          "base_uri": "https://localhost:8080/",
          "height": 307
        },
        "id": "TJ05AXnN4QqZ",
        "outputId": "8ae2ac4e-4769-4040-e024-c93035cb1c3e"
      },
      "outputs": [
        {
          "output_type": "stream",
          "name": "stderr",
          "text": [
            "/usr/local/lib/python3.8/dist-packages/IPython/core/interactiveshell.py:3326: DtypeWarning: Columns (4) have mixed types.Specify dtype option on import or set low_memory=False.\n",
            "  exec(code_obj, self.user_global_ns, self.user_ns)\n"
          ]
        },
        {
          "output_type": "execute_result",
          "data": {
            "text/plain": [
              "                        uuid patent_id classification_level section ipc_class  \\\n",
              "0  00005z3qh82fwpo5r1oupwpr3   6864832                  NaN       G        01   \n",
              "1  0000662nssr53hdo3lp92sz26   9954111                    A       H        01   \n",
              "2  00008u9j3g8oivqtuc1dqayb1  10048897                    A       G        06   \n",
              "3  00008v5gnw215cdjozwehxqky  10694566                    A       H         4   \n",
              "4  0000hj3ytmy8g9l2qa5x1hta5   D409748                  NaN       D        24   \n",
              "\n",
              "  subclass main_group subgroup symbol_position classification_value  \\\n",
              "0        S        013      /42             NaN                  NaN   \n",
              "1        L         27     1156               L                    I   \n",
              "2        F         12      891               L                    I   \n",
              "3        W          4        0               F                    I   \n",
              "4       04        NaN      NaN             NaN                  NaN   \n",
              "\n",
              "  classification_status classification_data_source action_date  \\\n",
              "0                   NaN                        NaN         NaN   \n",
              "1                     B                          H  2018-04-24   \n",
              "2                     B                          H  2018-08-14   \n",
              "3                     B                          H  2020-06-23   \n",
              "4                   NaN                        NaN         NaN   \n",
              "\n",
              "  ipc_version_indicator  sequence  \n",
              "0                   NaN         0  \n",
              "1            2017-01-01         8  \n",
              "2            2016-01-01         7  \n",
              "3            2018-01-01         0  \n",
              "4                   NaN         0  "
            ],
            "text/html": [
              "\n",
              "  <div id=\"df-3807d7f5-532c-4d0a-8d76-063649c2cb03\">\n",
              "    <div class=\"colab-df-container\">\n",
              "      <div>\n",
              "<style scoped>\n",
              "    .dataframe tbody tr th:only-of-type {\n",
              "        vertical-align: middle;\n",
              "    }\n",
              "\n",
              "    .dataframe tbody tr th {\n",
              "        vertical-align: top;\n",
              "    }\n",
              "\n",
              "    .dataframe thead th {\n",
              "        text-align: right;\n",
              "    }\n",
              "</style>\n",
              "<table border=\"1\" class=\"dataframe\">\n",
              "  <thead>\n",
              "    <tr style=\"text-align: right;\">\n",
              "      <th></th>\n",
              "      <th>uuid</th>\n",
              "      <th>patent_id</th>\n",
              "      <th>classification_level</th>\n",
              "      <th>section</th>\n",
              "      <th>ipc_class</th>\n",
              "      <th>subclass</th>\n",
              "      <th>main_group</th>\n",
              "      <th>subgroup</th>\n",
              "      <th>symbol_position</th>\n",
              "      <th>classification_value</th>\n",
              "      <th>classification_status</th>\n",
              "      <th>classification_data_source</th>\n",
              "      <th>action_date</th>\n",
              "      <th>ipc_version_indicator</th>\n",
              "      <th>sequence</th>\n",
              "    </tr>\n",
              "  </thead>\n",
              "  <tbody>\n",
              "    <tr>\n",
              "      <th>0</th>\n",
              "      <td>00005z3qh82fwpo5r1oupwpr3</td>\n",
              "      <td>6864832</td>\n",
              "      <td>NaN</td>\n",
              "      <td>G</td>\n",
              "      <td>01</td>\n",
              "      <td>S</td>\n",
              "      <td>013</td>\n",
              "      <td>/42</td>\n",
              "      <td>NaN</td>\n",
              "      <td>NaN</td>\n",
              "      <td>NaN</td>\n",
              "      <td>NaN</td>\n",
              "      <td>NaN</td>\n",
              "      <td>NaN</td>\n",
              "      <td>0</td>\n",
              "    </tr>\n",
              "    <tr>\n",
              "      <th>1</th>\n",
              "      <td>0000662nssr53hdo3lp92sz26</td>\n",
              "      <td>9954111</td>\n",
              "      <td>A</td>\n",
              "      <td>H</td>\n",
              "      <td>01</td>\n",
              "      <td>L</td>\n",
              "      <td>27</td>\n",
              "      <td>1156</td>\n",
              "      <td>L</td>\n",
              "      <td>I</td>\n",
              "      <td>B</td>\n",
              "      <td>H</td>\n",
              "      <td>2018-04-24</td>\n",
              "      <td>2017-01-01</td>\n",
              "      <td>8</td>\n",
              "    </tr>\n",
              "    <tr>\n",
              "      <th>2</th>\n",
              "      <td>00008u9j3g8oivqtuc1dqayb1</td>\n",
              "      <td>10048897</td>\n",
              "      <td>A</td>\n",
              "      <td>G</td>\n",
              "      <td>06</td>\n",
              "      <td>F</td>\n",
              "      <td>12</td>\n",
              "      <td>891</td>\n",
              "      <td>L</td>\n",
              "      <td>I</td>\n",
              "      <td>B</td>\n",
              "      <td>H</td>\n",
              "      <td>2018-08-14</td>\n",
              "      <td>2016-01-01</td>\n",
              "      <td>7</td>\n",
              "    </tr>\n",
              "    <tr>\n",
              "      <th>3</th>\n",
              "      <td>00008v5gnw215cdjozwehxqky</td>\n",
              "      <td>10694566</td>\n",
              "      <td>A</td>\n",
              "      <td>H</td>\n",
              "      <td>4</td>\n",
              "      <td>W</td>\n",
              "      <td>4</td>\n",
              "      <td>0</td>\n",
              "      <td>F</td>\n",
              "      <td>I</td>\n",
              "      <td>B</td>\n",
              "      <td>H</td>\n",
              "      <td>2020-06-23</td>\n",
              "      <td>2018-01-01</td>\n",
              "      <td>0</td>\n",
              "    </tr>\n",
              "    <tr>\n",
              "      <th>4</th>\n",
              "      <td>0000hj3ytmy8g9l2qa5x1hta5</td>\n",
              "      <td>D409748</td>\n",
              "      <td>NaN</td>\n",
              "      <td>D</td>\n",
              "      <td>24</td>\n",
              "      <td>04</td>\n",
              "      <td>NaN</td>\n",
              "      <td>NaN</td>\n",
              "      <td>NaN</td>\n",
              "      <td>NaN</td>\n",
              "      <td>NaN</td>\n",
              "      <td>NaN</td>\n",
              "      <td>NaN</td>\n",
              "      <td>NaN</td>\n",
              "      <td>0</td>\n",
              "    </tr>\n",
              "  </tbody>\n",
              "</table>\n",
              "</div>\n",
              "      <button class=\"colab-df-convert\" onclick=\"convertToInteractive('df-3807d7f5-532c-4d0a-8d76-063649c2cb03')\"\n",
              "              title=\"Convert this dataframe to an interactive table.\"\n",
              "              style=\"display:none;\">\n",
              "        \n",
              "  <svg xmlns=\"http://www.w3.org/2000/svg\" height=\"24px\"viewBox=\"0 0 24 24\"\n",
              "       width=\"24px\">\n",
              "    <path d=\"M0 0h24v24H0V0z\" fill=\"none\"/>\n",
              "    <path d=\"M18.56 5.44l.94 2.06.94-2.06 2.06-.94-2.06-.94-.94-2.06-.94 2.06-2.06.94zm-11 1L8.5 8.5l.94-2.06 2.06-.94-2.06-.94L8.5 2.5l-.94 2.06-2.06.94zm10 10l.94 2.06.94-2.06 2.06-.94-2.06-.94-.94-2.06-.94 2.06-2.06.94z\"/><path d=\"M17.41 7.96l-1.37-1.37c-.4-.4-.92-.59-1.43-.59-.52 0-1.04.2-1.43.59L10.3 9.45l-7.72 7.72c-.78.78-.78 2.05 0 2.83L4 21.41c.39.39.9.59 1.41.59.51 0 1.02-.2 1.41-.59l7.78-7.78 2.81-2.81c.8-.78.8-2.07 0-2.86zM5.41 20L4 18.59l7.72-7.72 1.47 1.35L5.41 20z\"/>\n",
              "  </svg>\n",
              "      </button>\n",
              "      \n",
              "  <style>\n",
              "    .colab-df-container {\n",
              "      display:flex;\n",
              "      flex-wrap:wrap;\n",
              "      gap: 12px;\n",
              "    }\n",
              "\n",
              "    .colab-df-convert {\n",
              "      background-color: #E8F0FE;\n",
              "      border: none;\n",
              "      border-radius: 50%;\n",
              "      cursor: pointer;\n",
              "      display: none;\n",
              "      fill: #1967D2;\n",
              "      height: 32px;\n",
              "      padding: 0 0 0 0;\n",
              "      width: 32px;\n",
              "    }\n",
              "\n",
              "    .colab-df-convert:hover {\n",
              "      background-color: #E2EBFA;\n",
              "      box-shadow: 0px 1px 2px rgba(60, 64, 67, 0.3), 0px 1px 3px 1px rgba(60, 64, 67, 0.15);\n",
              "      fill: #174EA6;\n",
              "    }\n",
              "\n",
              "    [theme=dark] .colab-df-convert {\n",
              "      background-color: #3B4455;\n",
              "      fill: #D2E3FC;\n",
              "    }\n",
              "\n",
              "    [theme=dark] .colab-df-convert:hover {\n",
              "      background-color: #434B5C;\n",
              "      box-shadow: 0px 1px 3px 1px rgba(0, 0, 0, 0.15);\n",
              "      filter: drop-shadow(0px 1px 2px rgba(0, 0, 0, 0.3));\n",
              "      fill: #FFFFFF;\n",
              "    }\n",
              "  </style>\n",
              "\n",
              "      <script>\n",
              "        const buttonEl =\n",
              "          document.querySelector('#df-3807d7f5-532c-4d0a-8d76-063649c2cb03 button.colab-df-convert');\n",
              "        buttonEl.style.display =\n",
              "          google.colab.kernel.accessAllowed ? 'block' : 'none';\n",
              "\n",
              "        async function convertToInteractive(key) {\n",
              "          const element = document.querySelector('#df-3807d7f5-532c-4d0a-8d76-063649c2cb03');\n",
              "          const dataTable =\n",
              "            await google.colab.kernel.invokeFunction('convertToInteractive',\n",
              "                                                     [key], {});\n",
              "          if (!dataTable) return;\n",
              "\n",
              "          const docLinkHtml = 'Like what you see? Visit the ' +\n",
              "            '<a target=\"_blank\" href=https://colab.research.google.com/notebooks/data_table.ipynb>data table notebook</a>'\n",
              "            + ' to learn more about interactive tables.';\n",
              "          element.innerHTML = '';\n",
              "          dataTable['output_type'] = 'display_data';\n",
              "          await google.colab.output.renderOutput(dataTable, element);\n",
              "          const docLink = document.createElement('div');\n",
              "          docLink.innerHTML = docLinkHtml;\n",
              "          element.appendChild(docLink);\n",
              "        }\n",
              "      </script>\n",
              "    </div>\n",
              "  </div>\n",
              "  "
            ]
          },
          "metadata": {},
          "execution_count": 4
        }
      ],
      "source": [
        "df_ipcr = pd.read_csv(\"./ipcr.tsv\", delimiter=\"\\t\")\n",
        "\n",
        "df_ipcr.head(5)"
      ]
    },
    {
      "cell_type": "code",
      "execution_count": 5,
      "metadata": {
        "ExecuteTime": {
          "end_time": "2018-02-13T10:56:36.556227Z",
          "start_time": "2018-02-13T10:56:36.080110Z"
        },
        "colab": {
          "base_uri": "https://localhost:8080/"
        },
        "id": "mWkGawC14Qqa",
        "outputId": "dc219e86-8b1e-4431-bfb1-87f5f76d04ec"
      },
      "outputs": [
        {
          "output_type": "execute_result",
          "data": {
            "text/plain": [
              "0"
            ]
          },
          "metadata": {},
          "execution_count": 5
        }
      ],
      "source": [
        "df_ipcr[\"section\"].isnull().sum()"
      ]
    },
    {
      "cell_type": "code",
      "execution_count": 6,
      "metadata": {
        "ExecuteTime": {
          "end_time": "2018-02-13T10:56:37.567432Z",
          "start_time": "2018-02-13T10:56:37.119244Z"
        },
        "colab": {
          "base_uri": "https://localhost:8080/"
        },
        "id": "tVV7Xh5x4Qqa",
        "outputId": "9f05ff30-269e-47d0-99dc-e8e6cdef8b3a"
      },
      "outputs": [
        {
          "output_type": "execute_result",
          "data": {
            "text/plain": [
              "0"
            ]
          },
          "metadata": {},
          "execution_count": 6
        }
      ],
      "source": [
        "df_ipcr[\"ipc_class\"].isnull().sum()"
      ]
    },
    {
      "cell_type": "code",
      "execution_count": 7,
      "metadata": {
        "ExecuteTime": {
          "end_time": "2018-02-13T10:56:39.926873Z",
          "start_time": "2018-02-13T10:56:39.487227Z"
        },
        "colab": {
          "base_uri": "https://localhost:8080/"
        },
        "id": "iHkcJqnC4Qqa",
        "outputId": "4c09008f-7616-4f29-853b-db81eef1740a"
      },
      "outputs": [
        {
          "output_type": "execute_result",
          "data": {
            "text/plain": [
              "15"
            ]
          },
          "metadata": {},
          "execution_count": 7
        }
      ],
      "source": [
        "df_ipcr[\"subclass\"].isnull().sum()"
      ]
    },
    {
      "cell_type": "code",
      "execution_count": 8,
      "metadata": {
        "ExecuteTime": {
          "end_time": "2018-02-13T10:57:02.009683Z",
          "start_time": "2018-02-13T10:56:59.886606Z"
        },
        "collapsed": true,
        "id": "buZ-ETTz4Qqa"
      },
      "outputs": [],
      "source": [
        "df_ipcr = df_ipcr[ df_ipcr[\"subclass\"].isnull() == False]"
      ]
    },
    {
      "cell_type": "code",
      "execution_count": 9,
      "metadata": {
        "ExecuteTime": {
          "end_time": "2018-02-13T10:57:19.361649Z",
          "start_time": "2018-02-13T10:57:08.414491Z"
        },
        "collapsed": true,
        "id": "xn2g932M4Qqa"
      },
      "outputs": [],
      "source": [
        "df_ipcr[\"ipc_class\"] = df_ipcr[\"ipc_class\"].map(str)\n",
        "df_ipcr = df_ipcr[df_ipcr[\"ipc_class\"].map(str.isdigit)]\n",
        "df_ipcr[\"ipc_class\"] = df_ipcr[\"ipc_class\"].astype(int)"
      ]
    },
    {
      "cell_type": "code",
      "execution_count": 10,
      "metadata": {
        "ExecuteTime": {
          "end_time": "2018-02-13T10:57:41.714017Z",
          "start_time": "2018-02-13T10:57:41.709873Z"
        },
        "colab": {
          "base_uri": "https://localhost:8080/",
          "height": 35
        },
        "id": "zloSxwif4Qqa",
        "outputId": "330e67d8-4549-4bcf-a575-dd9ca298bcd0"
      },
      "outputs": [
        {
          "output_type": "execute_result",
          "data": {
            "text/plain": [
              "'03'"
            ],
            "application/vnd.google.colaboratory.intrinsic+json": {
              "type": "string"
            }
          },
          "metadata": {},
          "execution_count": 10
        }
      ],
      "source": [
        "two_digit_f = lambda x : '{0:02d}'.format(x)\n",
        "two_digit_f(3)"
      ]
    },
    {
      "cell_type": "code",
      "execution_count": 11,
      "metadata": {
        "ExecuteTime": {
          "end_time": "2018-02-13T10:57:53.562867Z",
          "start_time": "2018-02-13T10:57:46.572754Z"
        },
        "collapsed": true,
        "id": "UHKheJyF4Qqb"
      },
      "outputs": [],
      "source": [
        "df_ipcr[\"ipc_class\"] = df_ipcr[\"ipc_class\"].map(two_digit_f)"
      ]
    },
    {
      "cell_type": "code",
      "execution_count": 12,
      "metadata": {
        "ExecuteTime": {
          "end_time": "2018-02-13T10:57:54.977592Z",
          "start_time": "2018-02-13T10:57:54.972619Z"
        },
        "colab": {
          "base_uri": "https://localhost:8080/"
        },
        "id": "v1qNYsXy4Qqb",
        "outputId": "f8f4fb80-5f99-421d-d323-bd5c2be13221"
      },
      "outputs": [
        {
          "output_type": "execute_result",
          "data": {
            "text/plain": [
              "0    01\n",
              "1    01\n",
              "2    06\n",
              "Name: ipc_class, dtype: object"
            ]
          },
          "metadata": {},
          "execution_count": 12
        }
      ],
      "source": [
        "df_ipcr[\"ipc_class\"][:3]"
      ]
    },
    {
      "cell_type": "code",
      "execution_count": null,
      "metadata": {
        "ExecuteTime": {
          "end_time": "2018-02-13T10:58:58.433557Z",
          "start_time": "2018-02-13T10:58:42.453170Z"
        },
        "collapsed": true,
        "id": "VhLCPYFI4Qqb"
      },
      "outputs": [],
      "source": [
        "df_ipcr[\"subclass\"] = df_ipcr[\"subclass\"].map(str.upper)\n",
        "df_ipcr = df_ipcr[df_ipcr[\"subclass\"].isin(list(\"ABCEDFGHIJKLMNOPQRSTUVWXYZ\"))]"
      ]
    },
    {
      "cell_type": "code",
      "execution_count": null,
      "metadata": {
        "ExecuteTime": {
          "end_time": "2018-02-13T10:59:00.838110Z",
          "start_time": "2018-02-13T10:58:58.435033Z"
        },
        "collapsed": true,
        "id": "EmkcIY9O4Qqb"
      },
      "outputs": [],
      "source": [
        "df_ipcr[\"4digit\"] = df_ipcr[\"section\"] + df_ipcr[\"ipc_class\"] + df_ipcr[\"subclass\"]"
      ]
    },
    {
      "cell_type": "code",
      "execution_count": null,
      "metadata": {
        "ExecuteTime": {
          "end_time": "2018-02-13T10:59:22.229963Z",
          "start_time": "2018-02-13T10:59:00.839615Z"
        },
        "id": "YPLimHGv4Qqb"
      },
      "outputs": [],
      "source": [
        "df_data = df_ipcr[[\"patent_id\", \"4digit\"]]\n",
        "df_data.describe()"
      ]
    },
    {
      "cell_type": "code",
      "execution_count": null,
      "metadata": {
        "ExecuteTime": {
          "end_time": "2018-02-13T08:54:35.730667Z",
          "start_time": "2018-02-13T08:54:35.541955Z"
        },
        "id": "QiHsU8H74Qqb"
      },
      "outputs": [],
      "source": [
        "df_data[:5]"
      ]
    },
    {
      "cell_type": "code",
      "execution_count": null,
      "metadata": {
        "ExecuteTime": {
          "end_time": "2018-02-13T08:54:43.824624Z",
          "start_time": "2018-02-13T08:54:37.403698Z"
        },
        "collapsed": true,
        "id": "w1sqWl0l4Qqc"
      },
      "outputs": [],
      "source": [
        "df_data = df_data.drop_duplicates(['patent_id', '4digit'])"
      ]
    },
    {
      "cell_type": "code",
      "execution_count": null,
      "metadata": {
        "ExecuteTime": {
          "end_time": "2018-02-13T08:54:56.524182Z",
          "start_time": "2018-02-13T08:54:45.251950Z"
        },
        "id": "R4hONDOu4Qqc"
      },
      "outputs": [],
      "source": [
        "df_data.describe()"
      ]
    },
    {
      "cell_type": "code",
      "execution_count": null,
      "metadata": {
        "ExecuteTime": {
          "end_time": "2018-02-13T08:54:59.070348Z",
          "start_time": "2018-02-13T08:54:58.846317Z"
        },
        "collapsed": true,
        "id": "FUoCQrF74Qqc"
      },
      "outputs": [],
      "source": [
        "df_data[\"value\"] = True"
      ]
    },
    {
      "cell_type": "code",
      "execution_count": null,
      "metadata": {
        "ExecuteTime": {
          "end_time": "2018-02-13T08:55:01.683766Z",
          "start_time": "2018-02-13T08:55:01.663731Z"
        },
        "collapsed": true,
        "id": "iA4ql8En4Qqc"
      },
      "outputs": [],
      "source": [
        "df_small_data = df_data.loc[:50000, :]"
      ]
    },
    {
      "cell_type": "code",
      "execution_count": null,
      "metadata": {
        "ExecuteTime": {
          "end_time": "2018-02-13T08:55:11.999916Z",
          "start_time": "2018-02-13T08:55:05.205187Z"
        },
        "collapsed": true,
        "id": "C1Av9vMa4Qqc"
      },
      "outputs": [],
      "source": [
        "df_matrix = pd.crosstab(df_small_data.patent_id, df_small_data[\"4digit\"], \n",
        "                        df_small_data.value, aggfunc=\"first\")"
      ]
    },
    {
      "cell_type": "code",
      "execution_count": null,
      "metadata": {
        "ExecuteTime": {
          "end_time": "2018-02-13T08:55:28.449155Z",
          "start_time": "2018-02-13T08:55:14.032449Z"
        },
        "id": "dZSFG7Dt4Qqc"
      },
      "outputs": [],
      "source": [
        "df_matrix.fillna(0)"
      ]
    },
    {
      "cell_type": "code",
      "execution_count": null,
      "metadata": {
        "collapsed": true,
        "id": "5aNqf3314Qqd"
      },
      "outputs": [],
      "source": [
        "df_matrix"
      ]
    },
    {
      "cell_type": "code",
      "execution_count": null,
      "metadata": {
        "id": "6p3dQs4B4Qqd"
      },
      "outputs": [],
      "source": [
        "df_matrix.loc[\"3930477\", :].argmax()"
      ]
    }
  ],
  "metadata": {
    "kernelspec": {
      "display_name": "Python 3",
      "language": "python",
      "name": "python3"
    },
    "language_info": {
      "codemirror_mode": {
        "name": "ipython",
        "version": 3
      },
      "file_extension": ".py",
      "mimetype": "text/x-python",
      "name": "python",
      "nbconvert_exporter": "python",
      "pygments_lexer": "ipython3",
      "version": "3.6.4"
    },
    "nav_menu": {},
    "toc": {
      "navigate_menu": true,
      "number_sections": true,
      "sideBar": true,
      "threshold": 6,
      "toc_cell": false,
      "toc_section_display": "block",
      "toc_window_display": false
    },
    "colab": {
      "provenance": []
    }
  },
  "nbformat": 4,
  "nbformat_minor": 0
}