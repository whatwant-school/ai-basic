{
  "cells": [
    {
      "cell_type": "code",
      "execution_count": 1,
      "metadata": {
        "ExecuteTime": {
          "end_time": "2018-02-06T11:56:21.149835Z",
          "start_time": "2018-02-06T11:56:20.727978Z"
        },
        "collapsed": true,
        "id": "1Mk4G32s1enG"
      },
      "outputs": [],
      "source": [
        "from pandas import Series, DataFrame\n",
        "import pandas as pd\n",
        "import numpy as np"
      ]
    },
    {
      "cell_type": "code",
      "execution_count": 2,
      "metadata": {
        "ExecuteTime": {
          "end_time": "2017-09-26T03:14:38.856292Z",
          "start_time": "2017-09-26T03:14:38.846311Z"
        },
        "colab": {
          "base_uri": "https://localhost:8080/"
        },
        "id": "iz4hOjCU1enI",
        "outputId": "de2daf65-2232-4c75-e61f-bdfc346055b1"
      },
      "outputs": [
        {
          "output_type": "execute_result",
          "data": {
            "text/plain": [
              "0    1\n",
              "1    2\n",
              "2    3\n",
              "3    4\n",
              "4    5\n",
              "dtype: int64"
            ]
          },
          "metadata": {},
          "execution_count": 2
        }
      ],
      "source": [
        "list_data = [1,2,3,4,5]\n",
        "example_obj = Series(data = list_data)\n",
        "example_obj"
      ]
    },
    {
      "cell_type": "code",
      "execution_count": 3,
      "metadata": {
        "ExecuteTime": {
          "end_time": "2017-09-26T03:14:39.117062Z",
          "start_time": "2017-09-26T03:14:39.111183Z"
        },
        "colab": {
          "base_uri": "https://localhost:8080/"
        },
        "id": "fVN0sere1enJ",
        "outputId": "75a65bd5-8657-426d-a85b-85ec53957e44"
      },
      "outputs": [
        {
          "output_type": "execute_result",
          "data": {
            "text/plain": [
              "a    1\n",
              "b    2\n",
              "c    3\n",
              "d    4\n",
              "e    5\n",
              "dtype: int64"
            ]
          },
          "metadata": {},
          "execution_count": 3
        }
      ],
      "source": [
        "list_data = [1,2,3,4,5]\n",
        "list_name = [\"a\",\"b\",\"c\",\"d\",\"e\"]\n",
        "example_obj = Series(data = list_data, index=list_name)\n",
        "example_obj"
      ]
    },
    {
      "cell_type": "code",
      "execution_count": 4,
      "metadata": {
        "ExecuteTime": {
          "end_time": "2017-09-26T03:14:39.584501Z",
          "start_time": "2017-09-26T03:14:39.580825Z"
        },
        "colab": {
          "base_uri": "https://localhost:8080/"
        },
        "id": "wy_hKsQx1enJ",
        "outputId": "1d15e59a-e628-4d4c-bedf-904636715aa6"
      },
      "outputs": [
        {
          "output_type": "execute_result",
          "data": {
            "text/plain": [
              "Index(['a', 'b', 'c', 'd', 'e'], dtype='object')"
            ]
          },
          "metadata": {},
          "execution_count": 4
        }
      ],
      "source": [
        "example_obj.index"
      ]
    },
    {
      "cell_type": "code",
      "execution_count": 5,
      "metadata": {
        "ExecuteTime": {
          "end_time": "2017-09-26T03:14:40.126399Z",
          "start_time": "2017-09-26T03:14:40.122873Z"
        },
        "colab": {
          "base_uri": "https://localhost:8080/"
        },
        "id": "zFC58_F41enK",
        "outputId": "9e707d8d-a9a5-4afc-e4e9-8b1464a7ba92"
      },
      "outputs": [
        {
          "output_type": "execute_result",
          "data": {
            "text/plain": [
              "array([1, 2, 3, 4, 5])"
            ]
          },
          "metadata": {},
          "execution_count": 5
        }
      ],
      "source": [
        "example_obj.values"
      ]
    },
    {
      "cell_type": "code",
      "execution_count": 6,
      "metadata": {
        "ExecuteTime": {
          "end_time": "2017-09-26T03:14:40.552190Z",
          "start_time": "2017-09-26T03:14:40.548895Z"
        },
        "colab": {
          "base_uri": "https://localhost:8080/"
        },
        "id": "Ik67GJ6o1enK",
        "outputId": "671692c8-f4b5-465c-e675-6d7c7a8e36bf"
      },
      "outputs": [
        {
          "output_type": "execute_result",
          "data": {
            "text/plain": [
              "numpy.ndarray"
            ]
          },
          "metadata": {},
          "execution_count": 6
        }
      ],
      "source": [
        "type(example_obj.values)"
      ]
    },
    {
      "cell_type": "code",
      "execution_count": 7,
      "metadata": {
        "ExecuteTime": {
          "end_time": "2017-09-26T03:14:41.333329Z",
          "start_time": "2017-09-26T03:14:41.324716Z"
        },
        "colab": {
          "base_uri": "https://localhost:8080/"
        },
        "id": "mS5BCp2g1enK",
        "outputId": "3fe4ee44-40ae-48cf-ca0e-1d284e491a2e"
      },
      "outputs": [
        {
          "output_type": "execute_result",
          "data": {
            "text/plain": [
              "a    1.0\n",
              "b    2.0\n",
              "c    3.0\n",
              "d    4.0\n",
              "e    5.0\n",
              "Name: example_data, dtype: float32"
            ]
          },
          "metadata": {},
          "execution_count": 7
        }
      ],
      "source": [
        "dict_data = {\"a\":1, \"b\":2, \"c\":3, \"d\":4, \"e\":5}\n",
        "example_obj = Series(dict_data, dtype=np.float32, name=\"example_data\")\n",
        "example_obj"
      ]
    },
    {
      "cell_type": "code",
      "execution_count": 8,
      "metadata": {
        "ExecuteTime": {
          "end_time": "2017-09-26T03:14:44.416076Z",
          "start_time": "2017-09-26T03:14:44.412257Z"
        },
        "colab": {
          "base_uri": "https://localhost:8080/"
        },
        "id": "ecTG6Bbo1enL",
        "outputId": "7a74ec24-5047-489e-ddf9-d998b1d88d4f"
      },
      "outputs": [
        {
          "output_type": "execute_result",
          "data": {
            "text/plain": [
              "1.0"
            ]
          },
          "metadata": {},
          "execution_count": 8
        }
      ],
      "source": [
        "example_obj[\"a\"]"
      ]
    },
    {
      "cell_type": "code",
      "execution_count": 9,
      "metadata": {
        "ExecuteTime": {
          "end_time": "2017-09-26T03:14:44.881290Z",
          "start_time": "2017-09-26T03:14:44.876461Z"
        },
        "colab": {
          "base_uri": "https://localhost:8080/"
        },
        "id": "v45LCd4R1enL",
        "outputId": "21d3f1b0-6688-4c68-c2fd-f3fcd911dee4"
      },
      "outputs": [
        {
          "output_type": "execute_result",
          "data": {
            "text/plain": [
              "a    3.2\n",
              "b    2.0\n",
              "c    3.0\n",
              "d    4.0\n",
              "e    5.0\n",
              "Name: example_data, dtype: float32"
            ]
          },
          "metadata": {},
          "execution_count": 9
        }
      ],
      "source": [
        "example_obj[\"a\"] = 3.2\n",
        "example_obj"
      ]
    },
    {
      "cell_type": "code",
      "execution_count": 10,
      "metadata": {
        "ExecuteTime": {
          "end_time": "2017-09-26T03:14:46.747484Z",
          "start_time": "2017-09-26T03:14:46.740069Z"
        },
        "colab": {
          "base_uri": "https://localhost:8080/"
        },
        "id": "J6gtN8m_1enM",
        "outputId": "5cf331b8-ccec-4296-fafd-42bacae1dacd"
      },
      "outputs": [
        {
          "output_type": "execute_result",
          "data": {
            "text/plain": [
              "a    3.2\n",
              "c    3.0\n",
              "d    4.0\n",
              "e    5.0\n",
              "Name: example_data, dtype: float32"
            ]
          },
          "metadata": {},
          "execution_count": 10
        }
      ],
      "source": [
        "example_obj[example_obj > 2]"
      ]
    },
    {
      "cell_type": "code",
      "execution_count": 11,
      "metadata": {
        "colab": {
          "base_uri": "https://localhost:8080/"
        },
        "id": "mhFwLbCq1enM",
        "outputId": "6505700b-5e64-4c8a-ac2f-b8d412eb3efc"
      },
      "outputs": [
        {
          "output_type": "execute_result",
          "data": {
            "text/plain": [
              "a     6.4\n",
              "b     4.0\n",
              "c     6.0\n",
              "d     8.0\n",
              "e    10.0\n",
              "Name: example_data, dtype: float32"
            ]
          },
          "metadata": {},
          "execution_count": 11
        }
      ],
      "source": [
        "example_obj * 2"
      ]
    },
    {
      "cell_type": "code",
      "execution_count": 12,
      "metadata": {
        "collapsed": true,
        "colab": {
          "base_uri": "https://localhost:8080/"
        },
        "id": "LzMO_jdC1enM",
        "outputId": "e7b608af-5988-4600-af47-a070173a4924"
      },
      "outputs": [
        {
          "output_type": "execute_result",
          "data": {
            "text/plain": [
              "a     24.532530\n",
              "b      7.389056\n",
              "c     20.085537\n",
              "d     54.598148\n",
              "e    148.413162\n",
              "Name: example_data, dtype: float32"
            ]
          },
          "metadata": {},
          "execution_count": 12
        }
      ],
      "source": [
        "np.exp(example_obj) #np.abs , np.log"
      ]
    },
    {
      "cell_type": "code",
      "execution_count": 13,
      "metadata": {
        "collapsed": true,
        "colab": {
          "base_uri": "https://localhost:8080/"
        },
        "id": "b2M6cpRM1enN",
        "outputId": "b661dee9-012e-4e04-ca8b-44c1c2673c61"
      },
      "outputs": [
        {
          "output_type": "execute_result",
          "data": {
            "text/plain": [
              "True"
            ]
          },
          "metadata": {},
          "execution_count": 13
        }
      ],
      "source": [
        "\"b\" in example_obj"
      ]
    },
    {
      "cell_type": "code",
      "execution_count": 14,
      "metadata": {
        "ExecuteTime": {
          "end_time": "2017-09-26T03:23:32.635691Z",
          "start_time": "2017-09-26T03:23:32.631275Z"
        },
        "collapsed": true,
        "colab": {
          "base_uri": "https://localhost:8080/"
        },
        "id": "BvylLGJH1enN",
        "outputId": "df8ec8b9-4057-4f22-98dd-1e6be0b01cac"
      },
      "outputs": [
        {
          "output_type": "execute_result",
          "data": {
            "text/plain": [
              "{'a': 3.200000047683716, 'b': 2.0, 'c': 3.0, 'd': 4.0, 'e': 5.0}"
            ]
          },
          "metadata": {},
          "execution_count": 14
        }
      ],
      "source": [
        "example_obj.to_dict()"
      ]
    },
    {
      "cell_type": "code",
      "execution_count": 15,
      "metadata": {
        "ExecuteTime": {
          "end_time": "2017-09-26T03:23:35.827703Z",
          "start_time": "2017-09-26T03:23:35.821599Z"
        },
        "collapsed": true,
        "colab": {
          "base_uri": "https://localhost:8080/"
        },
        "id": "Eh6sFhL81enN",
        "outputId": "f2d11355-4141-4f4d-d1eb-053a597e4df6"
      },
      "outputs": [
        {
          "output_type": "execute_result",
          "data": {
            "text/plain": [
              "array([3.2, 2. , 3. , 4. , 5. ], dtype=float32)"
            ]
          },
          "metadata": {},
          "execution_count": 15
        }
      ],
      "source": [
        "example_obj.values"
      ]
    },
    {
      "cell_type": "code",
      "execution_count": 16,
      "metadata": {
        "ExecuteTime": {
          "end_time": "2017-09-26T03:23:43.409765Z",
          "start_time": "2017-09-26T03:23:43.406064Z"
        },
        "collapsed": true,
        "colab": {
          "base_uri": "https://localhost:8080/"
        },
        "id": "HoWUYoRE1enN",
        "outputId": "5d72422b-7e07-4039-fd29-4cdf94193e1c"
      },
      "outputs": [
        {
          "output_type": "execute_result",
          "data": {
            "text/plain": [
              "Index(['a', 'b', 'c', 'd', 'e'], dtype='object')"
            ]
          },
          "metadata": {},
          "execution_count": 16
        }
      ],
      "source": [
        "example_obj.index"
      ]
    },
    {
      "cell_type": "code",
      "execution_count": 17,
      "metadata": {
        "ExecuteTime": {
          "end_time": "2017-09-26T03:27:26.580069Z",
          "start_time": "2017-09-26T03:27:26.574864Z"
        },
        "collapsed": true,
        "colab": {
          "base_uri": "https://localhost:8080/"
        },
        "id": "gp-8WGJh1enN",
        "outputId": "6b02767b-4015-4962-89fc-0fb36069a3cf"
      },
      "outputs": [
        {
          "output_type": "execute_result",
          "data": {
            "text/plain": [
              "alphabet\n",
              "a    3.2\n",
              "b    2.0\n",
              "c    3.0\n",
              "d    4.0\n",
              "e    5.0\n",
              "Name: number, dtype: float32"
            ]
          },
          "metadata": {},
          "execution_count": 17
        }
      ],
      "source": [
        "example_obj.name = \"number\"\n",
        "example_obj.index.name = \"alphabet\"\n",
        "example_obj"
      ]
    },
    {
      "cell_type": "code",
      "execution_count": 18,
      "metadata": {
        "collapsed": true,
        "colab": {
          "base_uri": "https://localhost:8080/"
        },
        "id": "rPEt8Sn31enO",
        "outputId": "e593802e-f1f3-4c0b-8043-aa4d590b8f4f"
      },
      "outputs": [
        {
          "output_type": "execute_result",
          "data": {
            "text/plain": [
              "a    1.0\n",
              "b    2.0\n",
              "c    3.0\n",
              "d    4.0\n",
              "e    5.0\n",
              "f    NaN\n",
              "g    NaN\n",
              "h    NaN\n",
              "dtype: float64"
            ]
          },
          "metadata": {},
          "execution_count": 18
        }
      ],
      "source": [
        "dict_data_1 = {\"a\":1, \"b\":2, \"c\":3, \"d\":4, \"e\":5}\n",
        "indexes = [\"a\",\"b\",\"c\",\"d\",\"e\",\"f\",\"g\",\"h\"]\n",
        "series_obj_1 = Series(dict_data_1, index=indexes)\n",
        "series_obj_1"
      ]
    }
  ],
  "metadata": {
    "anaconda-cloud": {},
    "kernelspec": {
      "display_name": "Python 3",
      "language": "python",
      "name": "python3"
    },
    "language_info": {
      "codemirror_mode": {
        "name": "ipython",
        "version": 3
      },
      "file_extension": ".py",
      "mimetype": "text/x-python",
      "name": "python",
      "nbconvert_exporter": "python",
      "pygments_lexer": "ipython3",
      "version": "3.6.2"
    },
    "nav_menu": {},
    "toc": {
      "navigate_menu": true,
      "number_sections": true,
      "sideBar": true,
      "threshold": 6,
      "toc_cell": false,
      "toc_section_display": "block",
      "toc_window_display": false
    },
    "colab": {
      "provenance": []
    }
  },
  "nbformat": 4,
  "nbformat_minor": 0
}