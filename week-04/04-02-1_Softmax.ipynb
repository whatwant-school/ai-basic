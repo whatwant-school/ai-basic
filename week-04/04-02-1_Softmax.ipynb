{
  "nbformat": 4,
  "nbformat_minor": 0,
  "metadata": {
    "colab": {
      "provenance": []
    },
    "kernelspec": {
      "name": "python3",
      "display_name": "Python 3"
    },
    "language_info": {
      "name": "python"
    }
  },
  "cells": [
    {
      "cell_type": "code",
      "execution_count": 1,
      "metadata": {
        "id": "LndsETr5JJ9x"
      },
      "outputs": [],
      "source": [
        "import numpy as np"
      ]
    },
    {
      "cell_type": "code",
      "source": [
        "def softmax(vec):\n",
        "  denumerator = np.exp(vec - np.max(vec, axis=-1, keepdims=True))  # 큰 숫자에 대한 overflow를 막기 위해 추가한 부분\n",
        "  numerator = np.sum(denumerator, axis=-1, keepdims=True)\n",
        "  return denumerator / numerator\n",
        "\n",
        "vec = np.array([[1, 2, 0], [-1, 0, 1], [-10, 0, 10]])\n",
        "softmax(vec)"
      ],
      "metadata": {
        "colab": {
          "base_uri": "https://localhost:8080/"
        },
        "id": "POFAezH1JRS3",
        "outputId": "ca315985-2eca-490b-c132-d10ca65996b3"
      },
      "execution_count": 2,
      "outputs": [
        {
          "output_type": "execute_result",
          "data": {
            "text/plain": [
              "array([[2.44728471e-01, 6.65240956e-01, 9.00305732e-02],\n",
              "       [9.00305732e-02, 2.44728471e-01, 6.65240956e-01],\n",
              "       [2.06106005e-09, 4.53978686e-05, 9.99954600e-01]])"
            ]
          },
          "metadata": {},
          "execution_count": 2
        }
      ]
    },
    {
      "cell_type": "markdown",
      "source": [
        "## Step By Step"
      ],
      "metadata": {
        "id": "6U6zTJgvLSt9"
      }
    },
    {
      "cell_type": "code",
      "source": [
        "vec = np.array([[1, 2, 0], [-1, 0, 1], [-10, 0, 10]])\n",
        "vec"
      ],
      "metadata": {
        "colab": {
          "base_uri": "https://localhost:8080/"
        },
        "id": "hnHzslSWJoF-",
        "outputId": "019e9dc9-1edf-41dd-cf82-fcdad3eef5f0"
      },
      "execution_count": 3,
      "outputs": [
        {
          "output_type": "execute_result",
          "data": {
            "text/plain": [
              "array([[  1,   2,   0],\n",
              "       [ -1,   0,   1],\n",
              "       [-10,   0,  10]])"
            ]
          },
          "metadata": {},
          "execution_count": 3
        }
      ]
    },
    {
      "cell_type": "code",
      "source": [
        "np.max(vec, axis=-1, keepdims=True)"
      ],
      "metadata": {
        "colab": {
          "base_uri": "https://localhost:8080/"
        },
        "id": "IV1yZMAgKmE1",
        "outputId": "d406127f-0677-4d69-aa4b-3df552bb9d98"
      },
      "execution_count": 4,
      "outputs": [
        {
          "output_type": "execute_result",
          "data": {
            "text/plain": [
              "array([[ 2],\n",
              "       [ 1],\n",
              "       [10]])"
            ]
          },
          "metadata": {},
          "execution_count": 4
        }
      ]
    },
    {
      "cell_type": "code",
      "source": [
        "vec - np.max(vec, axis=-1, keepdims=True)"
      ],
      "metadata": {
        "colab": {
          "base_uri": "https://localhost:8080/"
        },
        "id": "Sf8ghWk0Ke5A",
        "outputId": "ef5cf617-eeff-4b40-fabc-52b55682a140"
      },
      "execution_count": 5,
      "outputs": [
        {
          "output_type": "execute_result",
          "data": {
            "text/plain": [
              "array([[ -1,   0,  -2],\n",
              "       [ -2,  -1,   0],\n",
              "       [-20, -10,   0]])"
            ]
          },
          "metadata": {},
          "execution_count": 5
        }
      ]
    },
    {
      "cell_type": "code",
      "source": [
        "denumerator = np.exp(vec - np.max(vec, axis=-1, keepdims=True))\n",
        "denumerator"
      ],
      "metadata": {
        "colab": {
          "base_uri": "https://localhost:8080/"
        },
        "id": "rKSpczDzKrNt",
        "outputId": "60f65ca3-d15c-47ba-c154-469584b4d080"
      },
      "execution_count": 6,
      "outputs": [
        {
          "output_type": "execute_result",
          "data": {
            "text/plain": [
              "array([[3.67879441e-01, 1.00000000e+00, 1.35335283e-01],\n",
              "       [1.35335283e-01, 3.67879441e-01, 1.00000000e+00],\n",
              "       [2.06115362e-09, 4.53999298e-05, 1.00000000e+00]])"
            ]
          },
          "metadata": {},
          "execution_count": 6
        }
      ]
    },
    {
      "cell_type": "code",
      "source": [
        " numerator = np.sum(denumerator, axis=-1, keepdims=True)\n",
        " numerator"
      ],
      "metadata": {
        "colab": {
          "base_uri": "https://localhost:8080/"
        },
        "id": "2YgTD7JPLBri",
        "outputId": "f8c000e2-8b9a-4469-cee3-53420d9fc8ac"
      },
      "execution_count": 7,
      "outputs": [
        {
          "output_type": "execute_result",
          "data": {
            "text/plain": [
              "array([[1.50321472],\n",
              "       [1.50321472],\n",
              "       [1.0000454 ]])"
            ]
          },
          "metadata": {},
          "execution_count": 7
        }
      ]
    },
    {
      "cell_type": "code",
      "source": [
        "denumerator / numerator"
      ],
      "metadata": {
        "colab": {
          "base_uri": "https://localhost:8080/"
        },
        "id": "6PAM_ZhvLZWx",
        "outputId": "f21024a0-0c93-4f6a-836b-95ecd69b9db6"
      },
      "execution_count": 8,
      "outputs": [
        {
          "output_type": "execute_result",
          "data": {
            "text/plain": [
              "array([[2.44728471e-01, 6.65240956e-01, 9.00305732e-02],\n",
              "       [9.00305732e-02, 2.44728471e-01, 6.65240956e-01],\n",
              "       [2.06106005e-09, 4.53978686e-05, 9.99954600e-01]])"
            ]
          },
          "metadata": {},
          "execution_count": 8
        }
      ]
    }
  ]
}