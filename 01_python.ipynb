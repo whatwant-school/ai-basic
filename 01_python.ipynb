{
  "nbformat": 4,
  "nbformat_minor": 0,
  "metadata": {
    "colab": {
      "provenance": []
    },
    "kernelspec": {
      "name": "python3",
      "display_name": "Python 3"
    },
    "language_info": {
      "name": "python"
    }
  },
  "cells": [
    {
      "cell_type": "markdown",
      "source": [
        "# Copy By Reference"
      ],
      "metadata": {
        "id": "Ufu0ibo3SN53"
      }
    },
    {
      "cell_type": "code",
      "execution_count": 1,
      "metadata": {
        "colab": {
          "base_uri": "https://localhost:8080/"
        },
        "id": "YRTyDoyyRwYq",
        "outputId": "6bcf6b46-0395-4499-fe49-41d1c4ad95a7"
      },
      "outputs": [
        {
          "output_type": "stream",
          "name": "stdout",
          "text": [
            "[1, 2, 3, 4, 5]\n",
            "[1, 2, 3, 4, 5]\n"
          ]
        }
      ],
      "source": [
        "a = [5, 4, 3, 2, 1]\n",
        "\n",
        "# copy by reference\n",
        "b = a\n",
        "\n",
        "a.sort()\n",
        "\n",
        "print(a)\n",
        "print(b)"
      ]
    },
    {
      "cell_type": "code",
      "source": [
        "a = [5, 4, 3, 2, 1]\n",
        "\n",
        "# copy by value\n",
        "# 하지만, 1차원에서만 적용되고, 2차원 이상에서는 안됨\n",
        "b = a[:]\n",
        "\n",
        "a.sort()\n",
        "print(a)\n",
        "print(b)"
      ],
      "metadata": {
        "colab": {
          "base_uri": "https://localhost:8080/"
        },
        "id": "4qpc6Id8SaXE",
        "outputId": "60043835-e93e-4205-80a1-82b19ae687cf"
      },
      "execution_count": 2,
      "outputs": [
        {
          "output_type": "stream",
          "name": "stdout",
          "text": [
            "[1, 2, 3, 4, 5]\n",
            "[5, 4, 3, 2, 1]\n"
          ]
        }
      ]
    },
    {
      "cell_type": "code",
      "source": [
        "# 2차원 list에서 복사 시도\n",
        "\n",
        "kor_score = [49, 79, 20, 100, 80]\n",
        "math_score = [43, 59, 85, 30, 90]\n",
        "eng_score = [49, 79, 48, 60, 100]\n",
        "\n",
        "midterm_score = [kor_score, math_score, eng_score]\n",
        "\n",
        "print(midterm_score)\n",
        "\n",
        "# 1차원 list에서 되었던 방식을 시도\n",
        "midterm_copy = midterm_score[:]\n",
        "midterm_score[0][3] = 50\n",
        "\n",
        "print(midterm_score)\n",
        "print(midterm_copy)\n",
        "\n",
        "# 동일한 결과 출력"
      ],
      "metadata": {
        "colab": {
          "base_uri": "https://localhost:8080/"
        },
        "id": "HDF3uqKNTjls",
        "outputId": "17394221-6c18-4325-aea4-fbc31c1b97dd"
      },
      "execution_count": 3,
      "outputs": [
        {
          "output_type": "stream",
          "name": "stdout",
          "text": [
            "[[49, 79, 20, 100, 80], [43, 59, 85, 30, 90], [49, 79, 48, 60, 100]]\n",
            "[[49, 79, 20, 50, 80], [43, 59, 85, 30, 90], [49, 79, 48, 60, 100]]\n",
            "[[49, 79, 20, 50, 80], [43, 59, 85, 30, 90], [49, 79, 48, 60, 100]]\n"
          ]
        }
      ]
    },
    {
      "cell_type": "code",
      "source": [
        "# 2차원 이상 list를 위한 복사 방법\n",
        "\n",
        "kor_score = [49, 79, 20, 100, 80]\n",
        "math_score = [43, 59, 85, 30, 90]\n",
        "eng_score = [49, 79, 48, 60, 100]\n",
        "\n",
        "midterm_score = [kor_score, math_score, eng_score]\n",
        "\n",
        "print(midterm_score)\n",
        "\n",
        "# 새로운 방법\n",
        "import copy\n",
        "\n",
        "midterm_copy = copy.deepcopy(midterm_score)\n",
        "midterm_score[0][3] = 50\n",
        "\n",
        "print(midterm_score)\n",
        "print(midterm_copy)\n",
        "\n",
        "# 다른 결과 출력"
      ],
      "metadata": {
        "colab": {
          "base_uri": "https://localhost:8080/"
        },
        "id": "2_30FCXXUlT9",
        "outputId": "83924407-7a2a-4aa2-c0f8-b17a0cc8e359"
      },
      "execution_count": 4,
      "outputs": [
        {
          "output_type": "stream",
          "name": "stdout",
          "text": [
            "[[49, 79, 20, 100, 80], [43, 59, 85, 30, 90], [49, 79, 48, 60, 100]]\n",
            "[[49, 79, 20, 50, 80], [43, 59, 85, 30, 90], [49, 79, 48, 60, 100]]\n",
            "[[49, 79, 20, 100, 80], [43, 59, 85, 30, 90], [49, 79, 48, 60, 100]]\n"
          ]
        }
      ]
    },
    {
      "cell_type": "markdown",
      "source": [
        "# Packing / Unpacking"
      ],
      "metadata": {
        "id": "KWY7km2JTDO9"
      }
    },
    {
      "cell_type": "code",
      "source": [
        "t = [1, 2, 3]\n",
        "\n",
        "a, b, c = t\n",
        "\n",
        "print(a, b, c)"
      ],
      "metadata": {
        "colab": {
          "base_uri": "https://localhost:8080/"
        },
        "id": "5-MWxFBiTHJI",
        "outputId": "dfa57892-00ec-4176-d2a1-7bb6fbc63f03"
      },
      "execution_count": 5,
      "outputs": [
        {
          "output_type": "stream",
          "name": "stdout",
          "text": [
            "1 2 3\n"
          ]
        }
      ]
    },
    {
      "cell_type": "markdown",
      "source": [
        "# f-string"
      ],
      "metadata": {
        "id": "htxvEKUacszF"
      }
    },
    {
      "cell_type": "code",
      "source": [
        "name = 'whatwant'\n",
        "age = 48\n",
        "\n",
        "print(f\"Hello, {name}. You are {age}.\")\n",
        "print(f'name:20    - {name:20}')\n",
        "print(f'name:>20   - {name:>20}')\n",
        "print(f'name:*<20  - {name:*<20}')\n",
        "print(f'name:*>20  - {name:*>20}')\n",
        "print(f'name:*^20  - {name:*^20}')\n",
        "\n",
        "number = 3.141592653589793\n",
        "print(f'number:.2f - {number:.2f}') # 소숫점 2째자리"
      ],
      "metadata": {
        "colab": {
          "base_uri": "https://localhost:8080/"
        },
        "id": "sl5An9iMcupt",
        "outputId": "e21a171e-381f-4430-a393-adb6c8be7b98"
      },
      "execution_count": 6,
      "outputs": [
        {
          "output_type": "stream",
          "name": "stdout",
          "text": [
            "Hello, whatwant. You are 48.\n",
            "name:20    - whatwant            \n",
            "name:>20   -             whatwant\n",
            "name:*<20  - whatwant************\n",
            "name:*>20  - ************whatwant\n",
            "name:*^20  - ******whatwant******\n",
            "number:.2f - 3.14\n"
          ]
        }
      ]
    },
    {
      "cell_type": "markdown",
      "source": [
        "# all(), any()"
      ],
      "metadata": {
        "id": "XBtLXnfoiAyx"
      }
    },
    {
      "cell_type": "code",
      "source": [
        "boolean_list = [True, False, True, False, True]\n",
        "\n",
        "all_value = all(boolean_list)\n",
        "any_value = any(boolean_list)\n",
        "\n",
        "print(f'all : {all_value}')\n",
        "print(f'any : {any_value}')"
      ],
      "metadata": {
        "colab": {
          "base_uri": "https://localhost:8080/"
        },
        "id": "p3v21wv9iDKJ",
        "outputId": "f9c5a8ab-4c00-4a33-eaa1-b83d7f1765ca"
      },
      "execution_count": 7,
      "outputs": [
        {
          "output_type": "stream",
          "name": "stdout",
          "text": [
            "all : False\n",
            "any : True\n"
          ]
        }
      ]
    },
    {
      "cell_type": "markdown",
      "source": [
        "# raw string"
      ],
      "metadata": {
        "id": "YH6NbDbjsYbe"
      }
    },
    {
      "cell_type": "code",
      "source": [
        "print(r'글씨를 쓰다가 \\n 이걸 써도 줄이 안바뀐다')"
      ],
      "metadata": {
        "colab": {
          "base_uri": "https://localhost:8080/"
        },
        "id": "omkJTssQsan6",
        "outputId": "c4ede051-b539-4094-88b2-fddc7ee7904f"
      },
      "execution_count": 8,
      "outputs": [
        {
          "output_type": "stream",
          "name": "stdout",
          "text": [
            "글씨를 쓰다가 \\n 이걸 써도 줄이 안바뀐다\n"
          ]
        }
      ]
    },
    {
      "cell_type": "markdown",
      "source": [
        "# swap"
      ],
      "metadata": {
        "id": "WMhBkB22vrAG"
      }
    },
    {
      "cell_type": "code",
      "source": [
        "def swap_value(x, y):\n",
        "  temp = x\n",
        "  x = y\n",
        "  y = temp\n",
        "\n",
        "ex = [1, 2, 3, 4, 5]\n",
        "\n",
        "# 값을 전달했기 때문에 바뀌지 않는다\n",
        "swap_value(ex[1], ex[2])\n",
        "\n",
        "print(ex)"
      ],
      "metadata": {
        "colab": {
          "base_uri": "https://localhost:8080/"
        },
        "id": "C9tvsv_7vtgU",
        "outputId": "89af612f-80f5-4cfc-c325-d6ce5f09a1a1"
      },
      "execution_count": 9,
      "outputs": [
        {
          "output_type": "stream",
          "name": "stdout",
          "text": [
            "[1, 2, 3, 4, 5]\n"
          ]
        }
      ]
    },
    {
      "cell_type": "code",
      "source": [
        "def swap_offset(offset_x, offset_y):\n",
        "  temp = ex[offset_x]\n",
        "  ex[offset_x] = ex[offset_y]\n",
        "  ex[offset_y] = temp\n",
        "\n",
        "ex = [1, 2, 3, 4, 5]\n",
        "\n",
        "# 실제로 전역 변수 값을 직접 변경\n",
        "swap_offset(1, 2)\n",
        "\n",
        "print(ex)"
      ],
      "metadata": {
        "colab": {
          "base_uri": "https://localhost:8080/"
        },
        "id": "rM-i8QMcwa91",
        "outputId": "596e989f-ec81-41b7-8595-c1e55d0e78f9"
      },
      "execution_count": 10,
      "outputs": [
        {
          "output_type": "stream",
          "name": "stdout",
          "text": [
            "[1, 3, 2, 4, 5]\n"
          ]
        }
      ]
    },
    {
      "cell_type": "code",
      "source": [
        "def swap_reference(glist, offset_x, offset_y):\n",
        "  temp = glist[offset_x]\n",
        "  glist[offset_x] = glist[offset_y]\n",
        "  glist[offset_y] = temp\n",
        "\n",
        "ex = [1, 2, 3, 4, 5]\n",
        "\n",
        "# 객체의 주소값을 받아서 값을 변경\n",
        "swap_reference(ex, 1, 2)\n",
        "\n",
        "print(ex)"
      ],
      "metadata": {
        "colab": {
          "base_uri": "https://localhost:8080/"
        },
        "id": "HAziLyfFxEch",
        "outputId": "296c02c0-0a5e-44e7-e022-90dd8d63e1f1"
      },
      "execution_count": 11,
      "outputs": [
        {
          "output_type": "stream",
          "name": "stdout",
          "text": [
            "[1, 3, 2, 4, 5]\n"
          ]
        }
      ]
    },
    {
      "cell_type": "code",
      "source": [
        "def swap_reference_copy(list_ex, offset_x, offset_y):\n",
        "  list_temp = list_ex[:]        # list를 복사해서 처리\n",
        "  temp = list_temp[offset_x]\n",
        "  list_temp[offset_x] = list_temp[offset_y]\n",
        "  list_temp[offset_y] = temp\n",
        "\n",
        "ex = [1, 2, 3, 4, 5]\n",
        "\n",
        "# 전달한 list를 복사해서 처리하기에 값이 변하지 않음\n",
        "swap_reference_copy(ex, 1, 2)\n",
        "\n",
        "print(ex)"
      ],
      "metadata": {
        "colab": {
          "base_uri": "https://localhost:8080/"
        },
        "id": "YAwHgenTxrPm",
        "outputId": "cfad1b4c-00f8-47ce-dca1-5d4e05f2eb37"
      },
      "execution_count": 12,
      "outputs": [
        {
          "output_type": "stream",
          "name": "stdout",
          "text": [
            "[1, 2, 3, 4, 5]\n"
          ]
        }
      ]
    },
    {
      "cell_type": "markdown",
      "source": [
        "# function type hints"
      ],
      "metadata": {
        "id": "vRR6etQY0Yoh"
      }
    },
    {
      "cell_type": "code",
      "source": [
        "def type_hint_example(name: str) -> str:\n",
        "  return f'Hellp, {name}'\n",
        "\n",
        "type_hint_example('whatwant')"
      ],
      "metadata": {
        "colab": {
          "base_uri": "https://localhost:8080/",
          "height": 35
        },
        "id": "BvdLRDJZ0bpB",
        "outputId": "ea8a14a1-66e3-472a-ffc4-08f12fa4f59f"
      },
      "execution_count": 13,
      "outputs": [
        {
          "output_type": "execute_result",
          "data": {
            "text/plain": [
              "'Hellp, whatwant'"
            ],
            "application/vnd.google.colaboratory.intrinsic+json": {
              "type": "string"
            }
          },
          "metadata": {},
          "execution_count": 13
        }
      ]
    },
    {
      "cell_type": "markdown",
      "source": [
        "# docstring"
      ],
      "metadata": {
        "id": "PGRriJcD1UFA"
      }
    },
    {
      "cell_type": "code",
      "source": [
        "def add_binary(a, b):\n",
        "    '''\n",
        "    Returns the sum of two decimal numbers in binary digits.\n",
        "\n",
        "            Parameters:\n",
        "                    a (int): A decimal integer\n",
        "                    b (int): Another decimal integer\n",
        "\n",
        "            Returns:\n",
        "                    binary_sum (str): Binary string of the sum of a and b\n",
        "    '''\n",
        "    binary_sum = bin(a+b)[2:]\n",
        "    return binary_sum\n",
        "\n",
        "print(add_binary.__doc__)"
      ],
      "metadata": {
        "colab": {
          "base_uri": "https://localhost:8080/"
        },
        "id": "bYWu72uc1WBn",
        "outputId": "8ec710a2-07c0-47f7-a4ee-67442cadbe2d"
      },
      "execution_count": 14,
      "outputs": [
        {
          "output_type": "stream",
          "name": "stdout",
          "text": [
            "\n",
            "    Returns the sum of two decimal numbers in binary digits.\n",
            "\n",
            "            Parameters:\n",
            "                    a (int): A decimal integer\n",
            "                    b (int): Another decimal integer\n",
            "\n",
            "            Returns:\n",
            "                    binary_sum (str): Binary string of the sum of a and b\n",
            "    \n"
          ]
        }
      ]
    },
    {
      "cell_type": "markdown",
      "source": [
        "# tuple"
      ],
      "metadata": {
        "id": "KOm4xd0L7OFt"
      }
    },
    {
      "cell_type": "code",
      "source": [
        "t1 = (1)  # 정수로 인식\n",
        "t2 = (1,) # 값이 하나인 tuple은 반드시 \",\"를 붙여야 함\n",
        "\n",
        "print(f't1 = {t1}, type = {type(t1)}')\n",
        "print(f't2 = {t2}, type = {type(t2)}')"
      ],
      "metadata": {
        "colab": {
          "base_uri": "https://localhost:8080/"
        },
        "id": "coBCtrIN6_au",
        "outputId": "d27948d7-48af-4019-9e89-b09599948dd0"
      },
      "execution_count": 15,
      "outputs": [
        {
          "output_type": "stream",
          "name": "stdout",
          "text": [
            "t1 = 1, type = <class 'int'>\n",
            "t2 = (1,), type = <class 'tuple'>\n"
          ]
        }
      ]
    },
    {
      "cell_type": "markdown",
      "source": [
        "# set"
      ],
      "metadata": {
        "id": "-a_WrGl98buE"
      }
    },
    {
      "cell_type": "code",
      "source": [
        "s = set([3, 1, 2, 2, 3])   # s = {3, 1, 2, 2, 3}\n",
        "print(s)                   # {1, 2, 3}\n",
        "\n",
        "s.add(1)\n",
        "print(s)                   # {1, 2, 3}\n",
        "\n",
        "s.remove(1)\n",
        "print(s)                   # {2, 3}\n",
        "\n",
        "s.update([1, 4, 5, 6, 7])\n",
        "print(s)                   # {1, 2, 3, 4, 5, 6, 7}\n",
        "\n",
        "s.discard(3)\n",
        "print(s)                   # {1, 2, 4, 5, 6, 7}\n",
        "\n",
        "s.clear()\n",
        "print(s)                   # set()"
      ],
      "metadata": {
        "colab": {
          "base_uri": "https://localhost:8080/"
        },
        "id": "HH3m7XH68c9P",
        "outputId": "4b66c0b4-0422-481b-d2c5-3d1c121a9e4b"
      },
      "execution_count": 16,
      "outputs": [
        {
          "output_type": "stream",
          "name": "stdout",
          "text": [
            "{1, 2, 3}\n",
            "{1, 2, 3}\n",
            "{2, 3}\n",
            "{1, 2, 3, 4, 5, 6, 7}\n",
            "{1, 2, 4, 5, 6, 7}\n",
            "set()\n"
          ]
        }
      ]
    },
    {
      "cell_type": "code",
      "source": [
        "s1 = {1, 2, 3, 4, 5}\n",
        "s2 = {3, 4, 5, 6, 7}\n",
        "\n",
        "s = s1.union(s2)\n",
        "print(s)                # {1, 2, 3, 4, 5, 6, 7}\n",
        "\n",
        "s = s1 | s2\n",
        "print(s)                # {1, 2, 3, 4, 5, 6, 7}\n",
        "\n",
        "s = s1.intersection(s2)\n",
        "print(s)                # {3, 4, 5}\n",
        "\n",
        "s = s1 & s2\n",
        "print(s)                # {3, 4, 5}\n",
        "\n",
        "s = s1.difference(s2)\n",
        "print(s)                # {1, 2}\n",
        "\n",
        "s = s1 - s2\n",
        "print(s)                # {1, 2}"
      ],
      "metadata": {
        "colab": {
          "base_uri": "https://localhost:8080/"
        },
        "id": "yjX-uXXR9s5M",
        "outputId": "ba429434-8e57-4905-d853-5738eef9f5a2"
      },
      "execution_count": 17,
      "outputs": [
        {
          "output_type": "stream",
          "name": "stdout",
          "text": [
            "{1, 2, 3, 4, 5, 6, 7}\n",
            "{1, 2, 3, 4, 5, 6, 7}\n",
            "{3, 4, 5}\n",
            "{3, 4, 5}\n",
            "{1, 2}\n",
            "{1, 2}\n"
          ]
        }
      ]
    },
    {
      "cell_type": "markdown",
      "source": [
        "# list comprehension"
      ],
      "metadata": {
        "id": "yUONB9OuG1gO"
      }
    },
    {
      "cell_type": "code",
      "source": [
        "result = []\n",
        "for i in range(10):\n",
        "  result.append(i)\n",
        "\n",
        "print(result)\n",
        "\n",
        "result = [i for i in range(10)]\n",
        "\n",
        "print(result)"
      ],
      "metadata": {
        "colab": {
          "base_uri": "https://localhost:8080/"
        },
        "id": "3-XYGLFQG4Pz",
        "outputId": "04b5231b-1f2b-4478-d43f-3f64cb7bd145"
      },
      "execution_count": 18,
      "outputs": [
        {
          "output_type": "stream",
          "name": "stdout",
          "text": [
            "[0, 1, 2, 3, 4, 5, 6, 7, 8, 9]\n",
            "[0, 1, 2, 3, 4, 5, 6, 7, 8, 9]\n"
          ]
        }
      ]
    },
    {
      "cell_type": "code",
      "source": [
        "case_1 = ['A', 'B', 'C']\n",
        "case_2 = ['D', 'E', 'F']\n",
        "\n",
        "result = [i+j for i in case_1 for j in case_2]\n",
        "\n",
        "print(result)"
      ],
      "metadata": {
        "colab": {
          "base_uri": "https://localhost:8080/"
        },
        "id": "aFLg1XDeII--",
        "outputId": "1a143cae-f3e3-4134-9810-f00a97b3df96"
      },
      "execution_count": 19,
      "outputs": [
        {
          "output_type": "stream",
          "name": "stdout",
          "text": [
            "['AD', 'AE', 'AF', 'BD', 'BE', 'BF', 'CD', 'CE', 'CF']\n"
          ]
        }
      ]
    },
    {
      "cell_type": "code",
      "source": [
        "case_1 = ['A', 'B', 'C']\n",
        "case_2 = ['D', 'E', 'F']\n",
        "\n",
        "result = [[i+j for i in case_1] for j in case_2]\n",
        "\n",
        "print(result)"
      ],
      "metadata": {
        "colab": {
          "base_uri": "https://localhost:8080/"
        },
        "id": "V0TSDVlJIhq5",
        "outputId": "b8619d36-8edd-4e1d-b334-a361ec8a0c60"
      },
      "execution_count": 20,
      "outputs": [
        {
          "output_type": "stream",
          "name": "stdout",
          "text": [
            "[['AD', 'BD', 'CD'], ['AE', 'BE', 'CE'], ['AF', 'BF', 'CF']]\n"
          ]
        }
      ]
    },
    {
      "cell_type": "code",
      "source": [
        "case_1 = ['A', 'B', 'C']\n",
        "case_2 = ['D', 'E', 'F']\n",
        "\n",
        "result = [[i+j for i in case_1 if i != 'A'] for j in case_2]\n",
        "\n",
        "print(result)"
      ],
      "metadata": {
        "colab": {
          "base_uri": "https://localhost:8080/"
        },
        "id": "Fx-tVRT-Ivww",
        "outputId": "112f55e3-6789-45f1-a396-b48ea824bc69"
      },
      "execution_count": 21,
      "outputs": [
        {
          "output_type": "stream",
          "name": "stdout",
          "text": [
            "[['BD', 'CD'], ['BE', 'CE'], ['BF', 'CF']]\n"
          ]
        }
      ]
    },
    {
      "cell_type": "markdown",
      "source": [
        "# zip"
      ],
      "metadata": {
        "id": "BnC_WteSKSox"
      }
    },
    {
      "cell_type": "code",
      "source": [
        "math = (100, 90, 80)\n",
        "kor = (90, 90, 70)\n",
        "eng = (90, 80, 70)\n",
        "\n",
        "for value in zip(math, kor, eng):\n",
        "  print(value)   # 열로 묶어줌"
      ],
      "metadata": {
        "colab": {
          "base_uri": "https://localhost:8080/"
        },
        "id": "3BEBxrjlKUKR",
        "outputId": "542c47d1-23b4-43b3-bd4b-180d0bb20b67"
      },
      "execution_count": 22,
      "outputs": [
        {
          "output_type": "stream",
          "name": "stdout",
          "text": [
            "(100, 90, 90)\n",
            "(90, 90, 80)\n",
            "(80, 70, 70)\n"
          ]
        }
      ]
    },
    {
      "cell_type": "code",
      "source": [
        "result = [sum(value) / 3 for value in zip(math, kor, eng)]\n",
        "\n",
        "math_avg, kor_avg, eng_avg = result\n",
        "print(f'{math_avg:.2f}, {kor_avg:.2f}, {eng_avg:.2f}')"
      ],
      "metadata": {
        "colab": {
          "base_uri": "https://localhost:8080/"
        },
        "id": "JoczGW38KpRb",
        "outputId": "11882213-8a89-4796-d9d3-832c81a24dde"
      },
      "execution_count": 23,
      "outputs": [
        {
          "output_type": "stream",
          "name": "stdout",
          "text": [
            "93.33, 86.67, 73.33\n"
          ]
        }
      ]
    },
    {
      "cell_type": "markdown",
      "source": [
        "# lambda function"
      ],
      "metadata": {
        "id": "pB-DZFV9TUyJ"
      }
    },
    {
      "cell_type": "code",
      "source": [
        "def f(x, y):\n",
        "    return x + y\n",
        "\n",
        "print(f(1,4))"
      ],
      "metadata": {
        "colab": {
          "base_uri": "https://localhost:8080/"
        },
        "id": "C_rRU-5hTXjv",
        "outputId": "b6ed4702-05ae-44ad-b1be-938885979c2b"
      },
      "execution_count": 24,
      "outputs": [
        {
          "output_type": "stream",
          "name": "stdout",
          "text": [
            "5\n"
          ]
        }
      ]
    },
    {
      "cell_type": "code",
      "source": [
        "f = lambda x, y : x + y\n",
        "\n",
        "print(f(1,4))"
      ],
      "metadata": {
        "colab": {
          "base_uri": "https://localhost:8080/"
        },
        "id": "2teRTwYiTegC",
        "outputId": "0a5b002d-956c-42d2-e897-ccfcda8178c8"
      },
      "execution_count": 25,
      "outputs": [
        {
          "output_type": "stream",
          "name": "stdout",
          "text": [
            "5\n"
          ]
        }
      ]
    },
    {
      "cell_type": "code",
      "source": [
        "print( (lambda x, y : x + y)(1, 4) )"
      ],
      "metadata": {
        "colab": {
          "base_uri": "https://localhost:8080/"
        },
        "id": "I_tgKUcfT0nQ",
        "outputId": "c4369e6f-83a5-4246-f5d8-c0fb885c4d35"
      },
      "execution_count": 26,
      "outputs": [
        {
          "output_type": "stream",
          "name": "stdout",
          "text": [
            "5\n"
          ]
        }
      ]
    },
    {
      "cell_type": "markdown",
      "source": [
        "# map"
      ],
      "metadata": {
        "id": "fuzpwhqhU5bA"
      }
    },
    {
      "cell_type": "code",
      "source": [
        "ex = [1, 2, 3, 4, 5]\n",
        "\n",
        "f = lambda x, y : x + y\n",
        "\n",
        "print( list( map(f, ex, ex)))"
      ],
      "metadata": {
        "colab": {
          "base_uri": "https://localhost:8080/"
        },
        "id": "ynJxs2MlU6yz",
        "outputId": "486f6391-1f02-438d-9ffa-b372fdf32f36"
      },
      "execution_count": 27,
      "outputs": [
        {
          "output_type": "stream",
          "name": "stdout",
          "text": [
            "[2, 4, 6, 8, 10]\n"
          ]
        }
      ]
    },
    {
      "cell_type": "code",
      "source": [
        "result = list(\n",
        "    map(\n",
        "        lambda x : x ** 2 if x % 2 == 0\n",
        "        else x,\n",
        "        ex\n",
        "    )\n",
        ")\n",
        "\n",
        "print(result)"
      ],
      "metadata": {
        "colab": {
          "base_uri": "https://localhost:8080/"
        },
        "id": "m336QxFGU_jB",
        "outputId": "27c8023f-266d-4e0d-fdb8-dee80e569203"
      },
      "execution_count": 28,
      "outputs": [
        {
          "output_type": "stream",
          "name": "stdout",
          "text": [
            "[1, 4, 3, 16, 5]\n"
          ]
        }
      ]
    },
    {
      "cell_type": "code",
      "source": [
        "f = lambda x : x ** 2 if x % 2 == 0 else x\n",
        "\n",
        "result = list( map(f, ex))\n",
        "\n",
        "print(result)"
      ],
      "metadata": {
        "colab": {
          "base_uri": "https://localhost:8080/"
        },
        "id": "kRIcDGz-VtED",
        "outputId": "1d739814-8fa6-4e79-9e1e-23447db03fc0"
      },
      "execution_count": 29,
      "outputs": [
        {
          "output_type": "stream",
          "name": "stdout",
          "text": [
            "[1, 4, 3, 16, 5]\n"
          ]
        }
      ]
    },
    {
      "cell_type": "code",
      "source": [
        "f = lambda x : x ** 2 if x % 2 == 0 else x\n",
        "\n",
        "result = [f(value) for value in ex]\n",
        "\n",
        "print(result)"
      ],
      "metadata": {
        "colab": {
          "base_uri": "https://localhost:8080/"
        },
        "id": "1Hlu0xBwV_Fm",
        "outputId": "838a3155-2c91-46e0-8efd-babf6cae1abf"
      },
      "execution_count": 30,
      "outputs": [
        {
          "output_type": "stream",
          "name": "stdout",
          "text": [
            "[1, 4, 3, 16, 5]\n"
          ]
        }
      ]
    },
    {
      "cell_type": "code",
      "source": [
        "result = [value ** 2 if value % 2 == 0 else value for value in ex]\n",
        "\n",
        "print(result)"
      ],
      "metadata": {
        "colab": {
          "base_uri": "https://localhost:8080/"
        },
        "id": "0w63Hr1jWXVz",
        "outputId": "44efbc11-ec13-4dc9-8521-aa2593070e54"
      },
      "execution_count": 31,
      "outputs": [
        {
          "output_type": "stream",
          "name": "stdout",
          "text": [
            "[1, 4, 3, 16, 5]\n"
          ]
        }
      ]
    },
    {
      "cell_type": "markdown",
      "source": [
        "# iterable object"
      ],
      "metadata": {
        "id": "TFXevNFLYA2L"
      }
    },
    {
      "cell_type": "code",
      "source": [
        "cities = ['Seoul', 'Busan', 'Jeju']\n",
        "\n",
        "iter_obj = iter(cities)\n",
        "\n",
        "print(next(iter_obj))\n",
        "print(next(iter_obj))\n",
        "print(next(iter_obj))"
      ],
      "metadata": {
        "colab": {
          "base_uri": "https://localhost:8080/"
        },
        "id": "mfOeF5szYDBV",
        "outputId": "550cbcc0-2b96-45d4-dbcf-e4d7f3d11637"
      },
      "execution_count": 32,
      "outputs": [
        {
          "output_type": "stream",
          "name": "stdout",
          "text": [
            "Seoul\n",
            "Busan\n",
            "Jeju\n"
          ]
        }
      ]
    },
    {
      "cell_type": "markdown",
      "source": [
        "# generator"
      ],
      "metadata": {
        "id": "TWaoZo5IZQTl"
      }
    },
    {
      "cell_type": "code",
      "source": [
        "def general_list(value):\n",
        "  result = []\n",
        "  for i in range(value):\n",
        "    result.append(i)\n",
        "  return result\n",
        "\n",
        "result = general_list(5)\n",
        "\n",
        "print(result)\n",
        "\n",
        "import sys\n",
        "size = sys.getsizeof(result)\n",
        "\n",
        "print(size)"
      ],
      "metadata": {
        "colab": {
          "base_uri": "https://localhost:8080/"
        },
        "id": "vOGCd8b2ZRs_",
        "outputId": "e90ba7e3-42bf-4954-ac22-4e1e6f04463a"
      },
      "execution_count": 33,
      "outputs": [
        {
          "output_type": "stream",
          "name": "stdout",
          "text": [
            "[0, 1, 2, 3, 4]\n",
            "120\n"
          ]
        }
      ]
    },
    {
      "cell_type": "code",
      "source": [
        "def generator_list(value):\n",
        "  result = []\n",
        "  for i in range(value):\n",
        "    yield i\n",
        "\n",
        "for value in generator_list(5):\n",
        "  print(value)\n",
        "\n",
        "size = sys.getsizeof(generator_list(5))\n",
        "\n",
        "print(size)"
      ],
      "metadata": {
        "colab": {
          "base_uri": "https://localhost:8080/"
        },
        "id": "R2SshkEoZiqF",
        "outputId": "84d98751-2be4-4871-da42-a8d431863423"
      },
      "execution_count": 34,
      "outputs": [
        {
          "output_type": "stream",
          "name": "stdout",
          "text": [
            "0\n",
            "1\n",
            "2\n",
            "3\n",
            "4\n",
            "112\n"
          ]
        }
      ]
    },
    {
      "cell_type": "markdown",
      "source": [
        "# generator comprehension"
      ],
      "metadata": {
        "id": "Kp2BbLEFa6su"
      }
    },
    {
      "cell_type": "code",
      "source": [
        "gen_ex = (n*n for n in range(500))\n",
        "\n",
        "print(type(gen_ex))"
      ],
      "metadata": {
        "colab": {
          "base_uri": "https://localhost:8080/"
        },
        "id": "rvlJKlrra9Wv",
        "outputId": "44990817-3043-419a-83a3-7f2884ab3889"
      },
      "execution_count": 35,
      "outputs": [
        {
          "output_type": "stream",
          "name": "stdout",
          "text": [
            "<class 'generator'>\n"
          ]
        }
      ]
    },
    {
      "cell_type": "markdown",
      "source": [
        "# keyword arguments"
      ],
      "metadata": {
        "id": "1_YCb_tAhSsi"
      }
    },
    {
      "cell_type": "code",
      "source": [
        "def print_something(my_name, your_name):\n",
        "  print(f'Hello {your_name}, My name is {my_name}')\n",
        "\n",
        "print_something('whatwant', 'sally')\n",
        "print_something(your_name='sally', my_name='whatwant')"
      ],
      "metadata": {
        "colab": {
          "base_uri": "https://localhost:8080/"
        },
        "id": "KFl6w2cyhVIx",
        "outputId": "86cb4852-d5ed-495f-d814-cfae61bb6c5e"
      },
      "execution_count": 36,
      "outputs": [
        {
          "output_type": "stream",
          "name": "stdout",
          "text": [
            "Hello sally, My name is whatwant\n",
            "Hello sally, My name is whatwant\n"
          ]
        }
      ]
    },
    {
      "cell_type": "markdown",
      "source": [
        "# default arguments"
      ],
      "metadata": {
        "id": "8pQUxRNwh5x1"
      }
    },
    {
      "cell_type": "code",
      "source": [
        "def print_something(my_name, your_name='sally'):\n",
        "  print(f'Hello {your_name}, My name is {my_name}')\n",
        "\n",
        "print_something('whatwant')\n",
        "print_something('whatwant', 'chani')"
      ],
      "metadata": {
        "colab": {
          "base_uri": "https://localhost:8080/"
        },
        "id": "o1VLLjlOh8OS",
        "outputId": "ae53a475-0c04-4e32-a549-b30de268ab74"
      },
      "execution_count": 37,
      "outputs": [
        {
          "output_type": "stream",
          "name": "stdout",
          "text": [
            "Hello sally, My name is whatwant\n",
            "Hello chani, My name is whatwant\n"
          ]
        }
      ]
    },
    {
      "cell_type": "markdown",
      "source": [
        "# variable-length parameters"
      ],
      "metadata": {
        "id": "Tz7NbRLFi0uz"
      }
    },
    {
      "cell_type": "code",
      "source": [
        "def asterisk_test(a, b, *args):\n",
        "  return a+b+sum(args)\n",
        "\n",
        "print(asterisk_test(1, 2, 3, 4, 5))"
      ],
      "metadata": {
        "colab": {
          "base_uri": "https://localhost:8080/"
        },
        "id": "JqdItHJPi3aR",
        "outputId": "46257f6c-243d-4122-fa98-aea8046bd9c6"
      },
      "execution_count": 38,
      "outputs": [
        {
          "output_type": "stream",
          "name": "stdout",
          "text": [
            "15\n"
          ]
        }
      ]
    },
    {
      "cell_type": "code",
      "source": [
        "def asterisk_test(*args):\n",
        "  x, y, z = args\n",
        "  return x, y, z\n",
        "\n",
        "print(asterisk_test(1, 2, 3))"
      ],
      "metadata": {
        "colab": {
          "base_uri": "https://localhost:8080/"
        },
        "id": "HTo4JN9VjWX7",
        "outputId": "da4c4ef8-6d47-4e6b-fc0d-f599f83808de"
      },
      "execution_count": 39,
      "outputs": [
        {
          "output_type": "stream",
          "name": "stdout",
          "text": [
            "(1, 2, 3)\n"
          ]
        }
      ]
    },
    {
      "cell_type": "markdown",
      "source": [
        "keyword variable-length parameters"
      ],
      "metadata": {
        "id": "PtjwfTG7j64k"
      }
    },
    {
      "cell_type": "code",
      "source": [
        "def kwargs_test_1(**kwargs):\n",
        "  print(kwargs)\n",
        "\n",
        "kwargs_test_1(first=1, second=2, third=3)"
      ],
      "metadata": {
        "colab": {
          "base_uri": "https://localhost:8080/"
        },
        "id": "MVRwh1v9j9xv",
        "outputId": "0092f360-0907-4190-85ff-b9c716bd183f"
      },
      "execution_count": 40,
      "outputs": [
        {
          "output_type": "stream",
          "name": "stdout",
          "text": [
            "{'first': 1, 'second': 2, 'third': 3}\n"
          ]
        }
      ]
    },
    {
      "cell_type": "code",
      "source": [
        "def kwargs_test_2(one, two=3, *args, **kwargs):\n",
        "  print(one+two+sum(args))\n",
        "  print(args)\n",
        "  print(kwargs)\n",
        "\n",
        "kwargs_test_2(one=10, first=3, second=4, third=5)"
      ],
      "metadata": {
        "colab": {
          "base_uri": "https://localhost:8080/"
        },
        "id": "6FrIP22akM3p",
        "outputId": "13d45467-d3f4-4e59-cf21-cb28e1552aef"
      },
      "execution_count": 41,
      "outputs": [
        {
          "output_type": "stream",
          "name": "stdout",
          "text": [
            "13\n",
            "()\n",
            "{'first': 3, 'second': 4, 'third': 5}\n"
          ]
        }
      ]
    },
    {
      "cell_type": "code",
      "source": [
        "def kwargs_test_3(one, two=3, *args, **kwargs):\n",
        "  print(one)\n",
        "  print(two)\n",
        "  print(args)\n",
        "  print(kwargs)\n",
        "\n",
        "kwargs_test_3(10, 30, 3, 4, 5, 6, first=3, second=4, third=5)"
      ],
      "metadata": {
        "colab": {
          "base_uri": "https://localhost:8080/"
        },
        "id": "NpHMbKjHlGKs",
        "outputId": "b69f9a61-b962-47ff-ec66-fdc2b0f9fb35"
      },
      "execution_count": 42,
      "outputs": [
        {
          "output_type": "stream",
          "name": "stdout",
          "text": [
            "10\n",
            "30\n",
            "(3, 4, 5, 6)\n",
            "{'first': 3, 'second': 4, 'third': 5}\n"
          ]
        }
      ]
    },
    {
      "cell_type": "markdown",
      "source": [
        "# asterisk - unpacking a container"
      ],
      "metadata": {
        "id": "Vz0SB40Ilytv"
      }
    },
    {
      "cell_type": "code",
      "source": [
        "def asterisk_test(a, *args):  # *를 만나면 unpacking이 된다.\n",
        "  print(a, args)\n",
        "  print(type(args))\n",
        "\n",
        "asterisk_test(1, *(2, 3, 4, 5, 6))"
      ],
      "metadata": {
        "colab": {
          "base_uri": "https://localhost:8080/"
        },
        "id": "52HOlzOkl3W9",
        "outputId": "323727b4-714d-4aae-b412-bb6ed41c59ed"
      },
      "execution_count": 43,
      "outputs": [
        {
          "output_type": "stream",
          "name": "stdout",
          "text": [
            "1 (2, 3, 4, 5, 6)\n",
            "<class 'tuple'>\n"
          ]
        }
      ]
    },
    {
      "cell_type": "code",
      "source": [
        "def asterisk_test(a, args):\n",
        "  print(a, *args)\n",
        "  print(type(args))\n",
        "\n",
        "asterisk_test(1, (2, 3, 4, 5, 6))"
      ],
      "metadata": {
        "colab": {
          "base_uri": "https://localhost:8080/"
        },
        "id": "AKZF6oLvmIdJ",
        "outputId": "305e55fb-da38-4bfd-d8f2-2a35f58cf639"
      },
      "execution_count": 44,
      "outputs": [
        {
          "output_type": "stream",
          "name": "stdout",
          "text": [
            "1 2 3 4 5 6\n",
            "<class 'tuple'>\n"
          ]
        }
      ]
    },
    {
      "cell_type": "code",
      "source": [
        "print([1, 2, 3, 4])\n",
        "print(*[1, 2, 3, 4])"
      ],
      "metadata": {
        "colab": {
          "base_uri": "https://localhost:8080/"
        },
        "id": "o9opE9aHmpZY",
        "outputId": "d2cbbfdd-bba4-42fd-cd76-37837434575e"
      },
      "execution_count": 45,
      "outputs": [
        {
          "output_type": "stream",
          "name": "stdout",
          "text": [
            "[1, 2, 3, 4]\n",
            "1 2 3 4\n"
          ]
        }
      ]
    }
  ]
}