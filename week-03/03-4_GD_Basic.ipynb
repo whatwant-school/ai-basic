{
  "nbformat": 4,
  "nbformat_minor": 0,
  "metadata": {
    "colab": {
      "provenance": []
    },
    "kernelspec": {
      "name": "python3",
      "display_name": "Python 3"
    },
    "language_info": {
      "name": "python"
    }
  },
  "cells": [
    {
      "cell_type": "code",
      "execution_count": 1,
      "metadata": {
        "colab": {
          "base_uri": "https://localhost:8080/"
        },
        "id": "uIWqIEN95xjO",
        "outputId": "17ed16bd-b5a5-438c-fdcc-82165f53bc74"
      },
      "outputs": [
        {
          "output_type": "stream",
          "name": "stdout",
          "text": [
            "Poly(2*x + 2, x, domain='ZZ')\n"
          ]
        }
      ],
      "source": [
        "import sympy as sym\n",
        "from sympy.abc import x\n",
        "\n",
        "z = sym.diff(sym.poly(x**2 + 2*x + 3), x)\n",
        "\n",
        "print(z)"
      ]
    }
  ]
}