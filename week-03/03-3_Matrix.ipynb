{
  "nbformat": 4,
  "nbformat_minor": 0,
  "metadata": {
    "colab": {
      "provenance": []
    },
    "kernelspec": {
      "name": "python3",
      "display_name": "Python 3"
    },
    "language_info": {
      "name": "python"
    }
  },
  "cells": [
    {
      "cell_type": "code",
      "execution_count": 2,
      "metadata": {
        "colab": {
          "base_uri": "https://localhost:8080/"
        },
        "id": "4zPWWLQWSar4",
        "outputId": "95117541-8387-4695-bb3c-265867045ebd"
      },
      "outputs": [
        {
          "output_type": "stream",
          "name": "stdout",
          "text": [
            "[[ 1 -2  3]\n",
            " [ 7  5  0]\n",
            " [-2 -1  2]]\n"
          ]
        }
      ],
      "source": [
        "import numpy as np\n",
        "\n",
        "X = np.array([[1, -2, 3],\n",
        "              [7, 5, 0],\n",
        "              [-2, -1, 2]])\n",
        "\n",
        "print(X)"
      ]
    },
    {
      "cell_type": "code",
      "source": [
        "X = np.array([[1, -2, 3],\n",
        "              [7, 5, 0],\n",
        "              [-2, -1, 2]])\n",
        "\n",
        "Y = np.array([[0, 1],\n",
        "              [1, -1],\n",
        "              [-2, 1]])\n",
        "\n",
        "Z = X @ Y\n",
        "\n",
        "print(Z)"
      ],
      "metadata": {
        "colab": {
          "base_uri": "https://localhost:8080/"
        },
        "id": "Hv0623sEb5n5",
        "outputId": "d729fa33-c045-4235-e0f6-294deb6bc9d7"
      },
      "execution_count": 5,
      "outputs": [
        {
          "output_type": "stream",
          "name": "stdout",
          "text": [
            "[[-8  6]\n",
            " [ 5  2]\n",
            " [-5  1]]\n"
          ]
        }
      ]
    },
    {
      "cell_type": "code",
      "source": [
        "X = np.array([[1, -2, 3],\n",
        "              [7, 5, 0],\n",
        "              [-2, -1, 2]])\n",
        "\n",
        "Y = np.array([[0, 1, -1],\n",
        "              [1, -1, 0]])\n",
        "\n",
        "Z = np.inner(X, Y)\n",
        "\n",
        "print(Z)"
      ],
      "metadata": {
        "colab": {
          "base_uri": "https://localhost:8080/"
        },
        "id": "M4mBS1tSee7V",
        "outputId": "a8ee6175-a7f9-4a18-e95e-05e4f68a710b"
      },
      "execution_count": 6,
      "outputs": [
        {
          "output_type": "stream",
          "name": "stdout",
          "text": [
            "[[-5  3]\n",
            " [ 5  2]\n",
            " [-3 -1]]\n"
          ]
        }
      ]
    },
    {
      "cell_type": "code",
      "source": [
        "X = np.array([[1, -2, 3],\n",
        "              [7, 5, 0],\n",
        "              [-2, -1, 2]])\n",
        "\n",
        "X_inv = np.linalg.inv(X)\n",
        "\n",
        "Z = X @ X_inv\n",
        "\n",
        "print(X_inv)\n",
        "print(Z)"
      ],
      "metadata": {
        "colab": {
          "base_uri": "https://localhost:8080/"
        },
        "id": "evNwO4tops3V",
        "outputId": "ff931c65-ded7-4dbe-9c67-958155a49a76"
      },
      "execution_count": 8,
      "outputs": [
        {
          "output_type": "stream",
          "name": "stdout",
          "text": [
            "[[ 0.21276596  0.0212766  -0.31914894]\n",
            " [-0.29787234  0.17021277  0.44680851]\n",
            " [ 0.06382979  0.10638298  0.40425532]]\n",
            "[[ 1.00000000e+00 -1.38777878e-17  0.00000000e+00]\n",
            " [-2.22044605e-16  1.00000000e+00 -5.55111512e-17]\n",
            " [-2.77555756e-17  0.00000000e+00  1.00000000e+00]]\n"
          ]
        }
      ]
    },
    {
      "cell_type": "code",
      "source": [
        "Y = np.array([[0, 1],\n",
        "              [1, -1],\n",
        "              [-2, 1]])\n",
        "\n",
        "Y_pinv = np.linalg.pinv(Y)  # 행과 열의 개수가 다르기에 역행렬을 못구하는 경우지만, 유사 역행렬 계산\n",
        "\n",
        "Z = Y_pinv @ Y\n",
        "\n",
        "print(Y_pinv)\n",
        "print(Z)"
      ],
      "metadata": {
        "colab": {
          "base_uri": "https://localhost:8080/"
        },
        "id": "J7GeHN-yuevR",
        "outputId": "23ead678-1046-4ee7-fbd0-2923f18fda4b"
      },
      "execution_count": 10,
      "outputs": [
        {
          "output_type": "stream",
          "name": "stdout",
          "text": [
            "[[ 5.00000000e-01  4.09730229e-17 -5.00000000e-01]\n",
            " [ 8.33333333e-01 -3.33333333e-01 -1.66666667e-01]]\n",
            "[[ 1.00000000e+00 -2.22044605e-16]\n",
            " [ 0.00000000e+00  1.00000000e+00]]\n"
          ]
        }
      ]
    },
    {
      "cell_type": "code",
      "source": [
        "from sklearn.linear_model import LinearRegression\n",
        "\n",
        "model = LinearRegression()\n",
        "model.fit(X, y)\n",
        "\n",
        "y_test = model.predict(x_test)\n",
        "\n",
        "\n",
        "# Moore-Penrose 역행렬\n",
        "\n",
        "beta = np.linalg.pinv(X) @ y\n",
        "y_test = np.append(x_test) @ beta\n",
        "\n",
        "# 위와 같이만 해서는 다른 결과가 나옴\n",
        "\n",
        "# y절편 항을 직접 추가해줘야 같은 결과\n",
        "\n",
        "X_ = np.array([np.append(x, [1]) for x in X])  # intercept(y절편) 항 추가\n",
        "beta = np.linalg.pinv(X_) @ y\n",
        "y_test = np.append(x_test, [1]) @ beta"
      ],
      "metadata": {
        "id": "dbO-BJSRi8WJ"
      },
      "execution_count": null,
      "outputs": []
    }
  ]
}