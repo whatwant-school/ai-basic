{
  "nbformat": 4,
  "nbformat_minor": 0,
  "metadata": {
    "colab": {
      "provenance": []
    },
    "kernelspec": {
      "name": "python3",
      "display_name": "Python 3"
    },
    "language_info": {
      "name": "python"
    }
  },
  "cells": [
    {
      "cell_type": "code",
      "execution_count": 1,
      "metadata": {
        "colab": {
          "base_uri": "https://localhost:8080/"
        },
        "id": "Tvh9r3wf8hJC",
        "outputId": "a8aa0e77-31e2-4a38-9c03-fec0f0bf162b"
      },
      "outputs": [
        {
          "output_type": "stream",
          "name": "stdout",
          "text": [
            "[ 5 14  2]\n"
          ]
        }
      ],
      "source": [
        "import numpy as np\n",
        "\n",
        "x = np.array([1, 7, 2])\n",
        "y = np.array([5, 2, 1])\n",
        "\n",
        "z = x * y\n",
        "\n",
        "print(z)"
      ]
    },
    {
      "cell_type": "code",
      "source": [
        "def l1_norm(x):\n",
        "  x_norm = np.abs(x)\n",
        "  return np.sum(x_norm)\n",
        "\n",
        "def l2_norm(x):\n",
        "  x_norm = x * x\n",
        "  x_norm = np.sum(x_norm)\n",
        "  return np.sqrt(x_norm)\n",
        "\n",
        "x = np.array([1, 7, 2])\n",
        "\n",
        "print(l1_norm(x))\n",
        "print(l2_norm(x))"
      ],
      "metadata": {
        "colab": {
          "base_uri": "https://localhost:8080/"
        },
        "id": "Eymhff-GAWvI",
        "outputId": "a5a377a2-5e02-4cd6-c56f-b3856e7aa598"
      },
      "execution_count": 2,
      "outputs": [
        {
          "output_type": "stream",
          "name": "stdout",
          "text": [
            "10\n",
            "7.3484692283495345\n"
          ]
        }
      ]
    },
    {
      "cell_type": "code",
      "source": [
        "def angle(x, y):\n",
        "  v = np.inner(x, y) / (l2_norm(x) * l2_norm(y))\n",
        "  return np.arccos(v)\n",
        "\n",
        "x = np.array([1, 7, 2])\n",
        "y = np.array([5, 2, 1])\n",
        "\n",
        "print(angle(x, y))"
      ],
      "metadata": {
        "colab": {
          "base_uri": "https://localhost:8080/"
        },
        "id": "SZBBCUxVOugg",
        "outputId": "9778ab1a-7f8b-4630-af06-7e022861e5a8"
      },
      "execution_count": 3,
      "outputs": [
        {
          "output_type": "stream",
          "name": "stdout",
          "text": [
            "1.0218962578343371\n"
          ]
        }
      ]
    }
  ]
}