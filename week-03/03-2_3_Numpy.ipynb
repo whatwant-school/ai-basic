{
  "nbformat": 4,
  "nbformat_minor": 0,
  "metadata": {
    "colab": {
      "provenance": []
    },
    "kernelspec": {
      "name": "python3",
      "display_name": "Python 3"
    },
    "language_info": {
      "name": "python"
    }
  },
  "cells": [
    {
      "cell_type": "code",
      "execution_count": 1,
      "metadata": {
        "colab": {
          "base_uri": "https://localhost:8080/"
        },
        "id": "SxAUzSb6fF5h",
        "outputId": "fe299c20-2acd-4e3a-da5e-8a7ce1f0c2b1"
      },
      "outputs": [
        {
          "output_type": "stream",
          "name": "stdout",
          "text": [
            "[1. 4. 5. 8.]\n",
            "<class 'numpy.ndarray'>\n",
            "<class 'numpy.float64'>\n"
          ]
        }
      ],
      "source": [
        "import numpy as np\n",
        "\n",
        "test_array = np.array([\"1\", \"4\", 5, 8], float)\n",
        "\n",
        "print(test_array)\n",
        "print(type(test_array))\n",
        "print(type(test_array[3]))"
      ]
    },
    {
      "cell_type": "code",
      "source": [
        "test_array = np.array([[[1, \"8\"],[1, \"8\"],[1, \"8\"]],\n",
        "                       [[1, \"8\"],[1, \"8\"],[1, \"8\"]],\n",
        "                       [[1, \"8\"],[1, \"8\"],[1, \"8\"]],\n",
        "                       [[1, \"8\"],[1, \"8\"],[1, \"8\"]]], np.float32)\n",
        "\n",
        "print(test_array.dtype)  # ndarray 전체의 데이터 Type을 반환\n",
        "print(test_array.shape)  # ndarray shape을 반환 \n",
        "print(test_array.ndim)   # number of dimension\n",
        "print(test_array.size)   # number of data"
      ],
      "metadata": {
        "colab": {
          "base_uri": "https://localhost:8080/"
        },
        "id": "AG8Vuppehr6_",
        "outputId": "dda25ba1-186a-4fe0-fa04-34050a1c9493"
      },
      "execution_count": 2,
      "outputs": [
        {
          "output_type": "stream",
          "name": "stdout",
          "text": [
            "float32\n",
            "(4, 3, 2)\n",
            "3\n",
            "24\n"
          ]
        }
      ]
    },
    {
      "cell_type": "code",
      "source": [
        "test_matrix = [[1,2,3,4], [5,6,7,8]]\n",
        "\n",
        "print(np.array(test_matrix).shape)\n",
        "print(np.array(test_matrix).reshape(2,2,2))\n",
        "print(np.array(test_matrix).reshape(8,).shape)\n",
        "print(np.array(test_matrix).reshape(-1,2).shape)  # -1 : size를 기반으로 row 개수 선정"
      ],
      "metadata": {
        "colab": {
          "base_uri": "https://localhost:8080/"
        },
        "id": "JVZE9Yhbk7Mp",
        "outputId": "3760bbbf-3c31-4952-9588-a7c061b258a2"
      },
      "execution_count": 3,
      "outputs": [
        {
          "output_type": "stream",
          "name": "stdout",
          "text": [
            "(2, 4)\n",
            "[[[1 2]\n",
            "  [3 4]]\n",
            "\n",
            " [[5 6]\n",
            "  [7 8]]]\n",
            "(8,)\n",
            "(4, 2)\n"
          ]
        }
      ]
    },
    {
      "cell_type": "code",
      "source": [
        "a = np.array([[1, 2, 3], [4.5, 5, 6]], int)\n",
        "\n",
        "print(a)\n",
        "print(a[0, 0])  # Two dimensional array representation\n",
        "print(a[0][0])"
      ],
      "metadata": {
        "colab": {
          "base_uri": "https://localhost:8080/"
        },
        "id": "Hao9VkPFnCVb",
        "outputId": "2a2ec00c-125e-4e63-c5ef-57c1779c6ae2"
      },
      "execution_count": 4,
      "outputs": [
        {
          "output_type": "stream",
          "name": "stdout",
          "text": [
            "[[1 2 3]\n",
            " [4 5 6]]\n",
            "1\n",
            "1\n"
          ]
        }
      ]
    },
    {
      "cell_type": "code",
      "source": [
        "a = np.array([[1, 2, 3, 4, 5], [6, 7, 8, 9, 10]], int)\n",
        "\n",
        "print(a[:, 2:])   # 전체 row의 2열 이상\n",
        "print(a[1, 1:3])  # 1 row의 1~2열\n",
        "print(a[1:2])     # 1 row 전체"
      ],
      "metadata": {
        "colab": {
          "base_uri": "https://localhost:8080/"
        },
        "id": "kmMIDiuGn2Z-",
        "outputId": "25a40995-faf8-4eea-c1e0-145c66e146bb"
      },
      "execution_count": 5,
      "outputs": [
        {
          "output_type": "stream",
          "name": "stdout",
          "text": [
            "[[ 3  4  5]\n",
            " [ 8  9 10]]\n",
            "[7 8]\n",
            "[[ 6  7  8  9 10]]\n"
          ]
        }
      ]
    },
    {
      "cell_type": "code",
      "source": [
        "a = np.array([[1, 2, 3, 4, 5], [6, 7, 8, 9, 10]], int)\n",
        "\n",
        "print(a[:, ::2])    # 전체 row의 2간격 column\n",
        "print(a[::2, ::3])  # 홀수 row의 3간격 column"
      ],
      "metadata": {
        "colab": {
          "base_uri": "https://localhost:8080/"
        },
        "id": "EUqhVixtpNzq",
        "outputId": "abc6ae71-aff1-4803-f21d-bdfb9032fc47"
      },
      "execution_count": 6,
      "outputs": [
        {
          "output_type": "stream",
          "name": "stdout",
          "text": [
            "[[ 1  3  5]\n",
            " [ 6  8 10]]\n",
            "[[1 4]]\n"
          ]
        }
      ]
    },
    {
      "cell_type": "code",
      "source": [
        "np.arange(0, 5, 0.5).reshape(-1, 5)"
      ],
      "metadata": {
        "colab": {
          "base_uri": "https://localhost:8080/"
        },
        "id": "BBzs0YRwqkhK",
        "outputId": "a3b7c7e9-5301-414c-f414-785583041d5f"
      },
      "execution_count": 7,
      "outputs": [
        {
          "output_type": "execute_result",
          "data": {
            "text/plain": [
              "array([[0. , 0.5, 1. , 1.5, 2. ],\n",
              "       [2.5, 3. , 3.5, 4. , 4.5]])"
            ]
          },
          "metadata": {},
          "execution_count": 7
        }
      ]
    },
    {
      "cell_type": "code",
      "source": [
        "z = np.zeros(shape=(10,), dtype=np.int8)\n",
        "o = np.ones(shape=(2,5), dtype=np.int8)\n",
        "e = np.empty(shape=(10,), dtype=np.int8)  # shape만 주어지고 비어있는 ndarray 생성 (memory initialization 안됨)\n",
        "\n",
        "print(z)\n",
        "print(o)\n",
        "print(e)"
      ],
      "metadata": {
        "colab": {
          "base_uri": "https://localhost:8080/"
        },
        "id": "3hWMx6-vrc2c",
        "outputId": "a823f7b0-2431-42a7-a88e-ed47bb066ad1"
      },
      "execution_count": 8,
      "outputs": [
        {
          "output_type": "stream",
          "name": "stdout",
          "text": [
            "[0 0 0 0 0 0 0 0 0 0]\n",
            "[[1 1 1 1 1]\n",
            " [1 1 1 1 1]]\n",
            "[ 32 111  57   2   0   0   0   0   0   0]\n"
          ]
        }
      ]
    },
    {
      "cell_type": "code",
      "source": [
        "i = np.eye(3)\n",
        "n = np.eye(N=3, M=5, dtype=np.int8)\n",
        "k = np.eye(N=3, M=5, k=2, dtype=np.int8)  # k = start index\n",
        "\n",
        "print(i)\n",
        "print(n)\n",
        "print(k)"
      ],
      "metadata": {
        "colab": {
          "base_uri": "https://localhost:8080/"
        },
        "id": "CKUjE1awtrNC",
        "outputId": "bf04ff37-1fa1-476c-d7db-8ce2824cc969"
      },
      "execution_count": 9,
      "outputs": [
        {
          "output_type": "stream",
          "name": "stdout",
          "text": [
            "[[1. 0. 0.]\n",
            " [0. 1. 0.]\n",
            " [0. 0. 1.]]\n",
            "[[1 0 0 0 0]\n",
            " [0 1 0 0 0]\n",
            " [0 0 1 0 0]]\n",
            "[[0 0 1 0 0]\n",
            " [0 0 0 1 0]\n",
            " [0 0 0 0 1]]\n"
          ]
        }
      ]
    },
    {
      "cell_type": "code",
      "source": [
        "u = np.random.uniform(0, 1, 10).reshape(2, 5)  # 균등 분포\n",
        "n = np.random.normal(0, 1, 10).reshape(2, 5)   # 정규 분포\n",
        "\n",
        "print(u)\n",
        "print(n)"
      ],
      "metadata": {
        "colab": {
          "base_uri": "https://localhost:8080/"
        },
        "id": "OluCiV6_uePo",
        "outputId": "1bb0b508-9aa1-4ea8-f81c-6a171b950902"
      },
      "execution_count": 10,
      "outputs": [
        {
          "output_type": "stream",
          "name": "stdout",
          "text": [
            "[[0.79911654 0.39591222 0.69292923 0.02523411 0.55770022]\n",
            " [0.12698392 0.73762727 0.26166284 0.95596341 0.92487293]]\n",
            "[[-0.55062125 -0.7146251  -0.60507011  0.08581904 -0.90748115]\n",
            " [-0.1132815   0.4065792  -1.70684328 -0.50434708  0.67549178]]\n"
          ]
        }
      ]
    },
    {
      "cell_type": "code",
      "source": [
        "test_array = np.arange(1, 13).reshape(3, 4)\n",
        "\n",
        "r_sum = test_array.sum(axis=1)  # 가로(row) 방향\n",
        "c_sum = test_array.sum(axis=0)  # 세로(column) 방향\n",
        "\n",
        "print(test_array)\n",
        "print(r_sum)\n",
        "print(c_sum)"
      ],
      "metadata": {
        "colab": {
          "base_uri": "https://localhost:8080/"
        },
        "id": "tGgdoGyEvZ4o",
        "outputId": "39b12fe2-ac56-4f35-fdf6-2c3f7bfd7542"
      },
      "execution_count": 11,
      "outputs": [
        {
          "output_type": "stream",
          "name": "stdout",
          "text": [
            "[[ 1  2  3  4]\n",
            " [ 5  6  7  8]\n",
            " [ 9 10 11 12]]\n",
            "[10 26 42]\n",
            "[15 18 21 24]\n"
          ]
        }
      ]
    },
    {
      "cell_type": "code",
      "source": [
        "a = np.array([1, 2, 3])\n",
        "b = np.array([4, 5, 6])\n",
        "c = np.vstack((a, b))\n",
        "\n",
        "d = np.array([[1], [2], [3]])\n",
        "e = np.array([[4], [5], [6]])\n",
        "f = np.hstack((d, e))\n",
        "\n",
        "print(c)\n",
        "print(f)"
      ],
      "metadata": {
        "colab": {
          "base_uri": "https://localhost:8080/"
        },
        "id": "geXq-pCjwrXT",
        "outputId": "17e98158-dce4-43b5-d955-cd71503246b0"
      },
      "execution_count": 12,
      "outputs": [
        {
          "output_type": "stream",
          "name": "stdout",
          "text": [
            "[[1 2 3]\n",
            " [4 5 6]]\n",
            "[[1 4]\n",
            " [2 5]\n",
            " [3 6]]\n"
          ]
        }
      ]
    },
    {
      "cell_type": "code",
      "source": [
        "a = np.array([[1, 2, 3]])\n",
        "b = np.array([[4, 5, 6]])\n",
        "c = np.concatenate((a, b), axis=0)\n",
        "\n",
        "d = np.array([[1, 2], [3, 4]])\n",
        "e = np.array([[5, 6]])\n",
        "f = np.concatenate((d, e.T), axis=1)\n",
        "\n",
        "print(c)\n",
        "print(f)"
      ],
      "metadata": {
        "colab": {
          "base_uri": "https://localhost:8080/"
        },
        "id": "4ypBurZRxbUk",
        "outputId": "92e19081-ed50-4490-c4bb-93236fe333d3"
      },
      "execution_count": 13,
      "outputs": [
        {
          "output_type": "stream",
          "name": "stdout",
          "text": [
            "[[1 2 3]\n",
            " [4 5 6]]\n",
            "[[1 2 5]\n",
            " [3 4 6]]\n"
          ]
        }
      ]
    },
    {
      "cell_type": "code",
      "source": [
        "matrix_a = np.arange(1, 13).reshape(3, 4)\n",
        "matrix_b = matrix_a * matrix_a\n",
        "\n",
        "print(matrix_a)\n",
        "print(matrix_b)"
      ],
      "metadata": {
        "colab": {
          "base_uri": "https://localhost:8080/"
        },
        "id": "O2ZreacPy4Ci",
        "outputId": "3b79adfc-6cb5-4e88-85db-8a4df95499f2"
      },
      "execution_count": 14,
      "outputs": [
        {
          "output_type": "stream",
          "name": "stdout",
          "text": [
            "[[ 1  2  3  4]\n",
            " [ 5  6  7  8]\n",
            " [ 9 10 11 12]]\n",
            "[[  1   4   9  16]\n",
            " [ 25  36  49  64]\n",
            " [ 81 100 121 144]]\n"
          ]
        }
      ]
    },
    {
      "cell_type": "code",
      "source": [
        "test_a =  np.arange(1, 7).reshape(2, 3)\n",
        "test_b =  np.arange(7, 13).reshape(3, 2)\n",
        "\n",
        "test_c = test_a.dot(test_b)\n",
        "\n",
        "print(test_a)\n",
        "print(test_b)\n",
        "print(test_c)"
      ],
      "metadata": {
        "colab": {
          "base_uri": "https://localhost:8080/"
        },
        "id": "idZsCCmtzU-_",
        "outputId": "5ab021cd-b6db-4a36-bc91-2f235d1459fd"
      },
      "execution_count": 15,
      "outputs": [
        {
          "output_type": "stream",
          "name": "stdout",
          "text": [
            "[[1 2 3]\n",
            " [4 5 6]]\n",
            "[[ 7  8]\n",
            " [ 9 10]\n",
            " [11 12]]\n",
            "[[ 58  64]\n",
            " [139 154]]\n"
          ]
        }
      ]
    },
    {
      "cell_type": "code",
      "source": [
        "test_matrix = np.array([[1, 2, 3], [4, 5, 6]], float)\n",
        "scalar = 3\n",
        "\n",
        "r = test_matrix + scalar\n",
        "\n",
        "print(test_matrix)\n",
        "print(scalar)\n",
        "print(r)"
      ],
      "metadata": {
        "colab": {
          "base_uri": "https://localhost:8080/"
        },
        "id": "HcsMFRwdz99O",
        "outputId": "32c369c7-515e-4066-d6d0-426b3b3bd6a3"
      },
      "execution_count": 16,
      "outputs": [
        {
          "output_type": "stream",
          "name": "stdout",
          "text": [
            "[[1. 2. 3.]\n",
            " [4. 5. 6.]]\n",
            "3\n",
            "[[4. 5. 6.]\n",
            " [7. 8. 9.]]\n"
          ]
        }
      ]
    },
    {
      "cell_type": "code",
      "source": [
        "matrix_a = np.array([[0, 0, 0], [10, 10, 10], [20, 20, 20], [30, 30, 30]], float)\n",
        "matrix_b = np.array([[1, 2, 3]], float)\n",
        "\n",
        "matrix_c = matrix_a + matrix_b\n",
        "\n",
        "print(matrix_a)\n",
        "print(matrix_b)\n",
        "print(matrix_c)"
      ],
      "metadata": {
        "colab": {
          "base_uri": "https://localhost:8080/"
        },
        "id": "20Oddxyv014J",
        "outputId": "cc7a9f73-4f9f-4a04-bdaa-bbd80308b03e"
      },
      "execution_count": 17,
      "outputs": [
        {
          "output_type": "stream",
          "name": "stdout",
          "text": [
            "[[ 0.  0.  0.]\n",
            " [10. 10. 10.]\n",
            " [20. 20. 20.]\n",
            " [30. 30. 30.]]\n",
            "[[1. 2. 3.]]\n",
            "[[ 1.  2.  3.]\n",
            " [11. 12. 13.]\n",
            " [21. 22. 23.]\n",
            " [31. 32. 33.]]\n"
          ]
        }
      ]
    },
    {
      "cell_type": "code",
      "source": [
        "a = np.arange(10)\n",
        "\n",
        "print(a)\n",
        "print(a>5)          # 각 element와 비교한 결과를 array로 반환\n",
        "print(np,any(a>5))  # element 중 하나라도 만족하면 True\n",
        "print(np,any(a<0))  # element 중 하나도 만족하지 못하면 False\n",
        "print(np,all(a>5))  # element 모두 만족하지 못하면 False\n",
        "print(np,all(a<10)) # element 모두 만족하면 True"
      ],
      "metadata": {
        "colab": {
          "base_uri": "https://localhost:8080/"
        },
        "id": "lLMcENYb2WYg",
        "outputId": "0baf8cc9-8ac9-4df7-dbb6-718406f5ff1e"
      },
      "execution_count": 18,
      "outputs": [
        {
          "output_type": "stream",
          "name": "stdout",
          "text": [
            "[0 1 2 3 4 5 6 7 8 9]\n",
            "[False False False False False False  True  True  True  True]\n",
            "<module 'numpy' from '/usr/local/lib/python3.8/dist-packages/numpy/__init__.py'> True\n",
            "<module 'numpy' from '/usr/local/lib/python3.8/dist-packages/numpy/__init__.py'> False\n",
            "<module 'numpy' from '/usr/local/lib/python3.8/dist-packages/numpy/__init__.py'> False\n",
            "<module 'numpy' from '/usr/local/lib/python3.8/dist-packages/numpy/__init__.py'> True\n"
          ]
        }
      ]
    },
    {
      "cell_type": "code",
      "source": [
        "a = np.arange(5) * 10\n",
        "b = np.where(a < 30, 1, 0)\n",
        "c = np.where(a > 20)\n",
        "\n",
        "print(a)\n",
        "print(b)\n",
        "print(c)"
      ],
      "metadata": {
        "colab": {
          "base_uri": "https://localhost:8080/"
        },
        "id": "SXYVvpMg7xnG",
        "outputId": "a3e6c519-cfd0-4772-c35b-07652b1371e0"
      },
      "execution_count": 19,
      "outputs": [
        {
          "output_type": "stream",
          "name": "stdout",
          "text": [
            "[ 0 10 20 30 40]\n",
            "[1 1 1 0 0]\n",
            "(array([3, 4]),)\n"
          ]
        }
      ]
    },
    {
      "cell_type": "code",
      "source": [
        "a = np.array([1, 2, 4, 5, 8, 78, 23, 3])\n",
        "\n",
        "b = np.argmin(a)  # index 값으로 반환\n",
        "c = np.argmax(a)  # index 값으로 반환\n",
        "\n",
        "print(a)\n",
        "print(b)\n",
        "print(c)"
      ],
      "metadata": {
        "colab": {
          "base_uri": "https://localhost:8080/"
        },
        "id": "1pqvgmZF9eva",
        "outputId": "599804b3-8532-4f10-c942-505cd1f09d44"
      },
      "execution_count": 20,
      "outputs": [
        {
          "output_type": "stream",
          "name": "stdout",
          "text": [
            "[ 1  2  4  5  8 78 23  3]\n",
            "0\n",
            "5\n"
          ]
        }
      ]
    },
    {
      "cell_type": "code",
      "source": [
        "a = np.array([[1, 10, 4, 7], [8, 5, 78, 23], [9, 7, 6, 3]])\n",
        "\n",
        "b = np.argmin(a, axis=0)  # column 방향\n",
        "c = np.argmax(a, axis=1)  # row 방향\n",
        "\n",
        "print(a)\n",
        "print(b)\n",
        "print(c)"
      ],
      "metadata": {
        "colab": {
          "base_uri": "https://localhost:8080/"
        },
        "id": "WL6KmTeh-JDg",
        "outputId": "36fc9936-d77d-4134-b549-7e12458f3609"
      },
      "execution_count": 21,
      "outputs": [
        {
          "output_type": "stream",
          "name": "stdout",
          "text": [
            "[[ 1 10  4  7]\n",
            " [ 8  5 78 23]\n",
            " [ 9  7  6  3]]\n",
            "[0 1 0 2]\n",
            "[1 2 0]\n"
          ]
        }
      ]
    },
    {
      "cell_type": "code",
      "source": [
        "a = np.array([1, 4, 0, 2, 3, 8, 9, 7], float)\n",
        "b = a[a > 5]\n",
        "\n",
        "c = a < 3\n",
        "d = a[c]\n",
        "\n",
        "print(a)\n",
        "print(b)\n",
        "print(c)\n",
        "print(d)"
      ],
      "metadata": {
        "colab": {
          "base_uri": "https://localhost:8080/"
        },
        "id": "JYSUNc4K_2aH",
        "outputId": "0459f9aa-3925-41f1-a37e-508f8c7a62a4"
      },
      "execution_count": 22,
      "outputs": [
        {
          "output_type": "stream",
          "name": "stdout",
          "text": [
            "[1. 4. 0. 2. 3. 8. 9. 7.]\n",
            "[8. 9. 7.]\n",
            "[ True False  True  True False False False False]\n",
            "[1. 0. 2.]\n"
          ]
        }
      ]
    },
    {
      "cell_type": "code",
      "source": [
        "a = np.array([2, 4, 6, 8], float)\n",
        "b = np.array([0, 0, 1, 3, 2, 1], int)  # 반드시 integer로 선언\n",
        "\n",
        "c = a[b]       # bracket index\n",
        "d = a.take(b)  # bracket index와 같은 효과\n",
        "\n",
        "print(a)\n",
        "print(b)\n",
        "print(c)\n",
        "print(d)"
      ],
      "metadata": {
        "colab": {
          "base_uri": "https://localhost:8080/"
        },
        "id": "iXkhGTs_BYWE",
        "outputId": "07b8886b-14a6-4461-ce66-e92f06bb1438"
      },
      "execution_count": 23,
      "outputs": [
        {
          "output_type": "stream",
          "name": "stdout",
          "text": [
            "[2. 4. 6. 8.]\n",
            "[0 0 1 3 2 1]\n",
            "[2. 2. 4. 8. 6. 4.]\n",
            "[2. 2. 4. 8. 6. 4.]\n"
          ]
        }
      ]
    }
  ]
}