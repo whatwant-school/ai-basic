{
  "nbformat": 4,
  "nbformat_minor": 0,
  "metadata": {
    "colab": {
      "provenance": []
    },
    "kernelspec": {
      "name": "python3",
      "display_name": "Python 3"
    },
    "language_info": {
      "name": "python"
    }
  },
  "cells": [
    {
      "cell_type": "markdown",
      "source": [
        "# Copy By Reference"
      ],
      "metadata": {
        "id": "Ufu0ibo3SN53"
      }
    },
    {
      "cell_type": "code",
      "execution_count": 1,
      "metadata": {
        "colab": {
          "base_uri": "https://localhost:8080/"
        },
        "id": "YRTyDoyyRwYq",
        "outputId": "04ddbeec-954f-4a59-c96a-f8d161ba2948"
      },
      "outputs": [
        {
          "output_type": "stream",
          "name": "stdout",
          "text": [
            "[1, 2, 3, 4, 5]\n",
            "[1, 2, 3, 4, 5]\n"
          ]
        }
      ],
      "source": [
        "a = [5, 4, 3, 2, 1]\n",
        "\n",
        "# copy by reference\n",
        "b = a\n",
        "\n",
        "a.sort()\n",
        "\n",
        "print(a)\n",
        "print(b)"
      ]
    },
    {
      "cell_type": "code",
      "source": [
        "a = [5, 4, 3, 2, 1]\n",
        "\n",
        "# copy by value\n",
        "# 하지만, 1차원에서만 적용되고, 2차원 이상에서는 안됨\n",
        "b = a[:]\n",
        "\n",
        "a.sort()\n",
        "print(a)\n",
        "print(b)"
      ],
      "metadata": {
        "colab": {
          "base_uri": "https://localhost:8080/"
        },
        "id": "4qpc6Id8SaXE",
        "outputId": "9bd97269-2d91-465b-af0f-dd3617eb7766"
      },
      "execution_count": 2,
      "outputs": [
        {
          "output_type": "stream",
          "name": "stdout",
          "text": [
            "[1, 2, 3, 4, 5]\n",
            "[5, 4, 3, 2, 1]\n"
          ]
        }
      ]
    },
    {
      "cell_type": "code",
      "source": [
        "# 2차원 list에서 복사 시도\n",
        "\n",
        "kor_score = [49, 79, 20, 100, 80]\n",
        "math_score = [43, 59, 85, 30, 90]\n",
        "eng_score = [49, 79, 48, 60, 100]\n",
        "\n",
        "midterm_score = [kor_score, math_score, eng_score]\n",
        "\n",
        "print(midterm_score)\n",
        "\n",
        "# 1차원 list에서 되었던 방식을 시도\n",
        "midterm_copy = midterm_score[:]\n",
        "midterm_score[0][3] = 50\n",
        "\n",
        "print(midterm_score)\n",
        "print(midterm_copy)\n",
        "\n",
        "# 동일한 결과 출력"
      ],
      "metadata": {
        "colab": {
          "base_uri": "https://localhost:8080/"
        },
        "id": "HDF3uqKNTjls",
        "outputId": "4341e377-6aba-45ad-bb38-17fbce5f9c56"
      },
      "execution_count": 3,
      "outputs": [
        {
          "output_type": "stream",
          "name": "stdout",
          "text": [
            "[[49, 79, 20, 100, 80], [43, 59, 85, 30, 90], [49, 79, 48, 60, 100]]\n",
            "[[49, 79, 20, 50, 80], [43, 59, 85, 30, 90], [49, 79, 48, 60, 100]]\n",
            "[[49, 79, 20, 50, 80], [43, 59, 85, 30, 90], [49, 79, 48, 60, 100]]\n"
          ]
        }
      ]
    },
    {
      "cell_type": "code",
      "source": [
        "# 2차원 이상 list를 위한 복사 방법\n",
        "\n",
        "kor_score = [49, 79, 20, 100, 80]\n",
        "math_score = [43, 59, 85, 30, 90]\n",
        "eng_score = [49, 79, 48, 60, 100]\n",
        "\n",
        "midterm_score = [kor_score, math_score, eng_score]\n",
        "\n",
        "print(midterm_score)\n",
        "\n",
        "# 새로운 방법\n",
        "import copy\n",
        "\n",
        "midterm_copy = copy.deepcopy(midterm_score)\n",
        "midterm_score[0][3] = 50\n",
        "\n",
        "print(midterm_score)\n",
        "print(midterm_copy)\n",
        "\n",
        "# 다른 결과 출력"
      ],
      "metadata": {
        "colab": {
          "base_uri": "https://localhost:8080/"
        },
        "id": "2_30FCXXUlT9",
        "outputId": "29eb0e17-0aaf-4c15-842f-426977035cc9"
      },
      "execution_count": 4,
      "outputs": [
        {
          "output_type": "stream",
          "name": "stdout",
          "text": [
            "[[49, 79, 20, 100, 80], [43, 59, 85, 30, 90], [49, 79, 48, 60, 100]]\n",
            "[[49, 79, 20, 50, 80], [43, 59, 85, 30, 90], [49, 79, 48, 60, 100]]\n",
            "[[49, 79, 20, 100, 80], [43, 59, 85, 30, 90], [49, 79, 48, 60, 100]]\n"
          ]
        }
      ]
    },
    {
      "cell_type": "markdown",
      "source": [
        "# Packing / Unpacking"
      ],
      "metadata": {
        "id": "KWY7km2JTDO9"
      }
    },
    {
      "cell_type": "code",
      "source": [
        "t = [1, 2, 3]\n",
        "\n",
        "a, b, c = t\n",
        "\n",
        "print(a, b, c)"
      ],
      "metadata": {
        "colab": {
          "base_uri": "https://localhost:8080/"
        },
        "id": "5-MWxFBiTHJI",
        "outputId": "99eb9e24-908a-4893-d994-a56869b43882"
      },
      "execution_count": 5,
      "outputs": [
        {
          "output_type": "stream",
          "name": "stdout",
          "text": [
            "1 2 3\n"
          ]
        }
      ]
    },
    {
      "cell_type": "markdown",
      "source": [
        "# f-string"
      ],
      "metadata": {
        "id": "htxvEKUacszF"
      }
    },
    {
      "cell_type": "code",
      "source": [
        "name = 'whatwant'\n",
        "age = 48\n",
        "\n",
        "print(f\"Hello, {name}. You are {age}.\")\n",
        "print(f'name:20    - {name:20}')\n",
        "print(f'name:>20   - {name:>20}')\n",
        "print(f'name:*<20  - {name:*<20}')\n",
        "print(f'name:*>20  - {name:*>20}')\n",
        "print(f'name:*^20  - {name:*^20}')\n",
        "\n",
        "number = 3.141592653589793\n",
        "print(f'number:.2f - {number:.2f}') # 소숫점 2째자리"
      ],
      "metadata": {
        "colab": {
          "base_uri": "https://localhost:8080/"
        },
        "id": "sl5An9iMcupt",
        "outputId": "ae8a1b8b-1f70-4e42-9009-c652c0a7ebe6"
      },
      "execution_count": 6,
      "outputs": [
        {
          "output_type": "stream",
          "name": "stdout",
          "text": [
            "Hello, whatwant. You are 48.\n",
            "name:20    - whatwant            \n",
            "name:>20   -             whatwant\n",
            "name:*<20  - whatwant************\n",
            "name:*>20  - ************whatwant\n",
            "name:*^20  - ******whatwant******\n",
            "number:.2f - 3.14\n"
          ]
        }
      ]
    },
    {
      "cell_type": "markdown",
      "source": [
        "# all(), any()"
      ],
      "metadata": {
        "id": "XBtLXnfoiAyx"
      }
    },
    {
      "cell_type": "code",
      "source": [
        "boolean_list = [True, False, True, False, True]\n",
        "\n",
        "all_value = all(boolean_list)\n",
        "any_value = any(boolean_list)\n",
        "\n",
        "print(f'all : {all_value}')\n",
        "print(f'any : {any_value}')"
      ],
      "metadata": {
        "colab": {
          "base_uri": "https://localhost:8080/"
        },
        "id": "p3v21wv9iDKJ",
        "outputId": "ae6de103-37d2-4045-be22-29bec4f94475"
      },
      "execution_count": 7,
      "outputs": [
        {
          "output_type": "stream",
          "name": "stdout",
          "text": [
            "all : False\n",
            "any : True\n"
          ]
        }
      ]
    },
    {
      "cell_type": "markdown",
      "source": [
        "# raw string"
      ],
      "metadata": {
        "id": "YH6NbDbjsYbe"
      }
    },
    {
      "cell_type": "code",
      "source": [
        "print(r'글씨를 쓰다가 \\n 이걸 써도 줄이 안바뀐다')"
      ],
      "metadata": {
        "colab": {
          "base_uri": "https://localhost:8080/"
        },
        "id": "omkJTssQsan6",
        "outputId": "1decaed4-dfee-4ff8-e47d-f4713d37826c"
      },
      "execution_count": 8,
      "outputs": [
        {
          "output_type": "stream",
          "name": "stdout",
          "text": [
            "글씨를 쓰다가 \\n 이걸 써도 줄이 안바뀐다\n"
          ]
        }
      ]
    },
    {
      "cell_type": "markdown",
      "source": [
        "# swap"
      ],
      "metadata": {
        "id": "WMhBkB22vrAG"
      }
    },
    {
      "cell_type": "code",
      "source": [
        "def swap_value(x, y):\n",
        "  temp = x\n",
        "  x = y\n",
        "  y = temp\n",
        "\n",
        "ex = [1, 2, 3, 4, 5]\n",
        "\n",
        "# 값을 전달했기 때문에 바뀌지 않는다\n",
        "swap_value(ex[1], ex[2])\n",
        "\n",
        "print(ex)"
      ],
      "metadata": {
        "colab": {
          "base_uri": "https://localhost:8080/"
        },
        "id": "C9tvsv_7vtgU",
        "outputId": "8f6cffed-ce15-4d6c-b286-6b5a708131bc"
      },
      "execution_count": 9,
      "outputs": [
        {
          "output_type": "stream",
          "name": "stdout",
          "text": [
            "[1, 2, 3, 4, 5]\n"
          ]
        }
      ]
    },
    {
      "cell_type": "code",
      "source": [
        "def swap_offset(offset_x, offset_y):\n",
        "  temp = ex[offset_x]\n",
        "  ex[offset_x] = ex[offset_y]\n",
        "  ex[offset_y] = temp\n",
        "\n",
        "ex = [1, 2, 3, 4, 5]\n",
        "\n",
        "# 실제로 전역 변수 값을 직접 변경\n",
        "swap_offset(1, 2)\n",
        "\n",
        "print(ex)"
      ],
      "metadata": {
        "colab": {
          "base_uri": "https://localhost:8080/"
        },
        "id": "rM-i8QMcwa91",
        "outputId": "26573caf-aada-4873-e353-f55d89291444"
      },
      "execution_count": 10,
      "outputs": [
        {
          "output_type": "stream",
          "name": "stdout",
          "text": [
            "[1, 3, 2, 4, 5]\n"
          ]
        }
      ]
    },
    {
      "cell_type": "code",
      "source": [
        "def swap_reference(glist, offset_x, offset_y):\n",
        "  temp = glist[offset_x]\n",
        "  glist[offset_x] = glist[offset_y]\n",
        "  glist[offset_y] = temp\n",
        "\n",
        "ex = [1, 2, 3, 4, 5]\n",
        "\n",
        "# 객체의 주소값을 받아서 값을 변경\n",
        "swap_reference(ex, 1, 2)\n",
        "\n",
        "print(ex)"
      ],
      "metadata": {
        "colab": {
          "base_uri": "https://localhost:8080/"
        },
        "id": "HAziLyfFxEch",
        "outputId": "cd8af7b9-1d44-41ec-c62e-4b6c1f956871"
      },
      "execution_count": 11,
      "outputs": [
        {
          "output_type": "stream",
          "name": "stdout",
          "text": [
            "[1, 3, 2, 4, 5]\n"
          ]
        }
      ]
    },
    {
      "cell_type": "code",
      "source": [
        "def swap_reference_copy(list_ex, offset_x, offset_y):\n",
        "  list_temp = list_ex[:]        # list를 복사해서 처리\n",
        "  temp = list_temp[offset_x]\n",
        "  list_temp[offset_x] = list_temp[offset_y]\n",
        "  list_temp[offset_y] = temp\n",
        "\n",
        "ex = [1, 2, 3, 4, 5]\n",
        "\n",
        "# 전달한 list를 복사해서 처리하기에 값이 변하지 않음\n",
        "swap_reference_copy(ex, 1, 2)\n",
        "\n",
        "print(ex)"
      ],
      "metadata": {
        "colab": {
          "base_uri": "https://localhost:8080/"
        },
        "id": "YAwHgenTxrPm",
        "outputId": "981cdcb9-df3d-445c-8a07-cad5409df242"
      },
      "execution_count": 12,
      "outputs": [
        {
          "output_type": "stream",
          "name": "stdout",
          "text": [
            "[1, 2, 3, 4, 5]\n"
          ]
        }
      ]
    },
    {
      "cell_type": "markdown",
      "source": [
        "# function type hints"
      ],
      "metadata": {
        "id": "vRR6etQY0Yoh"
      }
    },
    {
      "cell_type": "code",
      "source": [
        "def type_hint_example(name: str) -> str:\n",
        "  return f'Hellp, {name}'\n",
        "\n",
        "type_hint_example('whatwant')"
      ],
      "metadata": {
        "colab": {
          "base_uri": "https://localhost:8080/",
          "height": 35
        },
        "id": "BvdLRDJZ0bpB",
        "outputId": "3b650404-f0ad-49c8-f208-f1c25b0ad649"
      },
      "execution_count": 13,
      "outputs": [
        {
          "output_type": "execute_result",
          "data": {
            "text/plain": [
              "'Hellp, whatwant'"
            ],
            "application/vnd.google.colaboratory.intrinsic+json": {
              "type": "string"
            }
          },
          "metadata": {},
          "execution_count": 13
        }
      ]
    },
    {
      "cell_type": "markdown",
      "source": [
        "# docstring"
      ],
      "metadata": {
        "id": "PGRriJcD1UFA"
      }
    },
    {
      "cell_type": "code",
      "source": [
        "def add_binary(a, b):\n",
        "    '''\n",
        "    Returns the sum of two decimal numbers in binary digits.\n",
        "\n",
        "            Parameters:\n",
        "                    a (int): A decimal integer\n",
        "                    b (int): Another decimal integer\n",
        "\n",
        "            Returns:\n",
        "                    binary_sum (str): Binary string of the sum of a and b\n",
        "    '''\n",
        "    binary_sum = bin(a+b)[2:]\n",
        "    return binary_sum\n",
        "\n",
        "print(add_binary.__doc__)"
      ],
      "metadata": {
        "colab": {
          "base_uri": "https://localhost:8080/"
        },
        "id": "bYWu72uc1WBn",
        "outputId": "54f36d6d-cb45-4f7f-ef95-3d9f415e63c4"
      },
      "execution_count": 14,
      "outputs": [
        {
          "output_type": "stream",
          "name": "stdout",
          "text": [
            "\n",
            "    Returns the sum of two decimal numbers in binary digits.\n",
            "\n",
            "            Parameters:\n",
            "                    a (int): A decimal integer\n",
            "                    b (int): Another decimal integer\n",
            "\n",
            "            Returns:\n",
            "                    binary_sum (str): Binary string of the sum of a and b\n",
            "    \n"
          ]
        }
      ]
    },
    {
      "cell_type": "markdown",
      "source": [
        "# tuple"
      ],
      "metadata": {
        "id": "KOm4xd0L7OFt"
      }
    },
    {
      "cell_type": "code",
      "source": [
        "t1 = (1)  # 정수로 인식\n",
        "t2 = (1,) # 값이 하나인 tuple은 반드시 \",\"를 붙여야 함\n",
        "\n",
        "print(f't1 = {t1}, type = {type(t1)}')\n",
        "print(f't2 = {t2}, type = {type(t2)}')"
      ],
      "metadata": {
        "colab": {
          "base_uri": "https://localhost:8080/"
        },
        "id": "coBCtrIN6_au",
        "outputId": "8230474e-0bf0-4b30-f5ea-7464bd3fea22"
      },
      "execution_count": 15,
      "outputs": [
        {
          "output_type": "stream",
          "name": "stdout",
          "text": [
            "t1 = 1, type = <class 'int'>\n",
            "t2 = (1,), type = <class 'tuple'>\n"
          ]
        }
      ]
    },
    {
      "cell_type": "markdown",
      "source": [
        "# set"
      ],
      "metadata": {
        "id": "-a_WrGl98buE"
      }
    },
    {
      "cell_type": "code",
      "source": [
        "s = set([3, 1, 2, 2, 3])   # s = {3, 1, 2, 2, 3}\n",
        "print(s)                   # {1, 2, 3}\n",
        "\n",
        "s.add(1)\n",
        "print(s)                   # {1, 2, 3}\n",
        "\n",
        "s.remove(1)\n",
        "print(s)                   # {2, 3}\n",
        "\n",
        "s.update([1, 4, 5, 6, 7])\n",
        "print(s)                   # {1, 2, 3, 4, 5, 6, 7}\n",
        "\n",
        "s.discard(3)\n",
        "print(s)                   # {1, 2, 4, 5, 6, 7}\n",
        "\n",
        "s.clear()\n",
        "print(s)                   # set()"
      ],
      "metadata": {
        "colab": {
          "base_uri": "https://localhost:8080/"
        },
        "id": "HH3m7XH68c9P",
        "outputId": "a944deca-e476-4d26-e942-404d203dee85"
      },
      "execution_count": 16,
      "outputs": [
        {
          "output_type": "stream",
          "name": "stdout",
          "text": [
            "{1, 2, 3}\n",
            "{1, 2, 3}\n",
            "{2, 3}\n",
            "{1, 2, 3, 4, 5, 6, 7}\n",
            "{1, 2, 4, 5, 6, 7}\n",
            "set()\n"
          ]
        }
      ]
    },
    {
      "cell_type": "code",
      "source": [
        "s1 = {1, 2, 3, 4, 5}\n",
        "s2 = {3, 4, 5, 6, 7}\n",
        "\n",
        "s = s1.union(s2)\n",
        "print(s)                # {1, 2, 3, 4, 5, 6, 7}\n",
        "\n",
        "s = s1 | s2\n",
        "print(s)                # {1, 2, 3, 4, 5, 6, 7}\n",
        "\n",
        "s = s1.intersection(s2)\n",
        "print(s)                # {3, 4, 5}\n",
        "\n",
        "s = s1 & s2\n",
        "print(s)                # {3, 4, 5}\n",
        "\n",
        "s = s1.difference(s2)\n",
        "print(s)                # {1, 2}\n",
        "\n",
        "s = s1 - s2\n",
        "print(s)                # {1, 2}"
      ],
      "metadata": {
        "colab": {
          "base_uri": "https://localhost:8080/"
        },
        "id": "yjX-uXXR9s5M",
        "outputId": "9746cdc1-6527-456d-8d10-e87598f4d2aa"
      },
      "execution_count": 17,
      "outputs": [
        {
          "output_type": "stream",
          "name": "stdout",
          "text": [
            "{1, 2, 3, 4, 5, 6, 7}\n",
            "{1, 2, 3, 4, 5, 6, 7}\n",
            "{3, 4, 5}\n",
            "{3, 4, 5}\n",
            "{1, 2}\n",
            "{1, 2}\n"
          ]
        }
      ]
    },
    {
      "cell_type": "markdown",
      "source": [
        "# list comprehension"
      ],
      "metadata": {
        "id": "yUONB9OuG1gO"
      }
    },
    {
      "cell_type": "code",
      "source": [
        "result = []\n",
        "for i in range(10):\n",
        "  result.append(i)\n",
        "\n",
        "print(result)\n",
        "\n",
        "result = [i for i in range(10)]\n",
        "\n",
        "print(result)"
      ],
      "metadata": {
        "colab": {
          "base_uri": "https://localhost:8080/"
        },
        "id": "3-XYGLFQG4Pz",
        "outputId": "23cfaa6c-e9b1-4ea1-c4cc-27c2328d249e"
      },
      "execution_count": 18,
      "outputs": [
        {
          "output_type": "stream",
          "name": "stdout",
          "text": [
            "[0, 1, 2, 3, 4, 5, 6, 7, 8, 9]\n",
            "[0, 1, 2, 3, 4, 5, 6, 7, 8, 9]\n"
          ]
        }
      ]
    },
    {
      "cell_type": "code",
      "source": [
        "case_1 = ['A', 'B', 'C']\n",
        "case_2 = ['D', 'E', 'F']\n",
        "\n",
        "result = [i+j for i in case_1 for j in case_2]\n",
        "\n",
        "print(result)"
      ],
      "metadata": {
        "colab": {
          "base_uri": "https://localhost:8080/"
        },
        "id": "aFLg1XDeII--",
        "outputId": "3c82ae11-dde1-4de7-d913-ab234a42c6ca"
      },
      "execution_count": 19,
      "outputs": [
        {
          "output_type": "stream",
          "name": "stdout",
          "text": [
            "['AD', 'AE', 'AF', 'BD', 'BE', 'BF', 'CD', 'CE', 'CF']\n"
          ]
        }
      ]
    },
    {
      "cell_type": "code",
      "source": [
        "case_1 = ['A', 'B', 'C']\n",
        "case_2 = ['D', 'E', 'F']\n",
        "\n",
        "result = [[i+j for i in case_1] for j in case_2]\n",
        "\n",
        "print(result)"
      ],
      "metadata": {
        "colab": {
          "base_uri": "https://localhost:8080/"
        },
        "id": "V0TSDVlJIhq5",
        "outputId": "02eb1cbc-34d5-401f-bb54-1e93b0f81394"
      },
      "execution_count": 20,
      "outputs": [
        {
          "output_type": "stream",
          "name": "stdout",
          "text": [
            "[['AD', 'BD', 'CD'], ['AE', 'BE', 'CE'], ['AF', 'BF', 'CF']]\n"
          ]
        }
      ]
    },
    {
      "cell_type": "code",
      "source": [
        "case_1 = ['A', 'B', 'C']\n",
        "case_2 = ['D', 'E', 'F']\n",
        "\n",
        "result = [[i+j for i in case_1 if i != 'A'] for j in case_2]\n",
        "\n",
        "print(result)"
      ],
      "metadata": {
        "colab": {
          "base_uri": "https://localhost:8080/"
        },
        "id": "Fx-tVRT-Ivww",
        "outputId": "c2714a2c-11e4-472d-e11c-2b36fe716fe9"
      },
      "execution_count": 21,
      "outputs": [
        {
          "output_type": "stream",
          "name": "stdout",
          "text": [
            "[['BD', 'CD'], ['BE', 'CE'], ['BF', 'CF']]\n"
          ]
        }
      ]
    },
    {
      "cell_type": "code",
      "source": [
        "data_list = [0, 1, 2, 3, 4, 5]\n",
        "\n",
        "def f(x):\n",
        "  return x ** 5\n",
        "\n",
        "result = [f(value) for value in data_list]\n",
        "\n",
        "print(f(2))\n",
        "print(result)"
      ],
      "metadata": {
        "colab": {
          "base_uri": "https://localhost:8080/"
        },
        "id": "B7J_2ZqiS-Up",
        "outputId": "eff29156-bf7b-4d05-829e-ced6320b9353"
      },
      "execution_count": 22,
      "outputs": [
        {
          "output_type": "stream",
          "name": "stdout",
          "text": [
            "32\n",
            "[0, 1, 32, 243, 1024, 3125]\n"
          ]
        }
      ]
    },
    {
      "cell_type": "markdown",
      "source": [
        "# zip"
      ],
      "metadata": {
        "id": "BnC_WteSKSox"
      }
    },
    {
      "cell_type": "code",
      "source": [
        "math = (100, 90, 80)\n",
        "kor = (90, 90, 70)\n",
        "eng = (90, 80, 70)\n",
        "\n",
        "for value in zip(math, kor, eng):\n",
        "  print(value)   # 열로 묶어줌"
      ],
      "metadata": {
        "colab": {
          "base_uri": "https://localhost:8080/"
        },
        "id": "3BEBxrjlKUKR",
        "outputId": "c03fcca9-9d33-4b7d-ab7d-de4aa8d3e5aa"
      },
      "execution_count": 23,
      "outputs": [
        {
          "output_type": "stream",
          "name": "stdout",
          "text": [
            "(100, 90, 90)\n",
            "(90, 90, 80)\n",
            "(80, 70, 70)\n"
          ]
        }
      ]
    },
    {
      "cell_type": "code",
      "source": [
        "result = [sum(value) / 3 for value in zip(math, kor, eng)]\n",
        "\n",
        "math_avg, kor_avg, eng_avg = result\n",
        "print(f'{math_avg:.2f}, {kor_avg:.2f}, {eng_avg:.2f}')"
      ],
      "metadata": {
        "colab": {
          "base_uri": "https://localhost:8080/"
        },
        "id": "JoczGW38KpRb",
        "outputId": "e88e12f9-fe85-4ab4-f800-355a0133f81e"
      },
      "execution_count": 24,
      "outputs": [
        {
          "output_type": "stream",
          "name": "stdout",
          "text": [
            "93.33, 86.67, 73.33\n"
          ]
        }
      ]
    },
    {
      "cell_type": "markdown",
      "source": [
        "# lambda function"
      ],
      "metadata": {
        "id": "pB-DZFV9TUyJ"
      }
    },
    {
      "cell_type": "code",
      "source": [
        "def f(x, y):\n",
        "    return x + y\n",
        "\n",
        "print(f(1,4))"
      ],
      "metadata": {
        "colab": {
          "base_uri": "https://localhost:8080/"
        },
        "id": "C_rRU-5hTXjv",
        "outputId": "aa2afa1c-c964-4bca-b948-839b36c8c319"
      },
      "execution_count": 25,
      "outputs": [
        {
          "output_type": "stream",
          "name": "stdout",
          "text": [
            "5\n"
          ]
        }
      ]
    },
    {
      "cell_type": "code",
      "source": [
        "f = lambda x, y : x + y\n",
        "\n",
        "print(f(1,4))"
      ],
      "metadata": {
        "colab": {
          "base_uri": "https://localhost:8080/"
        },
        "id": "2teRTwYiTegC",
        "outputId": "722f637b-5973-4f6c-e736-78287a957862"
      },
      "execution_count": 26,
      "outputs": [
        {
          "output_type": "stream",
          "name": "stdout",
          "text": [
            "5\n"
          ]
        }
      ]
    },
    {
      "cell_type": "code",
      "source": [
        "print( (lambda x, y : x + y)(1, 4) )"
      ],
      "metadata": {
        "colab": {
          "base_uri": "https://localhost:8080/"
        },
        "id": "I_tgKUcfT0nQ",
        "outputId": "f0005935-95ae-43f0-9548-b87dc0b22b02"
      },
      "execution_count": 27,
      "outputs": [
        {
          "output_type": "stream",
          "name": "stdout",
          "text": [
            "5\n"
          ]
        }
      ]
    },
    {
      "cell_type": "markdown",
      "source": [
        "# map"
      ],
      "metadata": {
        "id": "fuzpwhqhU5bA"
      }
    },
    {
      "cell_type": "code",
      "source": [
        "ex = [1, 2, 3, 4, 5]\n",
        "\n",
        "f = lambda x, y : x + y\n",
        "\n",
        "print( list( map(f, ex, ex)))"
      ],
      "metadata": {
        "colab": {
          "base_uri": "https://localhost:8080/"
        },
        "id": "ynJxs2MlU6yz",
        "outputId": "1eee950b-3354-44bd-8e2f-e89dc2c8a97d"
      },
      "execution_count": 28,
      "outputs": [
        {
          "output_type": "stream",
          "name": "stdout",
          "text": [
            "[2, 4, 6, 8, 10]\n"
          ]
        }
      ]
    },
    {
      "cell_type": "code",
      "source": [
        "result = list(\n",
        "    map(\n",
        "        lambda x : x ** 2 if x % 2 == 0\n",
        "        else x,\n",
        "        ex\n",
        "    )\n",
        ")\n",
        "\n",
        "print(result)"
      ],
      "metadata": {
        "colab": {
          "base_uri": "https://localhost:8080/"
        },
        "id": "m336QxFGU_jB",
        "outputId": "e58b5e5d-8aad-4f87-b144-a2b033661fc2"
      },
      "execution_count": 29,
      "outputs": [
        {
          "output_type": "stream",
          "name": "stdout",
          "text": [
            "[1, 4, 3, 16, 5]\n"
          ]
        }
      ]
    },
    {
      "cell_type": "code",
      "source": [
        "f = lambda x : x ** 2 if x % 2 == 0 else x\n",
        "\n",
        "result = list( map(f, ex))\n",
        "\n",
        "print(result)"
      ],
      "metadata": {
        "colab": {
          "base_uri": "https://localhost:8080/"
        },
        "id": "kRIcDGz-VtED",
        "outputId": "82b92844-549d-4b4f-fa8d-81a4aed7c20a"
      },
      "execution_count": 30,
      "outputs": [
        {
          "output_type": "stream",
          "name": "stdout",
          "text": [
            "[1, 4, 3, 16, 5]\n"
          ]
        }
      ]
    },
    {
      "cell_type": "code",
      "source": [
        "f = lambda x : x ** 2 if x % 2 == 0 else x\n",
        "\n",
        "result = [f(value) for value in ex]\n",
        "\n",
        "print(result)"
      ],
      "metadata": {
        "colab": {
          "base_uri": "https://localhost:8080/"
        },
        "id": "1Hlu0xBwV_Fm",
        "outputId": "752ce95f-a45f-41bd-c191-4d6617e02dd1"
      },
      "execution_count": 31,
      "outputs": [
        {
          "output_type": "stream",
          "name": "stdout",
          "text": [
            "[1, 4, 3, 16, 5]\n"
          ]
        }
      ]
    },
    {
      "cell_type": "code",
      "source": [
        "result = [value ** 2 if value % 2 == 0 else value for value in ex]\n",
        "\n",
        "print(result)"
      ],
      "metadata": {
        "colab": {
          "base_uri": "https://localhost:8080/"
        },
        "id": "0w63Hr1jWXVz",
        "outputId": "04f52b94-1c70-4e0b-fda5-8da84272b7e0"
      },
      "execution_count": 32,
      "outputs": [
        {
          "output_type": "stream",
          "name": "stdout",
          "text": [
            "[1, 4, 3, 16, 5]\n"
          ]
        }
      ]
    },
    {
      "cell_type": "markdown",
      "source": [
        "# iterable object"
      ],
      "metadata": {
        "id": "TFXevNFLYA2L"
      }
    },
    {
      "cell_type": "code",
      "source": [
        "cities = ['Seoul', 'Busan', 'Jeju']\n",
        "\n",
        "iter_obj = iter(cities)\n",
        "\n",
        "print(next(iter_obj))\n",
        "print(next(iter_obj))\n",
        "print(next(iter_obj))"
      ],
      "metadata": {
        "colab": {
          "base_uri": "https://localhost:8080/"
        },
        "id": "mfOeF5szYDBV",
        "outputId": "180a97b2-11ef-4e8a-a30c-d553bdc32b43"
      },
      "execution_count": 33,
      "outputs": [
        {
          "output_type": "stream",
          "name": "stdout",
          "text": [
            "Seoul\n",
            "Busan\n",
            "Jeju\n"
          ]
        }
      ]
    },
    {
      "cell_type": "markdown",
      "source": [
        "# generator"
      ],
      "metadata": {
        "id": "TWaoZo5IZQTl"
      }
    },
    {
      "cell_type": "code",
      "source": [
        "def general_list(value):\n",
        "  result = []\n",
        "  for i in range(value):\n",
        "    result.append(i)\n",
        "  return result\n",
        "\n",
        "result = general_list(5)\n",
        "\n",
        "print(result)\n",
        "\n",
        "import sys\n",
        "size = sys.getsizeof(result)\n",
        "\n",
        "print(size)"
      ],
      "metadata": {
        "colab": {
          "base_uri": "https://localhost:8080/"
        },
        "id": "vOGCd8b2ZRs_",
        "outputId": "71f98656-22a0-4374-d820-532271f1b154"
      },
      "execution_count": 34,
      "outputs": [
        {
          "output_type": "stream",
          "name": "stdout",
          "text": [
            "[0, 1, 2, 3, 4]\n",
            "120\n"
          ]
        }
      ]
    },
    {
      "cell_type": "code",
      "source": [
        "def generator_list(value):\n",
        "  result = []\n",
        "  for i in range(value):\n",
        "    yield i\n",
        "\n",
        "for value in generator_list(5):\n",
        "  print(value)\n",
        "\n",
        "size = sys.getsizeof(generator_list(5))\n",
        "\n",
        "print(size)"
      ],
      "metadata": {
        "colab": {
          "base_uri": "https://localhost:8080/"
        },
        "id": "R2SshkEoZiqF",
        "outputId": "aab477cf-a115-498a-bb4e-fc2c4d8786f3"
      },
      "execution_count": 35,
      "outputs": [
        {
          "output_type": "stream",
          "name": "stdout",
          "text": [
            "0\n",
            "1\n",
            "2\n",
            "3\n",
            "4\n",
            "112\n"
          ]
        }
      ]
    },
    {
      "cell_type": "markdown",
      "source": [
        "# generator comprehension"
      ],
      "metadata": {
        "id": "Kp2BbLEFa6su"
      }
    },
    {
      "cell_type": "code",
      "source": [
        "gen_ex = (n*n for n in range(500))\n",
        "\n",
        "print(type(gen_ex))"
      ],
      "metadata": {
        "colab": {
          "base_uri": "https://localhost:8080/"
        },
        "id": "rvlJKlrra9Wv",
        "outputId": "1941122d-7d47-4439-ab0b-549d698b7e0b"
      },
      "execution_count": 36,
      "outputs": [
        {
          "output_type": "stream",
          "name": "stdout",
          "text": [
            "<class 'generator'>\n"
          ]
        }
      ]
    },
    {
      "cell_type": "markdown",
      "source": [
        "# keyword arguments"
      ],
      "metadata": {
        "id": "1_YCb_tAhSsi"
      }
    },
    {
      "cell_type": "code",
      "source": [
        "def print_something(my_name, your_name):\n",
        "  print(f'Hello {your_name}, My name is {my_name}')\n",
        "\n",
        "print_something('whatwant', 'sally')\n",
        "print_something(your_name='sally', my_name='whatwant')"
      ],
      "metadata": {
        "colab": {
          "base_uri": "https://localhost:8080/"
        },
        "id": "KFl6w2cyhVIx",
        "outputId": "2e8f3677-bb42-48c6-f794-d2c71d09f6e2"
      },
      "execution_count": 37,
      "outputs": [
        {
          "output_type": "stream",
          "name": "stdout",
          "text": [
            "Hello sally, My name is whatwant\n",
            "Hello sally, My name is whatwant\n"
          ]
        }
      ]
    },
    {
      "cell_type": "markdown",
      "source": [
        "# default arguments"
      ],
      "metadata": {
        "id": "8pQUxRNwh5x1"
      }
    },
    {
      "cell_type": "code",
      "source": [
        "def print_something(my_name, your_name='sally'):\n",
        "  print(f'Hello {your_name}, My name is {my_name}')\n",
        "\n",
        "print_something('whatwant')\n",
        "print_something('whatwant', 'chani')"
      ],
      "metadata": {
        "colab": {
          "base_uri": "https://localhost:8080/"
        },
        "id": "o1VLLjlOh8OS",
        "outputId": "e8491b47-9594-4e41-e382-ad35e6cbf0ca"
      },
      "execution_count": 38,
      "outputs": [
        {
          "output_type": "stream",
          "name": "stdout",
          "text": [
            "Hello sally, My name is whatwant\n",
            "Hello chani, My name is whatwant\n"
          ]
        }
      ]
    },
    {
      "cell_type": "markdown",
      "source": [
        "# variable-length parameters"
      ],
      "metadata": {
        "id": "Tz7NbRLFi0uz"
      }
    },
    {
      "cell_type": "code",
      "source": [
        "def asterisk_test(a, b, *args):\n",
        "  return a+b+sum(args)\n",
        "\n",
        "print(asterisk_test(1, 2, 3, 4, 5))"
      ],
      "metadata": {
        "colab": {
          "base_uri": "https://localhost:8080/"
        },
        "id": "JqdItHJPi3aR",
        "outputId": "a5d3bd49-9c1d-4680-973d-e148460fd450"
      },
      "execution_count": 39,
      "outputs": [
        {
          "output_type": "stream",
          "name": "stdout",
          "text": [
            "15\n"
          ]
        }
      ]
    },
    {
      "cell_type": "code",
      "source": [
        "def asterisk_test(*args):\n",
        "  x, y, z = args\n",
        "  return x, y, z\n",
        "\n",
        "print(asterisk_test(1, 2, 3))"
      ],
      "metadata": {
        "colab": {
          "base_uri": "https://localhost:8080/"
        },
        "id": "HTo4JN9VjWX7",
        "outputId": "bfd15256-e484-4b99-bca3-aca08abb9f52"
      },
      "execution_count": 40,
      "outputs": [
        {
          "output_type": "stream",
          "name": "stdout",
          "text": [
            "(1, 2, 3)\n"
          ]
        }
      ]
    },
    {
      "cell_type": "markdown",
      "source": [
        "# keyword variable-length parameters"
      ],
      "metadata": {
        "id": "PtjwfTG7j64k"
      }
    },
    {
      "cell_type": "code",
      "source": [
        "def kwargs_test_1(**kwargs):\n",
        "  print(kwargs)\n",
        "\n",
        "kwargs_test_1(first=1, second=2, third=3)"
      ],
      "metadata": {
        "colab": {
          "base_uri": "https://localhost:8080/"
        },
        "id": "MVRwh1v9j9xv",
        "outputId": "8ba833e6-62cf-43fc-9ac3-719af0742bc4"
      },
      "execution_count": 41,
      "outputs": [
        {
          "output_type": "stream",
          "name": "stdout",
          "text": [
            "{'first': 1, 'second': 2, 'third': 3}\n"
          ]
        }
      ]
    },
    {
      "cell_type": "code",
      "source": [
        "def kwargs_test_2(one, two=3, *args, **kwargs):\n",
        "  print(one+two+sum(args))\n",
        "  print(args)\n",
        "  print(kwargs)\n",
        "\n",
        "kwargs_test_2(one=10, first=3, second=4, third=5)"
      ],
      "metadata": {
        "colab": {
          "base_uri": "https://localhost:8080/"
        },
        "id": "6FrIP22akM3p",
        "outputId": "1e09e607-8af5-4c05-b5f4-1c755add1158"
      },
      "execution_count": 42,
      "outputs": [
        {
          "output_type": "stream",
          "name": "stdout",
          "text": [
            "13\n",
            "()\n",
            "{'first': 3, 'second': 4, 'third': 5}\n"
          ]
        }
      ]
    },
    {
      "cell_type": "code",
      "source": [
        "def kwargs_test_3(one, two=3, *args, **kwargs):\n",
        "  print(one)\n",
        "  print(two)\n",
        "  print(args)\n",
        "  print(kwargs)\n",
        "\n",
        "kwargs_test_3(10, 30, 3, 4, 5, 6, first=3, second=4, third=5)"
      ],
      "metadata": {
        "colab": {
          "base_uri": "https://localhost:8080/"
        },
        "id": "NpHMbKjHlGKs",
        "outputId": "e469e133-0b1d-4587-af68-a112bd969bc1"
      },
      "execution_count": 43,
      "outputs": [
        {
          "output_type": "stream",
          "name": "stdout",
          "text": [
            "10\n",
            "30\n",
            "(3, 4, 5, 6)\n",
            "{'first': 3, 'second': 4, 'third': 5}\n"
          ]
        }
      ]
    },
    {
      "cell_type": "markdown",
      "source": [
        "# asterisk - unpacking a container"
      ],
      "metadata": {
        "id": "Vz0SB40Ilytv"
      }
    },
    {
      "cell_type": "code",
      "source": [
        "def asterisk_test(a, *args):  # *를 만나면 unpacking이 된다.\n",
        "  print(a, args)\n",
        "  print(type(args))\n",
        "\n",
        "asterisk_test(1, *(2, 3, 4, 5, 6))"
      ],
      "metadata": {
        "colab": {
          "base_uri": "https://localhost:8080/"
        },
        "id": "52HOlzOkl3W9",
        "outputId": "84781f69-f2c2-432b-b967-e2636355269c"
      },
      "execution_count": 44,
      "outputs": [
        {
          "output_type": "stream",
          "name": "stdout",
          "text": [
            "1 (2, 3, 4, 5, 6)\n",
            "<class 'tuple'>\n"
          ]
        }
      ]
    },
    {
      "cell_type": "code",
      "source": [
        "def asterisk_test(a, args):\n",
        "  print(a, *args)\n",
        "  print(type(args))\n",
        "\n",
        "asterisk_test(1, (2, 3, 4, 5, 6))"
      ],
      "metadata": {
        "colab": {
          "base_uri": "https://localhost:8080/"
        },
        "id": "AKZF6oLvmIdJ",
        "outputId": "8ed9c565-8f98-4927-f635-02bd7db7e469"
      },
      "execution_count": 45,
      "outputs": [
        {
          "output_type": "stream",
          "name": "stdout",
          "text": [
            "1 2 3 4 5 6\n",
            "<class 'tuple'>\n"
          ]
        }
      ]
    },
    {
      "cell_type": "code",
      "source": [
        "print([1, 2, 3, 4])\n",
        "print(*[1, 2, 3, 4])"
      ],
      "metadata": {
        "colab": {
          "base_uri": "https://localhost:8080/"
        },
        "id": "o9opE9aHmpZY",
        "outputId": "68e9b928-349a-4826-f0f9-92194ceffb7f"
      },
      "execution_count": 46,
      "outputs": [
        {
          "output_type": "stream",
          "name": "stdout",
          "text": [
            "[1, 2, 3, 4]\n",
            "1 2 3 4\n"
          ]
        }
      ]
    },
    {
      "cell_type": "code",
      "source": [
        "a, b, *c = (14, 21, 25, 39, 46, 57)\n",
        "\n",
        "print(c)"
      ],
      "metadata": {
        "colab": {
          "base_uri": "https://localhost:8080/"
        },
        "id": "bsokzu3OSVLL",
        "outputId": "b929a663-8446-4969-d24f-08250f154f68"
      },
      "execution_count": 47,
      "outputs": [
        {
          "output_type": "stream",
          "name": "stdout",
          "text": [
            "[25, 39, 46, 57]\n"
          ]
        }
      ]
    },
    {
      "cell_type": "markdown",
      "source": [
        "# casting"
      ],
      "metadata": {
        "id": "AVAlmBPiOi_y"
      }
    },
    {
      "cell_type": "code",
      "source": [
        "a = 10\n",
        "float(a)\n",
        "\n",
        "print(type(a))"
      ],
      "metadata": {
        "colab": {
          "base_uri": "https://localhost:8080/"
        },
        "id": "05UcC7HwOlSd",
        "outputId": "fc0162da-f457-41c5-8aab-d6a1a1047d8d"
      },
      "execution_count": 48,
      "outputs": [
        {
          "output_type": "stream",
          "name": "stdout",
          "text": [
            "<class 'int'>\n"
          ]
        }
      ]
    },
    {
      "cell_type": "markdown",
      "source": [
        "# print format"
      ],
      "metadata": {
        "id": "bcsl54JPO1P4"
      }
    },
    {
      "cell_type": "code",
      "source": [
        "name = 'Apple'\n",
        "price = 5600\n",
        "number = 7\n",
        "\n",
        "print('{2}, {1}, {0}'.format(number, name, price))"
      ],
      "metadata": {
        "colab": {
          "base_uri": "https://localhost:8080/"
        },
        "id": "lOdNLGMGOzz3",
        "outputId": "73fee2e2-6493-4033-933f-fa6797a95fed"
      },
      "execution_count": 49,
      "outputs": [
        {
          "output_type": "stream",
          "name": "stdout",
          "text": [
            "5600, Apple, 7\n"
          ]
        }
      ]
    },
    {
      "cell_type": "markdown",
      "source": [
        "# string slice"
      ],
      "metadata": {
        "id": "cekZUPTvPSsw"
      }
    },
    {
      "cell_type": "code",
      "source": [
        "test_list = [0, 1, 2, 3, 4, 5]\n",
        "\n",
        "print(test_list[1::2])\n",
        "print(test_list[1:2])"
      ],
      "metadata": {
        "colab": {
          "base_uri": "https://localhost:8080/"
        },
        "id": "zNLSISZ7PUMA",
        "outputId": "7adbf102-fd1e-42cd-9812-eb9a152d661b"
      },
      "execution_count": 50,
      "outputs": [
        {
          "output_type": "stream",
          "name": "stdout",
          "text": [
            "[1, 3, 5]\n",
            "[1]\n"
          ]
        }
      ]
    },
    {
      "cell_type": "code",
      "source": [
        "test_list = ['치킨', '피자', '삼겹살', '족발', '초밥', '소주']\n",
        "\n",
        "for data in test_list[::2]:\n",
        "  if len(data) == 3:\n",
        "    print(data)"
      ],
      "metadata": {
        "colab": {
          "base_uri": "https://localhost:8080/"
        },
        "id": "c7N1MoyWQvR4",
        "outputId": "b7d0c48f-fb27-469c-9358-48f2eabe96c9"
      },
      "execution_count": 51,
      "outputs": [
        {
          "output_type": "stream",
          "name": "stdout",
          "text": [
            "삼겹살\n"
          ]
        }
      ]
    },
    {
      "cell_type": "code",
      "source": [
        "test_list = [0, 1, 2, 3, 4, 5]\n",
        "\n",
        "for data in test_list[::2]:\n",
        "  print(data)"
      ],
      "metadata": {
        "colab": {
          "base_uri": "https://localhost:8080/"
        },
        "id": "IstZfNvgRBfm",
        "outputId": "234d0770-c65b-472e-a05b-38d28ca16d23"
      },
      "execution_count": 52,
      "outputs": [
        {
          "output_type": "stream",
          "name": "stdout",
          "text": [
            "0\n",
            "2\n",
            "4\n"
          ]
        }
      ]
    },
    {
      "cell_type": "markdown",
      "source": [
        "# function, local variable"
      ],
      "metadata": {
        "id": "CPsxwWstRf2S"
      }
    },
    {
      "cell_type": "code",
      "source": [
        "def print_greedings(t):\n",
        "  t = 'Hello.'\n",
        "  print('In Fn :', t)\n",
        "\n",
        "x = 'Hi.'\n",
        "\n",
        "print_greedings(x)\n",
        "print('Out Fn :', x)"
      ],
      "metadata": {
        "colab": {
          "base_uri": "https://localhost:8080/"
        },
        "id": "6ygC1tQXRjMZ",
        "outputId": "ae1f8b26-8381-4258-b69e-5ff6c0c49524"
      },
      "execution_count": 53,
      "outputs": [
        {
          "output_type": "stream",
          "name": "stdout",
          "text": [
            "In Fn : Hello.\n",
            "Out Fn : Hi.\n"
          ]
        }
      ]
    },
    {
      "cell_type": "markdown",
      "source": [
        "# string replace"
      ],
      "metadata": {
        "id": "kS95V0wpSCMW"
      }
    },
    {
      "cell_type": "code",
      "source": [
        "string = '#You #Only #Live #Once'\n",
        "\n",
        "print(string.replace('#', ''))"
      ],
      "metadata": {
        "colab": {
          "base_uri": "https://localhost:8080/"
        },
        "id": "cfgaS5q7SEDR",
        "outputId": "cb6e6878-4bd9-40d3-a2ef-e8afde722b01"
      },
      "execution_count": 54,
      "outputs": [
        {
          "output_type": "stream",
          "name": "stdout",
          "text": [
            "You Only Live Once\n"
          ]
        }
      ]
    }
  ]
}