{
  "nbformat": 4,
  "nbformat_minor": 0,
  "metadata": {
    "colab": {
      "provenance": []
    },
    "kernelspec": {
      "name": "python3",
      "display_name": "Python 3"
    },
    "language_info": {
      "name": "python"
    }
  },
  "cells": [
    {
      "cell_type": "code",
      "execution_count": 1,
      "metadata": {
        "id": "SPEJK3nXp8qH"
      },
      "outputs": [],
      "source": [
        "import numpy as np\n",
        "import torch"
      ]
    },
    {
      "cell_type": "code",
      "source": [
        "x_train = torch.FloatTensor([[1], [2], [3]])\n",
        "y_train = torch.FloatTensor([[1], [2], [3]])"
      ],
      "metadata": {
        "id": "IZVuGINwqssA"
      },
      "execution_count": 2,
      "outputs": []
    },
    {
      "cell_type": "code",
      "source": [
        "W = torch.zeros(1)\n",
        "\n",
        "lr = 0.1\n",
        "epochs = 10"
      ],
      "metadata": {
        "id": "2yqqBdbPqJQS"
      },
      "execution_count": 3,
      "outputs": []
    },
    {
      "cell_type": "code",
      "source": [
        "for epoch in range(epochs + 1):\n",
        "  hypothesis = W * x_train\n",
        "\n",
        "  cost = torch.mean((hypothesis - y_train) ** 2)\n",
        "  gradient = torch.sum((W * x_train - y_train) * x_train)\n",
        "\n",
        "  print(f'Epoch {epoch:4d}/{epochs} W: {W.item():.3f}, Cost: {cost.item():.6f}')\n",
        "\n",
        "  W -= lr * gradient"
      ],
      "metadata": {
        "colab": {
          "base_uri": "https://localhost:8080/"
        },
        "id": "peBBWKj5t5Mc",
        "outputId": "348bc92a-6983-4ec2-c67d-4b713a469804"
      },
      "execution_count": 4,
      "outputs": [
        {
          "output_type": "stream",
          "name": "stdout",
          "text": [
            "Epoch    0/10 W: 0.000, Cost: 4.666667\n",
            "Epoch    1/10 W: 1.400, Cost: 0.746666\n",
            "Epoch    2/10 W: 0.840, Cost: 0.119467\n",
            "Epoch    3/10 W: 1.064, Cost: 0.019115\n",
            "Epoch    4/10 W: 0.974, Cost: 0.003058\n",
            "Epoch    5/10 W: 1.010, Cost: 0.000489\n",
            "Epoch    6/10 W: 0.996, Cost: 0.000078\n",
            "Epoch    7/10 W: 1.002, Cost: 0.000013\n",
            "Epoch    8/10 W: 0.999, Cost: 0.000002\n",
            "Epoch    9/10 W: 1.000, Cost: 0.000000\n",
            "Epoch   10/10 W: 1.000, Cost: 0.000000\n"
          ]
        }
      ]
    },
    {
      "cell_type": "code",
      "source": [
        "sample = 4\n",
        "prediction = W * sample\n",
        "\n",
        "prediction"
      ],
      "metadata": {
        "colab": {
          "base_uri": "https://localhost:8080/"
        },
        "id": "mhGEvijGtddc",
        "outputId": "f61aa8bd-15c3-401c-b0e6-56b094ef80e6"
      },
      "execution_count": 5,
      "outputs": [
        {
          "output_type": "execute_result",
          "data": {
            "text/plain": [
              "tensor([4.0002])"
            ]
          },
          "metadata": {},
          "execution_count": 5
        }
      ]
    },
    {
      "cell_type": "markdown",
      "source": [
        "## torch.optim으로 gradient descent 하기"
      ],
      "metadata": {
        "id": "riTpJA7gvzPQ"
      }
    },
    {
      "cell_type": "code",
      "source": [
        "x_train = torch.FloatTensor([[1], [2], [3]])\n",
        "y_train = torch.FloatTensor([[1], [2], [3]])\n",
        "\n",
        "W = torch.zeros(1, requires_grad=True)\n",
        "\n",
        "optimizer = torch.optim.SGD([W], lr=0.15)\n",
        "epochs = 10\n",
        "\n",
        "for epoch in range(epochs + 1):\n",
        "  hypothesis = W * x_train\n",
        "\n",
        "  cost = torch.mean((hypothesis - y_train) ** 2)\n",
        "\n",
        "  print(f'Epoch {epoch:4d}/{epochs} W: {W.item():.3f}, Cost: {cost.item():.6f}')\n",
        "\n",
        "  optimizer.zero_grad()\n",
        "  cost.backward()\n",
        "  optimizer.step()"
      ],
      "metadata": {
        "colab": {
          "base_uri": "https://localhost:8080/"
        },
        "id": "NTReKhwwvxI-",
        "outputId": "0056345b-ebee-4939-cdb4-26cd30c4a612"
      },
      "execution_count": 6,
      "outputs": [
        {
          "output_type": "stream",
          "name": "stdout",
          "text": [
            "Epoch    0/10 W: 0.000, Cost: 4.666667\n",
            "Epoch    1/10 W: 1.400, Cost: 0.746667\n",
            "Epoch    2/10 W: 0.840, Cost: 0.119467\n",
            "Epoch    3/10 W: 1.064, Cost: 0.019115\n",
            "Epoch    4/10 W: 0.974, Cost: 0.003058\n",
            "Epoch    5/10 W: 1.010, Cost: 0.000489\n",
            "Epoch    6/10 W: 0.996, Cost: 0.000078\n",
            "Epoch    7/10 W: 1.002, Cost: 0.000013\n",
            "Epoch    8/10 W: 0.999, Cost: 0.000002\n",
            "Epoch    9/10 W: 1.000, Cost: 0.000000\n",
            "Epoch   10/10 W: 1.000, Cost: 0.000000\n"
          ]
        }
      ]
    },
    {
      "cell_type": "code",
      "source": [
        "sample = 4\n",
        "prediction = W * sample\n",
        "\n",
        "prediction"
      ],
      "metadata": {
        "colab": {
          "base_uri": "https://localhost:8080/"
        },
        "id": "9yJlW8eAxBlm",
        "outputId": "7500b92f-f092-407b-d02a-868e681d5972"
      },
      "execution_count": 7,
      "outputs": [
        {
          "output_type": "execute_result",
          "data": {
            "text/plain": [
              "tensor([4.0002], grad_fn=<MulBackward0>)"
            ]
          },
          "metadata": {},
          "execution_count": 7
        }
      ]
    }
  ]
}