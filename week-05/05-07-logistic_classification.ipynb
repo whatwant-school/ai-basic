{
  "cells": [
    {
      "cell_type": "markdown",
      "metadata": {
        "id": "xB__amCJbwHO"
      },
      "source": [
        "# Lab 5: Logistic Classification"
      ]
    },
    {
      "cell_type": "markdown",
      "metadata": {
        "id": "Zh4QeeX0bwHP"
      },
      "source": [
        "Author: Seungjae Lee (이승재)"
      ]
    },
    {
      "cell_type": "markdown",
      "metadata": {
        "id": "jTJx5yd_bwHP"
      },
      "source": [
        "<div class=\"alert alert-warning\">\n",
        "    We use elemental PyTorch to implement linear regression here. However, in most actual applications, abstractions such as <code>nn.Module</code> or <code>nn.Linear</code> are used. You can see those implementations near the end of this notebook.\n",
        "</div>"
      ]
    },
    {
      "cell_type": "markdown",
      "metadata": {
        "id": "8-EhCEQDbwHP"
      },
      "source": [
        "## Reminder: Logistic Regression"
      ]
    },
    {
      "cell_type": "markdown",
      "metadata": {
        "id": "3zXgcvslbwHP"
      },
      "source": [
        "### Hypothesis"
      ]
    },
    {
      "cell_type": "markdown",
      "metadata": {
        "id": "bjyoRdWCbwHQ"
      },
      "source": [
        "$$ H(X) = \\frac{1}{1+e^{-W^T X}} $$"
      ]
    },
    {
      "cell_type": "markdown",
      "metadata": {
        "id": "0945xuBBbwHQ"
      },
      "source": [
        "### Cost"
      ]
    },
    {
      "cell_type": "markdown",
      "metadata": {
        "id": "mUNeIcLbbwHQ"
      },
      "source": [
        "$$ cost(W) = -\\frac{1}{m} \\sum y \\log\\left(H(x)\\right) + (1-y) \\left( \\log(1-H(x) \\right) $$"
      ]
    },
    {
      "cell_type": "markdown",
      "metadata": {
        "id": "ZYXdkM68bwHQ"
      },
      "source": [
        " - If $y \\simeq H(x)$, cost is near 0.\n",
        " - If $y \\neq H(x)$, cost is high."
      ]
    },
    {
      "cell_type": "markdown",
      "metadata": {
        "id": "HsaNCWJObwHQ"
      },
      "source": [
        "### Weight Update via Gradient Descent"
      ]
    },
    {
      "cell_type": "markdown",
      "metadata": {
        "id": "dLof0cQ7bwHQ"
      },
      "source": [
        "$$ W := W - \\alpha \\frac{\\partial}{\\partial W} cost(W) $$"
      ]
    },
    {
      "cell_type": "markdown",
      "metadata": {
        "id": "-EbYuyUdbwHQ"
      },
      "source": [
        " - $\\alpha$: Learning rate"
      ]
    },
    {
      "cell_type": "markdown",
      "metadata": {
        "id": "sgyOkk2CbwHR"
      },
      "source": [
        "## Imports"
      ]
    },
    {
      "cell_type": "code",
      "execution_count": 1,
      "metadata": {
        "id": "t3UK2gD_bwHR"
      },
      "outputs": [],
      "source": [
        "import torch\n",
        "import torch.nn as nn\n",
        "import torch.nn.functional as F\n",
        "import torch.optim as optim"
      ]
    },
    {
      "cell_type": "code",
      "execution_count": 2,
      "metadata": {
        "colab": {
          "base_uri": "https://localhost:8080/"
        },
        "id": "6dLIhuVobwHR",
        "outputId": "e96a9383-f9e6-4950-9243-fa576353eb50"
      },
      "outputs": [
        {
          "output_type": "execute_result",
          "data": {
            "text/plain": [
              "<torch._C.Generator at 0x7fbf80731ad0>"
            ]
          },
          "metadata": {},
          "execution_count": 2
        }
      ],
      "source": [
        "# For reproducibility\n",
        "torch.manual_seed(1)"
      ]
    },
    {
      "cell_type": "markdown",
      "metadata": {
        "id": "T7SqjV1kbwHS"
      },
      "source": [
        "## Training Data"
      ]
    },
    {
      "cell_type": "code",
      "execution_count": 3,
      "metadata": {
        "id": "GCSL1khibwHS"
      },
      "outputs": [],
      "source": [
        "x_data = [[1, 2], [2, 3], [3, 1], [4, 3], [5, 3], [6, 2]]\n",
        "y_data = [[0], [0], [0], [1], [1], [1]]"
      ]
    },
    {
      "cell_type": "markdown",
      "metadata": {
        "id": "53vwn9E0bwHS"
      },
      "source": [
        "Consider the following classification problem: given the number of hours each student spent watching the lecture and working in the code lab, predict whether the student passed or failed a course. For example, the first (index 0) student watched the lecture for 1 hour and spent 2 hours in the lab session ([1, 2]), and ended up failing the course ([0])."
      ]
    },
    {
      "cell_type": "code",
      "execution_count": 4,
      "metadata": {
        "id": "vl-bDw2EbwHS"
      },
      "outputs": [],
      "source": [
        "x_train = torch.FloatTensor(x_data)\n",
        "y_train = torch.FloatTensor(y_data)"
      ]
    },
    {
      "cell_type": "markdown",
      "metadata": {
        "id": "ercaXOVTbwHS"
      },
      "source": [
        "As always, we need these data to be in `torch.Tensor` format, so we convert them."
      ]
    },
    {
      "cell_type": "code",
      "execution_count": 5,
      "metadata": {
        "colab": {
          "base_uri": "https://localhost:8080/"
        },
        "id": "S0ZVa7bvbwHT",
        "outputId": "9404ce9a-1bdd-44ad-84e1-f4cc7d3ca74e"
      },
      "outputs": [
        {
          "output_type": "stream",
          "name": "stdout",
          "text": [
            "torch.Size([6, 2])\n",
            "torch.Size([6, 1])\n"
          ]
        }
      ],
      "source": [
        "print(x_train.shape)\n",
        "print(y_train.shape)"
      ]
    },
    {
      "cell_type": "markdown",
      "metadata": {
        "id": "_i1upiXTbwHT"
      },
      "source": [
        "## Computing the Hypothesis"
      ]
    },
    {
      "cell_type": "markdown",
      "metadata": {
        "id": "Bxh0E38ZbwHT"
      },
      "source": [
        "$$ H(X) = \\frac{1}{1+e^{-W^T X}} $$"
      ]
    },
    {
      "cell_type": "markdown",
      "metadata": {
        "id": "riTtcK4VbwHT"
      },
      "source": [
        "PyTorch has a `torch.exp()` function that resembles the exponential function."
      ]
    },
    {
      "cell_type": "code",
      "execution_count": 6,
      "metadata": {
        "colab": {
          "base_uri": "https://localhost:8080/"
        },
        "id": "-VL5Oz-HbwHT",
        "outputId": "329b9316-a08d-4ca1-d9d5-8afe2cadbea9"
      },
      "outputs": [
        {
          "output_type": "stream",
          "name": "stdout",
          "text": [
            "e^1 equals:  tensor([2.7183])\n"
          ]
        }
      ],
      "source": [
        "print('e^1 equals: ', torch.exp(torch.FloatTensor([1])))"
      ]
    },
    {
      "cell_type": "markdown",
      "metadata": {
        "id": "140nn5qMbwHT"
      },
      "source": [
        "We can use it to compute the hypothesis function conveniently."
      ]
    },
    {
      "cell_type": "code",
      "execution_count": 7,
      "metadata": {
        "id": "3FAWdV7RbwHT"
      },
      "outputs": [],
      "source": [
        "W = torch.zeros((2, 1), requires_grad=True)\n",
        "b = torch.zeros(1, requires_grad=True)"
      ]
    },
    {
      "cell_type": "code",
      "execution_count": 8,
      "metadata": {
        "id": "QpL3tmkrbwHU"
      },
      "outputs": [],
      "source": [
        "hypothesis = 1 / (1 + torch.exp(-(x_train.matmul(W) + b)))"
      ]
    },
    {
      "cell_type": "code",
      "execution_count": 9,
      "metadata": {
        "colab": {
          "base_uri": "https://localhost:8080/"
        },
        "id": "DLtl4cTWbwHU",
        "outputId": "d368501a-cbf2-4b1b-e633-0c150b4aa82e"
      },
      "outputs": [
        {
          "output_type": "stream",
          "name": "stdout",
          "text": [
            "tensor([[0.5000],\n",
            "        [0.5000],\n",
            "        [0.5000],\n",
            "        [0.5000],\n",
            "        [0.5000],\n",
            "        [0.5000]], grad_fn=<MulBackward0>)\n",
            "torch.Size([6, 1])\n"
          ]
        }
      ],
      "source": [
        "print(hypothesis)\n",
        "print(hypothesis.shape)"
      ]
    },
    {
      "cell_type": "markdown",
      "metadata": {
        "id": "gIGpZeQgbwHU"
      },
      "source": [
        "Or, we could use `torch.sigmoid()` function! This resembles the sigmoid function:"
      ]
    },
    {
      "cell_type": "code",
      "execution_count": 10,
      "metadata": {
        "colab": {
          "base_uri": "https://localhost:8080/"
        },
        "id": "Wwgadz6cbwHU",
        "outputId": "3f34ff5b-a829-4567-999d-969aa524b05a"
      },
      "outputs": [
        {
          "output_type": "stream",
          "name": "stdout",
          "text": [
            "1/(1+e^{-1}) equals:  tensor([0.7311])\n"
          ]
        }
      ],
      "source": [
        "print('1/(1+e^{-1}) equals: ', torch.sigmoid(torch.FloatTensor([1])))"
      ]
    },
    {
      "cell_type": "markdown",
      "metadata": {
        "id": "12-plJKpbwHU"
      },
      "source": [
        "Now, the code for hypothesis function is cleaner."
      ]
    },
    {
      "cell_type": "code",
      "execution_count": 11,
      "metadata": {
        "id": "yfArRYHNbwHU"
      },
      "outputs": [],
      "source": [
        "hypothesis = torch.sigmoid(x_train.matmul(W) + b)"
      ]
    },
    {
      "cell_type": "code",
      "execution_count": 12,
      "metadata": {
        "colab": {
          "base_uri": "https://localhost:8080/"
        },
        "id": "4o-8tBQ6bwHU",
        "outputId": "711a8dc2-eb10-4125-8dad-7872bc97f019"
      },
      "outputs": [
        {
          "output_type": "stream",
          "name": "stdout",
          "text": [
            "tensor([[0.5000],\n",
            "        [0.5000],\n",
            "        [0.5000],\n",
            "        [0.5000],\n",
            "        [0.5000],\n",
            "        [0.5000]], grad_fn=<SigmoidBackward0>)\n",
            "torch.Size([6, 1])\n"
          ]
        }
      ],
      "source": [
        "print(hypothesis)\n",
        "print(hypothesis.shape)"
      ]
    },
    {
      "cell_type": "markdown",
      "metadata": {
        "id": "Lb6pi8Q4bwHV"
      },
      "source": [
        "## Computing the Cost Function (Low-level)"
      ]
    },
    {
      "cell_type": "markdown",
      "metadata": {
        "id": "yocJtlrNbwHV"
      },
      "source": [
        "$$ cost(W) = -\\frac{1}{m} \\sum y \\log\\left(H(x)\\right) + (1-y) \\left( \\log(1-H(x) \\right) $$"
      ]
    },
    {
      "cell_type": "markdown",
      "metadata": {
        "id": "rizdM_PnbwHV"
      },
      "source": [
        "We want to measure the difference between `hypothesis` and `y_train`."
      ]
    },
    {
      "cell_type": "code",
      "execution_count": 13,
      "metadata": {
        "colab": {
          "base_uri": "https://localhost:8080/"
        },
        "id": "54AwK9XabwHV",
        "outputId": "c16c730f-911b-4645-b731-bd26fc7a319f"
      },
      "outputs": [
        {
          "output_type": "stream",
          "name": "stdout",
          "text": [
            "tensor([[0.5000],\n",
            "        [0.5000],\n",
            "        [0.5000],\n",
            "        [0.5000],\n",
            "        [0.5000],\n",
            "        [0.5000]], grad_fn=<SigmoidBackward0>)\n",
            "tensor([[0.],\n",
            "        [0.],\n",
            "        [0.],\n",
            "        [1.],\n",
            "        [1.],\n",
            "        [1.]])\n"
          ]
        }
      ],
      "source": [
        "print(hypothesis)\n",
        "print(y_train)"
      ]
    },
    {
      "cell_type": "markdown",
      "metadata": {
        "id": "0niqHIYPbwHV"
      },
      "source": [
        "For one element, the loss can be computed as follows:"
      ]
    },
    {
      "cell_type": "code",
      "execution_count": 14,
      "metadata": {
        "colab": {
          "base_uri": "https://localhost:8080/"
        },
        "id": "DXgoTQ5ZbwHV",
        "outputId": "a7f62a26-cb77-4671-bc13-cf2009d79bf9"
      },
      "outputs": [
        {
          "output_type": "execute_result",
          "data": {
            "text/plain": [
              "tensor([0.6931], grad_fn=<NegBackward0>)"
            ]
          },
          "metadata": {},
          "execution_count": 14
        }
      ],
      "source": [
        "-(y_train[0] * torch.log(hypothesis[0]) + (1 - y_train[0]) * torch.log(1 - hypothesis[0]))"
      ]
    },
    {
      "cell_type": "markdown",
      "metadata": {
        "id": "Sa_vlMwobwHV"
      },
      "source": [
        "To compute the losses for the entire batch, we can simply input the entire vector."
      ]
    },
    {
      "cell_type": "code",
      "execution_count": 15,
      "metadata": {
        "colab": {
          "base_uri": "https://localhost:8080/"
        },
        "id": "u0Ff5yQNbwHV",
        "outputId": "2ebed78e-38a9-4263-cb59-ba9505b8d905"
      },
      "outputs": [
        {
          "output_type": "stream",
          "name": "stdout",
          "text": [
            "tensor([[0.6931],\n",
            "        [0.6931],\n",
            "        [0.6931],\n",
            "        [0.6931],\n",
            "        [0.6931],\n",
            "        [0.6931]], grad_fn=<NegBackward0>)\n"
          ]
        }
      ],
      "source": [
        "losses = -(y_train * torch.log(hypothesis) + (1 - y_train) * torch.log(1 - hypothesis))\n",
        "print(losses)"
      ]
    },
    {
      "cell_type": "markdown",
      "metadata": {
        "id": "ocF1U32-bwHW"
      },
      "source": [
        "Then, we just `.mean()` to take the mean of these individual losses."
      ]
    },
    {
      "cell_type": "code",
      "execution_count": 16,
      "metadata": {
        "colab": {
          "base_uri": "https://localhost:8080/"
        },
        "id": "eyqSAncobwHW",
        "outputId": "3b4cc3c4-f93e-42ee-b08d-765bd46ee521"
      },
      "outputs": [
        {
          "output_type": "stream",
          "name": "stdout",
          "text": [
            "tensor(0.6931, grad_fn=<MeanBackward0>)\n"
          ]
        }
      ],
      "source": [
        "cost = losses.mean()\n",
        "print(cost)"
      ]
    },
    {
      "cell_type": "markdown",
      "metadata": {
        "id": "IH2Pq77EbwHW"
      },
      "source": [
        "## Computing the Cost Function with `F.binary_cross_entropy`"
      ]
    },
    {
      "cell_type": "markdown",
      "metadata": {
        "id": "Ih9MdbpzbwHW"
      },
      "source": [
        "In reality, binary classification is used so often that PyTorch has a simple function called `F.binary_cross_entropy` implemented to lighten the burden."
      ]
    },
    {
      "cell_type": "code",
      "execution_count": 17,
      "metadata": {
        "colab": {
          "base_uri": "https://localhost:8080/"
        },
        "id": "jsnUk4JLbwHW",
        "outputId": "39e687a7-e51c-47a1-e0f9-619ae7080f84"
      },
      "outputs": [
        {
          "output_type": "execute_result",
          "data": {
            "text/plain": [
              "tensor(0.6931, grad_fn=<BinaryCrossEntropyBackward0>)"
            ]
          },
          "metadata": {},
          "execution_count": 17
        }
      ],
      "source": [
        "F.binary_cross_entropy(hypothesis, y_train)"
      ]
    },
    {
      "cell_type": "markdown",
      "metadata": {
        "id": "rM3co680bwHW"
      },
      "source": [
        "## Training with Low-level Binary Cross Entropy Loss"
      ]
    },
    {
      "cell_type": "code",
      "execution_count": 18,
      "metadata": {
        "id": "3XQEvM6PbwHW"
      },
      "outputs": [],
      "source": [
        "x_data = [[1, 2], [2, 3], [3, 1], [4, 3], [5, 3], [6, 2]]\n",
        "y_data = [[0], [0], [0], [1], [1], [1]]\n",
        "x_train = torch.FloatTensor(x_data)\n",
        "y_train = torch.FloatTensor(y_data)"
      ]
    },
    {
      "cell_type": "code",
      "execution_count": 19,
      "metadata": {
        "colab": {
          "base_uri": "https://localhost:8080/"
        },
        "id": "UPqgE_l7bwHW",
        "outputId": "2fcbe664-a75c-4108-b212-9727430305d3"
      },
      "outputs": [
        {
          "output_type": "stream",
          "name": "stdout",
          "text": [
            "Epoch    0/1000 Cost: 0.693147\n",
            "Epoch  100/1000 Cost: 0.134722\n",
            "Epoch  200/1000 Cost: 0.080643\n",
            "Epoch  300/1000 Cost: 0.057900\n",
            "Epoch  400/1000 Cost: 0.045300\n",
            "Epoch  500/1000 Cost: 0.037261\n",
            "Epoch  600/1000 Cost: 0.031673\n",
            "Epoch  700/1000 Cost: 0.027556\n",
            "Epoch  800/1000 Cost: 0.024394\n",
            "Epoch  900/1000 Cost: 0.021888\n",
            "Epoch 1000/1000 Cost: 0.019852\n"
          ]
        }
      ],
      "source": [
        "# 모델 초기화\n",
        "W = torch.zeros((2, 1), requires_grad=True)\n",
        "b = torch.zeros(1, requires_grad=True)\n",
        "# optimizer 설정\n",
        "optimizer = optim.SGD([W, b], lr=1)\n",
        "\n",
        "nb_epochs = 1000\n",
        "for epoch in range(nb_epochs + 1):\n",
        "\n",
        "    # Cost 계산\n",
        "    hypothesis = torch.sigmoid(x_train.matmul(W) + b) # or .mm or @\n",
        "    cost = -(y_train * torch.log(hypothesis) + (1 - y_train) * torch.log(1 - hypothesis)).mean()\n",
        "\n",
        "    # cost로 H(x) 개선\n",
        "    optimizer.zero_grad()\n",
        "    cost.backward()\n",
        "    optimizer.step()\n",
        "\n",
        "    # 100번마다 로그 출력\n",
        "    if epoch % 100 == 0:\n",
        "        print('Epoch {:4d}/{} Cost: {:.6f}'.format(\n",
        "            epoch, nb_epochs, cost.item()\n",
        "        ))"
      ]
    },
    {
      "cell_type": "markdown",
      "metadata": {
        "id": "BzWP5bdXbwHX"
      },
      "source": [
        "## Training with `F.binary_cross_entropy`"
      ]
    },
    {
      "cell_type": "code",
      "execution_count": 20,
      "metadata": {
        "colab": {
          "base_uri": "https://localhost:8080/"
        },
        "id": "RxH5FtmPbwHX",
        "outputId": "93c4063c-799d-4142-fc66-87ecd1a27ade"
      },
      "outputs": [
        {
          "output_type": "stream",
          "name": "stdout",
          "text": [
            "Epoch    0/1000 Cost: 0.693147\n",
            "Epoch  100/1000 Cost: 0.134722\n",
            "Epoch  200/1000 Cost: 0.080643\n",
            "Epoch  300/1000 Cost: 0.057900\n",
            "Epoch  400/1000 Cost: 0.045300\n",
            "Epoch  500/1000 Cost: 0.037261\n",
            "Epoch  600/1000 Cost: 0.031672\n",
            "Epoch  700/1000 Cost: 0.027556\n",
            "Epoch  800/1000 Cost: 0.024394\n",
            "Epoch  900/1000 Cost: 0.021888\n",
            "Epoch 1000/1000 Cost: 0.019852\n"
          ]
        }
      ],
      "source": [
        "# 모델 초기화\n",
        "W = torch.zeros((2, 1), requires_grad=True)\n",
        "b = torch.zeros(1, requires_grad=True)\n",
        "# optimizer 설정\n",
        "optimizer = optim.SGD([W, b], lr=1)\n",
        "\n",
        "nb_epochs = 1000\n",
        "for epoch in range(nb_epochs + 1):\n",
        "\n",
        "    # Cost 계산\n",
        "    hypothesis = torch.sigmoid(x_train.matmul(W) + b) # or .mm or @\n",
        "    cost = F.binary_cross_entropy(hypothesis, y_train)\n",
        "\n",
        "    # cost로 H(x) 개선\n",
        "    optimizer.zero_grad()\n",
        "    cost.backward()\n",
        "    optimizer.step()\n",
        "\n",
        "    # 100번마다 로그 출력\n",
        "    if epoch % 100 == 0:\n",
        "        print('Epoch {:4d}/{} Cost: {:.6f}'.format(\n",
        "            epoch, nb_epochs, cost.item()\n",
        "        ))"
      ]
    },
    {
      "cell_type": "markdown",
      "metadata": {
        "id": "0wBLisWMbwHX"
      },
      "source": [
        "## Loading Real Data"
      ]
    },
    {
      "cell_type": "code",
      "execution_count": 21,
      "metadata": {
        "id": "fDd4fjZvbwHX"
      },
      "outputs": [],
      "source": [
        "import numpy as np"
      ]
    },
    {
      "cell_type": "code",
      "source": [
        "!wget https://raw.githubusercontent.com/seungjaeryanlee/dlzerotoall2/1f43837556bba6733e39e129c7de67d5eb5e9276/data-03-diabetes.csv"
      ],
      "metadata": {
        "colab": {
          "base_uri": "https://localhost:8080/"
        },
        "id": "sEZLx8BmcC3O",
        "outputId": "4922cfd6-4f41-422d-da9a-24e2470946a7"
      },
      "execution_count": 22,
      "outputs": [
        {
          "output_type": "stream",
          "name": "stdout",
          "text": [
            "--2023-02-26 20:36:36--  https://raw.githubusercontent.com/seungjaeryanlee/dlzerotoall2/1f43837556bba6733e39e129c7de67d5eb5e9276/data-03-diabetes.csv\n",
            "Resolving raw.githubusercontent.com (raw.githubusercontent.com)... 185.199.108.133, 185.199.109.133, 185.199.110.133, ...\n",
            "Connecting to raw.githubusercontent.com (raw.githubusercontent.com)|185.199.108.133|:443... connected.\n",
            "HTTP request sent, awaiting response... 200 OK\n",
            "Length: 53438 (52K) [text/plain]\n",
            "Saving to: ‘data-03-diabetes.csv.2’\n",
            "\n",
            "\rdata-03-diabetes.cs   0%[                    ]       0  --.-KB/s               \rdata-03-diabetes.cs 100%[===================>]  52.19K  --.-KB/s    in 0.007s  \n",
            "\n",
            "2023-02-26 20:36:36 (7.20 MB/s) - ‘data-03-diabetes.csv.2’ saved [53438/53438]\n",
            "\n"
          ]
        }
      ]
    },
    {
      "cell_type": "code",
      "execution_count": 23,
      "metadata": {
        "id": "UA4yInH6bwHX"
      },
      "outputs": [],
      "source": [
        "xy = np.loadtxt('data-03-diabetes.csv', delimiter=',', dtype=np.float32)\n",
        "x_data = xy[:, 0:-1]\n",
        "y_data = xy[:, [-1]]\n",
        "x_train = torch.FloatTensor(x_data)\n",
        "y_train = torch.FloatTensor(y_data)"
      ]
    },
    {
      "cell_type": "code",
      "execution_count": 24,
      "metadata": {
        "colab": {
          "base_uri": "https://localhost:8080/"
        },
        "id": "f366yJB2bwHX",
        "outputId": "3d3956fe-6414-4091-83c6-93f5c3755465"
      },
      "outputs": [
        {
          "output_type": "stream",
          "name": "stdout",
          "text": [
            "tensor([[-0.2941,  0.4874,  0.1803, -0.2929,  0.0000,  0.0015, -0.5312, -0.0333],\n",
            "        [-0.8824, -0.1457,  0.0820, -0.4141,  0.0000, -0.2072, -0.7669, -0.6667],\n",
            "        [-0.0588,  0.8392,  0.0492,  0.0000,  0.0000, -0.3055, -0.4927, -0.6333],\n",
            "        [-0.8824, -0.1055,  0.0820, -0.5354, -0.7778, -0.1624, -0.9240,  0.0000],\n",
            "        [ 0.0000,  0.3769, -0.3443, -0.2929, -0.6028,  0.2846,  0.8873, -0.6000]])\n",
            "tensor([[0.],\n",
            "        [1.],\n",
            "        [0.],\n",
            "        [1.],\n",
            "        [0.]])\n"
          ]
        }
      ],
      "source": [
        "print(x_train[0:5])\n",
        "print(y_train[0:5])"
      ]
    },
    {
      "cell_type": "markdown",
      "metadata": {
        "id": "CRZZN5CfbwHY"
      },
      "source": [
        "## Training with Real Data using low-level Binary Cross Entropy Loss"
      ]
    },
    {
      "cell_type": "code",
      "execution_count": 25,
      "metadata": {
        "colab": {
          "base_uri": "https://localhost:8080/"
        },
        "id": "r-s6sGxkbwHY",
        "outputId": "0d9b05cb-6b89-4ff9-e545-1cd9a4228baf"
      },
      "outputs": [
        {
          "output_type": "stream",
          "name": "stdout",
          "text": [
            "Epoch    0/100 Cost: 0.693147\n",
            "Epoch   10/100 Cost: 0.572727\n",
            "Epoch   20/100 Cost: 0.539493\n",
            "Epoch   30/100 Cost: 0.519708\n",
            "Epoch   40/100 Cost: 0.507066\n",
            "Epoch   50/100 Cost: 0.498539\n",
            "Epoch   60/100 Cost: 0.492549\n",
            "Epoch   70/100 Cost: 0.488209\n",
            "Epoch   80/100 Cost: 0.484985\n",
            "Epoch   90/100 Cost: 0.482543\n",
            "Epoch  100/100 Cost: 0.480661\n"
          ]
        }
      ],
      "source": [
        "# 모델 초기화\n",
        "W = torch.zeros((8, 1), requires_grad=True)\n",
        "b = torch.zeros(1, requires_grad=True)\n",
        "# optimizer 설정\n",
        "optimizer = optim.SGD([W, b], lr=1)\n",
        "\n",
        "nb_epochs = 100\n",
        "for epoch in range(nb_epochs + 1):\n",
        "\n",
        "    # Cost 계산\n",
        "    hypothesis = torch.sigmoid(x_train.matmul(W) + b) # or .mm or @\n",
        "    cost = -(y_train * torch.log(hypothesis) + (1 - y_train) * torch.log(1 - hypothesis)).mean()\n",
        "\n",
        "    # cost로 H(x) 개선\n",
        "    optimizer.zero_grad()\n",
        "    cost.backward()\n",
        "    optimizer.step()\n",
        "\n",
        "    # 10번마다 로그 출력\n",
        "    if epoch % 10 == 0:\n",
        "        print('Epoch {:4d}/{} Cost: {:.6f}'.format(\n",
        "            epoch, nb_epochs, cost.item()\n",
        "        ))"
      ]
    },
    {
      "cell_type": "markdown",
      "metadata": {
        "id": "QK0lWzhcbwHY"
      },
      "source": [
        "## Training with Real Data using `F.binary_cross_entropy`"
      ]
    },
    {
      "cell_type": "code",
      "execution_count": 26,
      "metadata": {
        "colab": {
          "base_uri": "https://localhost:8080/"
        },
        "id": "ZionyUNfbwHY",
        "outputId": "a603d2ed-0742-4e37-8877-5f77f7807e06"
      },
      "outputs": [
        {
          "output_type": "stream",
          "name": "stdout",
          "text": [
            "Epoch    0/100 Cost: 0.693147\n",
            "Epoch   10/100 Cost: 0.572727\n",
            "Epoch   20/100 Cost: 0.539493\n",
            "Epoch   30/100 Cost: 0.519708\n",
            "Epoch   40/100 Cost: 0.507066\n",
            "Epoch   50/100 Cost: 0.498539\n",
            "Epoch   60/100 Cost: 0.492549\n",
            "Epoch   70/100 Cost: 0.488209\n",
            "Epoch   80/100 Cost: 0.484985\n",
            "Epoch   90/100 Cost: 0.482543\n",
            "Epoch  100/100 Cost: 0.480661\n"
          ]
        }
      ],
      "source": [
        "# 모델 초기화\n",
        "W = torch.zeros((8, 1), requires_grad=True)\n",
        "b = torch.zeros(1, requires_grad=True)\n",
        "# optimizer 설정\n",
        "optimizer = optim.SGD([W, b], lr=1)\n",
        "\n",
        "nb_epochs = 100\n",
        "for epoch in range(nb_epochs + 1):\n",
        "\n",
        "    # Cost 계산\n",
        "    hypothesis = torch.sigmoid(x_train.matmul(W) + b) # or .mm or @\n",
        "    cost = F.binary_cross_entropy(hypothesis, y_train)\n",
        "\n",
        "    # cost로 H(x) 개선\n",
        "    optimizer.zero_grad()\n",
        "    cost.backward()\n",
        "    optimizer.step()\n",
        "\n",
        "    # 10번마다 로그 출력\n",
        "    if epoch % 10 == 0:\n",
        "        print('Epoch {:4d}/{} Cost: {:.6f}'.format(\n",
        "            epoch, nb_epochs, cost.item()\n",
        "        ))"
      ]
    },
    {
      "cell_type": "markdown",
      "metadata": {
        "id": "q7Nfsw8ybwHY"
      },
      "source": [
        "## Checking the Accuracy our our Model"
      ]
    },
    {
      "cell_type": "markdown",
      "metadata": {
        "id": "5XsXz0kmbwHY"
      },
      "source": [
        "After we finish training the model, we want to check how well our model fits the training set."
      ]
    },
    {
      "cell_type": "code",
      "execution_count": 27,
      "metadata": {
        "colab": {
          "base_uri": "https://localhost:8080/"
        },
        "id": "KxpXpIWpbwHY",
        "outputId": "c2557f67-2109-4777-bd00-07d6a98470ba"
      },
      "outputs": [
        {
          "output_type": "stream",
          "name": "stdout",
          "text": [
            "tensor([[0.4103],\n",
            "        [0.9242],\n",
            "        [0.2300],\n",
            "        [0.9411],\n",
            "        [0.1772]], grad_fn=<SliceBackward0>)\n"
          ]
        }
      ],
      "source": [
        "hypothesis = torch.sigmoid(x_train.matmul(W) + b)\n",
        "print(hypothesis[:5])"
      ]
    },
    {
      "cell_type": "markdown",
      "metadata": {
        "id": "bcmIZX6fbwHZ"
      },
      "source": [
        "We can change **hypothesis** (real number from 0 to 1) to **binary predictions** (either 0 or 1) by comparing them to 0.5."
      ]
    },
    {
      "cell_type": "code",
      "execution_count": 28,
      "metadata": {
        "colab": {
          "base_uri": "https://localhost:8080/"
        },
        "id": "DmN0YVXLbwHZ",
        "outputId": "bdf65e48-e4ba-4c97-f9b2-56dc0ff32ab0"
      },
      "outputs": [
        {
          "output_type": "stream",
          "name": "stdout",
          "text": [
            "tensor([[False],\n",
            "        [ True],\n",
            "        [False],\n",
            "        [ True],\n",
            "        [False]])\n"
          ]
        }
      ],
      "source": [
        "prediction = hypothesis >= torch.FloatTensor([0.5])\n",
        "print(prediction[:5])"
      ]
    },
    {
      "cell_type": "markdown",
      "metadata": {
        "id": "AHACW6eBbwHZ"
      },
      "source": [
        "Then, we compare it with the correct labels `y_train`."
      ]
    },
    {
      "cell_type": "code",
      "execution_count": 29,
      "metadata": {
        "colab": {
          "base_uri": "https://localhost:8080/"
        },
        "id": "3Rc5iMVzbwHZ",
        "outputId": "220034a2-944d-43df-b91e-ea4d3341413a"
      },
      "outputs": [
        {
          "output_type": "stream",
          "name": "stdout",
          "text": [
            "tensor([[False],\n",
            "        [ True],\n",
            "        [False],\n",
            "        [ True],\n",
            "        [False]])\n",
            "tensor([[0.],\n",
            "        [1.],\n",
            "        [0.],\n",
            "        [1.],\n",
            "        [0.]])\n"
          ]
        }
      ],
      "source": [
        "print(prediction[:5])\n",
        "print(y_train[:5])"
      ]
    },
    {
      "cell_type": "code",
      "execution_count": 30,
      "metadata": {
        "colab": {
          "base_uri": "https://localhost:8080/"
        },
        "id": "ajyGkVCJbwHZ",
        "outputId": "981d908a-6391-4925-ac36-d6a79e06560a"
      },
      "outputs": [
        {
          "output_type": "stream",
          "name": "stdout",
          "text": [
            "tensor([[True],\n",
            "        [True],\n",
            "        [True],\n",
            "        [True],\n",
            "        [True]])\n"
          ]
        }
      ],
      "source": [
        "correct_prediction = prediction.float() == y_train\n",
        "print(correct_prediction[:5])"
      ]
    },
    {
      "cell_type": "markdown",
      "metadata": {
        "id": "9ZNwRmW5bwHZ"
      },
      "source": [
        "Finally, we can calculate the accuracy by counting the number of correct predictions and dividng by total number of predictions."
      ]
    },
    {
      "cell_type": "code",
      "execution_count": 31,
      "metadata": {
        "colab": {
          "base_uri": "https://localhost:8080/"
        },
        "id": "rpsbgPLIbwHZ",
        "outputId": "075bf8cd-5d87-4254-bbd5-0588c3bdd289"
      },
      "outputs": [
        {
          "output_type": "stream",
          "name": "stdout",
          "text": [
            "The model has an accuracy of 76.68% for the training set.\n"
          ]
        }
      ],
      "source": [
        "accuracy = correct_prediction.sum().item() / len(correct_prediction)\n",
        "print('The model has an accuracy of {:2.2f}% for the training set.'.format(accuracy * 100))"
      ]
    },
    {
      "cell_type": "markdown",
      "metadata": {
        "id": "vNZHJPjybwHa"
      },
      "source": [
        "## Optional: High-level Implementation with `nn.Module`"
      ]
    },
    {
      "cell_type": "code",
      "execution_count": 32,
      "metadata": {
        "id": "YVqvpbb1bwHa"
      },
      "outputs": [],
      "source": [
        "class BinaryClassifier(nn.Module):\n",
        "    def __init__(self):\n",
        "        super().__init__()\n",
        "        self.linear = nn.Linear(8, 1)\n",
        "        self.sigmoid = nn.Sigmoid()\n",
        "\n",
        "    def forward(self, x):\n",
        "        return self.sigmoid(self.linear(x))"
      ]
    },
    {
      "cell_type": "code",
      "execution_count": 33,
      "metadata": {
        "id": "3kQWAQtBbwHa"
      },
      "outputs": [],
      "source": [
        "model = BinaryClassifier()"
      ]
    },
    {
      "cell_type": "code",
      "execution_count": 34,
      "metadata": {
        "colab": {
          "base_uri": "https://localhost:8080/"
        },
        "id": "gYfaUTmbbwHa",
        "outputId": "fc79d45c-8dc2-44e0-d3d8-1395741063db"
      },
      "outputs": [
        {
          "output_type": "stream",
          "name": "stdout",
          "text": [
            "Epoch    0/100 Cost: 0.704829 Accuracy 45.72%\n",
            "Epoch   10/100 Cost: 0.572392 Accuracy 67.59%\n",
            "Epoch   20/100 Cost: 0.539563 Accuracy 73.25%\n",
            "Epoch   30/100 Cost: 0.520041 Accuracy 75.89%\n",
            "Epoch   40/100 Cost: 0.507561 Accuracy 76.15%\n",
            "Epoch   50/100 Cost: 0.499125 Accuracy 76.42%\n",
            "Epoch   60/100 Cost: 0.493177 Accuracy 77.21%\n",
            "Epoch   70/100 Cost: 0.488846 Accuracy 76.81%\n",
            "Epoch   80/100 Cost: 0.485612 Accuracy 76.28%\n",
            "Epoch   90/100 Cost: 0.483146 Accuracy 76.55%\n",
            "Epoch  100/100 Cost: 0.481234 Accuracy 76.81%\n"
          ]
        }
      ],
      "source": [
        "# optimizer 설정\n",
        "optimizer = optim.SGD(model.parameters(), lr=1)\n",
        "\n",
        "nb_epochs = 100\n",
        "for epoch in range(nb_epochs + 1):\n",
        "\n",
        "    # H(x) 계산\n",
        "    hypothesis = model(x_train)\n",
        "\n",
        "    # cost 계산\n",
        "    cost = F.binary_cross_entropy(hypothesis, y_train)\n",
        "\n",
        "    # cost로 H(x) 개선\n",
        "    optimizer.zero_grad()\n",
        "    cost.backward()\n",
        "    optimizer.step()\n",
        "    \n",
        "    # 20번마다 로그 출력\n",
        "    if epoch % 10 == 0:\n",
        "        prediction = hypothesis >= torch.FloatTensor([0.5])\n",
        "        correct_prediction = prediction.float() == y_train\n",
        "        accuracy = correct_prediction.sum().item() / len(correct_prediction)\n",
        "        print('Epoch {:4d}/{} Cost: {:.6f} Accuracy {:2.2f}%'.format(\n",
        "            epoch, nb_epochs, cost.item(), accuracy * 100,\n",
        "        ))\n"
      ]
    }
  ],
  "metadata": {
    "kernelspec": {
      "display_name": "Python 3",
      "language": "python",
      "name": "python3"
    },
    "language_info": {
      "codemirror_mode": {
        "name": "ipython",
        "version": 3
      },
      "file_extension": ".py",
      "mimetype": "text/x-python",
      "name": "python",
      "nbconvert_exporter": "python",
      "pygments_lexer": "ipython3",
      "version": "3.7.0"
    },
    "colab": {
      "provenance": []
    }
  },
  "nbformat": 4,
  "nbformat_minor": 0
}