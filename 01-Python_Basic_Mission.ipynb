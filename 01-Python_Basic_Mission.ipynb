{
  "nbformat": 4,
  "nbformat_minor": 0,
  "metadata": {
    "colab": {
      "provenance": []
    },
    "kernelspec": {
      "name": "python3",
      "display_name": "Python 3"
    },
    "language_info": {
      "name": "python"
    }
  },
  "cells": [
    {
      "cell_type": "markdown",
      "source": [
        "# Q1. list"
      ],
      "metadata": {
        "id": "2tmWrgOJX5sM"
      }
    },
    {
      "cell_type": "code",
      "execution_count": 1,
      "metadata": {
        "colab": {
          "base_uri": "https://localhost:8080/"
        },
        "id": "AMOA4tOBXtP0",
        "outputId": "29cc799a-cf40-4788-bf26-16977abab568"
      },
      "outputs": [
        {
          "output_type": "stream",
          "name": "stdout",
          "text": [
            "[1, 5, 7, 15, 29]\n"
          ]
        }
      ],
      "source": [
        "num_list = [1, 5, 7, 15, 16, 22, 28, 29]\n",
        "\n",
        "def get_odd_num(num_list):\n",
        "  return [x for x in num_list if (x % 2) == 1]\n",
        "\n",
        "\n",
        "print(get_odd_num(num_list))"
      ]
    },
    {
      "cell_type": "markdown",
      "source": [
        "# Q2. string"
      ],
      "metadata": {
        "id": "WlbhqJfjb3Kd"
      }
    },
    {
      "cell_type": "code",
      "source": [
        "sentence = 'way a is there will a is there Where'\n",
        "\n",
        "def reverse_sencence(sentence):\n",
        "  return ' '.join(list(reversed(sentence.split())))\n",
        "\n",
        "print(reverse_sencence(sentence))"
      ],
      "metadata": {
        "colab": {
          "base_uri": "https://localhost:8080/"
        },
        "id": "TG1CuF_jb5hH",
        "outputId": "decca7c0-ced1-48ae-ca95-83f84260af06"
      },
      "execution_count": 2,
      "outputs": [
        {
          "output_type": "stream",
          "name": "stdout",
          "text": [
            "Where there is a will there is a way\n"
          ]
        }
      ]
    },
    {
      "cell_type": "markdown",
      "source": [
        "# Q3. tuple & list"
      ],
      "metadata": {
        "id": "I3bku2FreqMU"
      }
    },
    {
      "cell_type": "code",
      "source": [
        "score = [(100, 100), (95, 90), (55,60), (75, 80), (70, 70)]\n",
        "\n",
        "def get(score):\n",
        "  for idx, (mid, final) in enumerate(score):\n",
        "    print(f'{idx+1} 번, 평균 : {(mid+final)/2:.1f}')\n",
        "\n",
        "get(score)"
      ],
      "metadata": {
        "colab": {
          "base_uri": "https://localhost:8080/"
        },
        "id": "hivOT8VTeszi",
        "outputId": "4a9c7631-86cc-4c52-dadd-687195ad359e"
      },
      "execution_count": 3,
      "outputs": [
        {
          "output_type": "stream",
          "name": "stdout",
          "text": [
            "1 번, 평균 : 100.0\n",
            "2 번, 평균 : 92.5\n",
            "3 번, 평균 : 57.5\n",
            "4 번, 평균 : 77.5\n",
            "5 번, 평균 : 70.0\n"
          ]
        }
      ]
    },
    {
      "cell_type": "markdown",
      "source": [
        "# Q4. dictionary"
      ],
      "metadata": {
        "id": "WsHGjQMMg99Z"
      }
    },
    {
      "cell_type": "code",
      "source": [
        "dict_first = {'사과': 30, '배': 15, '감': 10, '포도': 10}\n",
        "dict_second = {'사과': 5, '감': 25, '배': 15, '귤': 25}\n",
        "\n",
        "def merge_dict(dict_first, dict_second):\n",
        "  dict_merge = dict_first.copy()\n",
        "\n",
        "  for key, value in dict_second.items():\n",
        "    if key in dict_first.keys():\n",
        "      dict_merge[key] += value\n",
        "    else:\n",
        "      dict_merge[key] = value\n",
        "\n",
        "  print(dict_merge)\n",
        "\n",
        "merge_dict(dict_first, dict_second)"
      ],
      "metadata": {
        "colab": {
          "base_uri": "https://localhost:8080/"
        },
        "id": "YXdJe9ZdhBU1",
        "outputId": "03644d1c-88e6-4078-f848-e30dd8146b25"
      },
      "execution_count": 4,
      "outputs": [
        {
          "output_type": "stream",
          "name": "stdout",
          "text": [
            "{'사과': 35, '배': 30, '감': 35, '포도': 10, '귤': 25}\n"
          ]
        }
      ]
    },
    {
      "cell_type": "markdown",
      "source": [
        "# Q5. string"
      ],
      "metadata": {
        "id": "ftXTHN6skp8P"
      }
    },
    {
      "cell_type": "code",
      "source": [
        "inputs = 'cat32dog16cow5'\n",
        "\n",
        "def find_string(inputs):\n",
        "  return ''.join([x if x < '0' or x > '9' else ' ' for x in inputs]).split()\n",
        "\n",
        "string_list = find_string(inputs)\n",
        "\n",
        "print(string_list)"
      ],
      "metadata": {
        "colab": {
          "base_uri": "https://localhost:8080/"
        },
        "id": "uJaVErQxkr1_",
        "outputId": "055b679f-9e80-48b1-c611-0f27d16783e9"
      },
      "execution_count": 5,
      "outputs": [
        {
          "output_type": "stream",
          "name": "stdout",
          "text": [
            "['cat', 'dog', 'cow']\n"
          ]
        }
      ]
    }
  ]
}